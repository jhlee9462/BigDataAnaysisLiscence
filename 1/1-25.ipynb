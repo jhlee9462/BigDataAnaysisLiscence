{
 "cells": [
  {
   "cell_type": "code",
   "id": "initial_id",
   "metadata": {
    "collapsed": true,
    "ExecuteTime": {
     "end_time": "2025-06-10T11:39:06.644369Z",
     "start_time": "2025-06-10T11:39:06.455257Z"
    }
   },
   "source": [
    "import pandas as pd\n",
    "\n",
    "df = pd.read_csv('https://raw.githubusercontent.com/Datamanim/datarepo/main/nba/nba.csv', encoding='latin', sep=';')\n",
    "df.head()"
   ],
   "outputs": [
    {
     "data": {
      "text/plain": [
       "   Rk             Player Pos  Age   Tm   G  GS    MP   FG   FGA  ...    FT%  \\\n",
       "0   1   Precious Achiuwa   C   22  TOR  73  28  23.6  3.6   8.3  ...  0.595   \n",
       "1   2       Steven Adams   C   28  MEM  76  75  26.3  2.8   5.1  ...  0.543   \n",
       "2   3        Bam Adebayo   C   24  MIA  56  56  32.6  7.3  13.0  ...  0.753   \n",
       "3   4       Santi Aldama  PF   21  MEM  32   0  11.3  1.7   4.1  ...  0.625   \n",
       "4   5  LaMarcus Aldridge   C   36  BRK  47  12  22.3  5.4   9.7  ...  0.873   \n",
       "\n",
       "   ORB  DRB   TRB  AST  STL  BLK  TOV   PF   PTS  \n",
       "0  2.0  4.5   6.5  1.1  0.5  0.6  1.2  2.1   9.1  \n",
       "1  4.6  5.4  10.0  3.4  0.9  0.8  1.5  2.0   6.9  \n",
       "2  2.4  7.6  10.1  3.4  1.4  0.8  2.6  3.1  19.1  \n",
       "3  1.0  1.7   2.7  0.7  0.2  0.3  0.5  1.1   4.1  \n",
       "4  1.6  3.9   5.5  0.9  0.3  1.0  0.9  1.7  12.9  \n",
       "\n",
       "[5 rows x 30 columns]"
      ],
      "text/html": [
       "<div>\n",
       "<style scoped>\n",
       "    .dataframe tbody tr th:only-of-type {\n",
       "        vertical-align: middle;\n",
       "    }\n",
       "\n",
       "    .dataframe tbody tr th {\n",
       "        vertical-align: top;\n",
       "    }\n",
       "\n",
       "    .dataframe thead th {\n",
       "        text-align: right;\n",
       "    }\n",
       "</style>\n",
       "<table border=\"1\" class=\"dataframe\">\n",
       "  <thead>\n",
       "    <tr style=\"text-align: right;\">\n",
       "      <th></th>\n",
       "      <th>Rk</th>\n",
       "      <th>Player</th>\n",
       "      <th>Pos</th>\n",
       "      <th>Age</th>\n",
       "      <th>Tm</th>\n",
       "      <th>G</th>\n",
       "      <th>GS</th>\n",
       "      <th>MP</th>\n",
       "      <th>FG</th>\n",
       "      <th>FGA</th>\n",
       "      <th>...</th>\n",
       "      <th>FT%</th>\n",
       "      <th>ORB</th>\n",
       "      <th>DRB</th>\n",
       "      <th>TRB</th>\n",
       "      <th>AST</th>\n",
       "      <th>STL</th>\n",
       "      <th>BLK</th>\n",
       "      <th>TOV</th>\n",
       "      <th>PF</th>\n",
       "      <th>PTS</th>\n",
       "    </tr>\n",
       "  </thead>\n",
       "  <tbody>\n",
       "    <tr>\n",
       "      <th>0</th>\n",
       "      <td>1</td>\n",
       "      <td>Precious Achiuwa</td>\n",
       "      <td>C</td>\n",
       "      <td>22</td>\n",
       "      <td>TOR</td>\n",
       "      <td>73</td>\n",
       "      <td>28</td>\n",
       "      <td>23.6</td>\n",
       "      <td>3.6</td>\n",
       "      <td>8.3</td>\n",
       "      <td>...</td>\n",
       "      <td>0.595</td>\n",
       "      <td>2.0</td>\n",
       "      <td>4.5</td>\n",
       "      <td>6.5</td>\n",
       "      <td>1.1</td>\n",
       "      <td>0.5</td>\n",
       "      <td>0.6</td>\n",
       "      <td>1.2</td>\n",
       "      <td>2.1</td>\n",
       "      <td>9.1</td>\n",
       "    </tr>\n",
       "    <tr>\n",
       "      <th>1</th>\n",
       "      <td>2</td>\n",
       "      <td>Steven Adams</td>\n",
       "      <td>C</td>\n",
       "      <td>28</td>\n",
       "      <td>MEM</td>\n",
       "      <td>76</td>\n",
       "      <td>75</td>\n",
       "      <td>26.3</td>\n",
       "      <td>2.8</td>\n",
       "      <td>5.1</td>\n",
       "      <td>...</td>\n",
       "      <td>0.543</td>\n",
       "      <td>4.6</td>\n",
       "      <td>5.4</td>\n",
       "      <td>10.0</td>\n",
       "      <td>3.4</td>\n",
       "      <td>0.9</td>\n",
       "      <td>0.8</td>\n",
       "      <td>1.5</td>\n",
       "      <td>2.0</td>\n",
       "      <td>6.9</td>\n",
       "    </tr>\n",
       "    <tr>\n",
       "      <th>2</th>\n",
       "      <td>3</td>\n",
       "      <td>Bam Adebayo</td>\n",
       "      <td>C</td>\n",
       "      <td>24</td>\n",
       "      <td>MIA</td>\n",
       "      <td>56</td>\n",
       "      <td>56</td>\n",
       "      <td>32.6</td>\n",
       "      <td>7.3</td>\n",
       "      <td>13.0</td>\n",
       "      <td>...</td>\n",
       "      <td>0.753</td>\n",
       "      <td>2.4</td>\n",
       "      <td>7.6</td>\n",
       "      <td>10.1</td>\n",
       "      <td>3.4</td>\n",
       "      <td>1.4</td>\n",
       "      <td>0.8</td>\n",
       "      <td>2.6</td>\n",
       "      <td>3.1</td>\n",
       "      <td>19.1</td>\n",
       "    </tr>\n",
       "    <tr>\n",
       "      <th>3</th>\n",
       "      <td>4</td>\n",
       "      <td>Santi Aldama</td>\n",
       "      <td>PF</td>\n",
       "      <td>21</td>\n",
       "      <td>MEM</td>\n",
       "      <td>32</td>\n",
       "      <td>0</td>\n",
       "      <td>11.3</td>\n",
       "      <td>1.7</td>\n",
       "      <td>4.1</td>\n",
       "      <td>...</td>\n",
       "      <td>0.625</td>\n",
       "      <td>1.0</td>\n",
       "      <td>1.7</td>\n",
       "      <td>2.7</td>\n",
       "      <td>0.7</td>\n",
       "      <td>0.2</td>\n",
       "      <td>0.3</td>\n",
       "      <td>0.5</td>\n",
       "      <td>1.1</td>\n",
       "      <td>4.1</td>\n",
       "    </tr>\n",
       "    <tr>\n",
       "      <th>4</th>\n",
       "      <td>5</td>\n",
       "      <td>LaMarcus Aldridge</td>\n",
       "      <td>C</td>\n",
       "      <td>36</td>\n",
       "      <td>BRK</td>\n",
       "      <td>47</td>\n",
       "      <td>12</td>\n",
       "      <td>22.3</td>\n",
       "      <td>5.4</td>\n",
       "      <td>9.7</td>\n",
       "      <td>...</td>\n",
       "      <td>0.873</td>\n",
       "      <td>1.6</td>\n",
       "      <td>3.9</td>\n",
       "      <td>5.5</td>\n",
       "      <td>0.9</td>\n",
       "      <td>0.3</td>\n",
       "      <td>1.0</td>\n",
       "      <td>0.9</td>\n",
       "      <td>1.7</td>\n",
       "      <td>12.9</td>\n",
       "    </tr>\n",
       "  </tbody>\n",
       "</table>\n",
       "<p>5 rows × 30 columns</p>\n",
       "</div>"
      ]
     },
     "execution_count": 5,
     "metadata": {},
     "output_type": "execute_result"
    }
   ],
   "execution_count": 5
  },
  {
   "metadata": {
    "ExecuteTime": {
     "end_time": "2025-06-10T11:41:00.543123Z",
     "start_time": "2025-06-10T11:41:00.535216Z"
    }
   },
   "cell_type": "code",
   "source": "print(round(df.loc[df['Tm'] == 'TOR']['Age'].mean(), 4))",
   "id": "22f07b4aae14b7b",
   "outputs": [
    {
     "name": "stdout",
     "output_type": "stream",
     "text": [
      "24.8696\n"
     ]
    }
   ],
   "execution_count": 9
  },
  {
   "metadata": {
    "ExecuteTime": {
     "end_time": "2025-06-10T11:43:22.080951Z",
     "start_time": "2025-06-10T11:43:22.068856Z"
    }
   },
   "cell_type": "code",
   "source": [
    "min_age = df['Age'].min()\n",
    "df.loc[df['Age'] == min_age].groupby('Pos').size().sort_values(ascending=False).index[0]"
   ],
   "id": "5ad5372a776f9cd",
   "outputs": [
    {
     "data": {
      "text/plain": [
       "'SG'"
      ]
     },
     "execution_count": 12,
     "metadata": {},
     "output_type": "execute_result"
    }
   ],
   "execution_count": 12
  },
  {
   "metadata": {
    "ExecuteTime": {
     "end_time": "2025-06-10T11:45:16.455192Z",
     "start_time": "2025-06-10T11:45:16.441787Z"
    }
   },
   "cell_type": "code",
   "source": [
    "df['first_name'] = df['Player'].apply(lambda x: x.lower().split(' ')[0])\n",
    "df['first_name'].value_counts().sort_values(ascending=False).head(1)"
   ],
   "id": "2d0794e4716f9001",
   "outputs": [
    {
     "data": {
      "text/plain": [
       "first_name\n",
       "justin    14\n",
       "Name: count, dtype: int64"
      ]
     },
     "execution_count": 18,
     "metadata": {},
     "output_type": "execute_result"
    }
   ],
   "execution_count": 18
  },
  {
   "metadata": {
    "ExecuteTime": {
     "end_time": "2025-06-10T11:46:12.715468Z",
     "start_time": "2025-06-10T11:46:12.696288Z"
    }
   },
   "cell_type": "code",
   "source": "df[['Pos', 'PTS']].groupby('Pos').mean()",
   "id": "a9e0c29ec0addb2e",
   "outputs": [
    {
     "data": {
      "text/plain": [
       "             PTS\n",
       "Pos             \n",
       "C       7.690769\n",
       "C-PF   12.850000\n",
       "PF      7.737500\n",
       "PF-SF   8.500000\n",
       "PG      8.325161\n",
       "PG-SG  22.000000\n",
       "SF      7.270253\n",
       "SF-SG   8.660000\n",
       "SG      7.810553\n",
       "SG-PG   9.525000\n",
       "SG-SF   7.360000"
      ],
      "text/html": [
       "<div>\n",
       "<style scoped>\n",
       "    .dataframe tbody tr th:only-of-type {\n",
       "        vertical-align: middle;\n",
       "    }\n",
       "\n",
       "    .dataframe tbody tr th {\n",
       "        vertical-align: top;\n",
       "    }\n",
       "\n",
       "    .dataframe thead th {\n",
       "        text-align: right;\n",
       "    }\n",
       "</style>\n",
       "<table border=\"1\" class=\"dataframe\">\n",
       "  <thead>\n",
       "    <tr style=\"text-align: right;\">\n",
       "      <th></th>\n",
       "      <th>PTS</th>\n",
       "    </tr>\n",
       "    <tr>\n",
       "      <th>Pos</th>\n",
       "      <th></th>\n",
       "    </tr>\n",
       "  </thead>\n",
       "  <tbody>\n",
       "    <tr>\n",
       "      <th>C</th>\n",
       "      <td>7.690769</td>\n",
       "    </tr>\n",
       "    <tr>\n",
       "      <th>C-PF</th>\n",
       "      <td>12.850000</td>\n",
       "    </tr>\n",
       "    <tr>\n",
       "      <th>PF</th>\n",
       "      <td>7.737500</td>\n",
       "    </tr>\n",
       "    <tr>\n",
       "      <th>PF-SF</th>\n",
       "      <td>8.500000</td>\n",
       "    </tr>\n",
       "    <tr>\n",
       "      <th>PG</th>\n",
       "      <td>8.325161</td>\n",
       "    </tr>\n",
       "    <tr>\n",
       "      <th>PG-SG</th>\n",
       "      <td>22.000000</td>\n",
       "    </tr>\n",
       "    <tr>\n",
       "      <th>SF</th>\n",
       "      <td>7.270253</td>\n",
       "    </tr>\n",
       "    <tr>\n",
       "      <th>SF-SG</th>\n",
       "      <td>8.660000</td>\n",
       "    </tr>\n",
       "    <tr>\n",
       "      <th>SG</th>\n",
       "      <td>7.810553</td>\n",
       "    </tr>\n",
       "    <tr>\n",
       "      <th>SG-PG</th>\n",
       "      <td>9.525000</td>\n",
       "    </tr>\n",
       "    <tr>\n",
       "      <th>SG-SF</th>\n",
       "      <td>7.360000</td>\n",
       "    </tr>\n",
       "  </tbody>\n",
       "</table>\n",
       "</div>"
      ]
     },
     "execution_count": 20,
     "metadata": {},
     "output_type": "execute_result"
    }
   ],
   "execution_count": 20
  },
  {
   "metadata": {
    "ExecuteTime": {
     "end_time": "2025-06-10T11:48:18.173481Z",
     "start_time": "2025-06-10T11:48:18.159715Z"
    }
   },
   "cell_type": "code",
   "source": "df.sort_values(['Tm', 'G'], ascending=False).groupby(['Tm']).head(1)['G'].mean()",
   "id": "7e1dfffd2005df36",
   "outputs": [
    {
     "data": {
      "text/plain": [
       "np.float64(77.51612903225806)"
      ]
     },
     "execution_count": 25,
     "metadata": {},
     "output_type": "execute_result"
    }
   ],
   "execution_count": 25
  },
  {
   "metadata": {
    "ExecuteTime": {
     "end_time": "2025-06-10T11:49:04.793502Z",
     "start_time": "2025-06-10T11:49:04.783885Z"
    }
   },
   "cell_type": "code",
   "source": "df.loc[(df['Tm'] == 'MIA') & ((df['Pos'] == 'C') | (df['Pos'] == 'PF'))]['MP'].mean()",
   "id": "bf01db7b308dd6da",
   "outputs": [
    {
     "data": {
      "text/plain": [
       "np.float64(16.7875)"
      ]
     },
     "execution_count": 27,
     "metadata": {},
     "output_type": "execute_result"
    }
   ],
   "execution_count": 27
  },
  {
   "metadata": {
    "ExecuteTime": {
     "end_time": "2025-06-10T11:49:41.968262Z",
     "start_time": "2025-06-10T11:49:41.957243Z"
    }
   },
   "cell_type": "code",
   "source": [
    "th = df['G'].mean() * 1.5\n",
    "df.loc[df['G'] >= th]['3P'].mean()"
   ],
   "id": "ebf7505322931653",
   "outputs": [
    {
     "data": {
      "text/plain": [
       "np.float64(1.3853658536585365)"
      ]
     },
     "execution_count": 29,
     "metadata": {},
     "output_type": "execute_result"
    }
   ],
   "execution_count": 29
  },
  {
   "metadata": {
    "ExecuteTime": {
     "end_time": "2025-06-10T11:50:40.664680Z",
     "start_time": "2025-06-10T11:50:40.652143Z"
    }
   },
   "cell_type": "code",
   "source": [
    "th = df['Age'].mean()\n",
    "aa = df.loc[df['Age'] >= th]['G'].mean()\n",
    "ua = df.loc[df['Age'] < th]['G'].mean()\n",
    "abs(aa - ua)"
   ],
   "id": "4201032cf288106a",
   "outputs": [
    {
     "data": {
      "text/plain": [
       "np.float64(3.787674551781862)"
      ]
     },
     "execution_count": 31,
     "metadata": {},
     "output_type": "execute_result"
    }
   ],
   "execution_count": 31
  },
  {
   "metadata": {
    "ExecuteTime": {
     "end_time": "2025-06-10T11:51:25.558310Z",
     "start_time": "2025-06-10T11:51:25.545887Z"
    }
   },
   "cell_type": "code",
   "source": "df[['Tm', 'Age']].groupby('Tm').mean().sort_values('Age').index[0]",
   "id": "af466cb861c445d7",
   "outputs": [
    {
     "data": {
      "text/plain": [
       "'MEM'"
      ]
     },
     "execution_count": 34,
     "metadata": {},
     "output_type": "execute_result"
    }
   ],
   "execution_count": 34
  },
  {
   "metadata": {
    "ExecuteTime": {
     "end_time": "2025-06-10T11:51:46.314591Z",
     "start_time": "2025-06-10T11:51:46.306465Z"
    }
   },
   "cell_type": "code",
   "source": "df.groupby('Pos')['MP'].mean()",
   "id": "8b2512e3a6e0c3be",
   "outputs": [
    {
     "data": {
      "text/plain": [
       "Pos\n",
       "C        16.990000\n",
       "C-PF     25.350000\n",
       "PF       17.937500\n",
       "PF-SF    27.300000\n",
       "PG       19.547742\n",
       "PG-SG    37.200000\n",
       "SF       17.514557\n",
       "SF-SG    20.340000\n",
       "SG       18.554271\n",
       "SG-PG    22.950000\n",
       "SG-SF    19.620000\n",
       "Name: MP, dtype: float64"
      ]
     },
     "execution_count": 36,
     "metadata": {},
     "output_type": "execute_result"
    }
   ],
   "execution_count": 36
  }
 ],
 "metadata": {
  "kernelspec": {
   "display_name": "Python 3",
   "language": "python",
   "name": "python3"
  },
  "language_info": {
   "codemirror_mode": {
    "name": "ipython",
    "version": 2
   },
   "file_extension": ".py",
   "mimetype": "text/x-python",
   "name": "python",
   "nbconvert_exporter": "python",
   "pygments_lexer": "ipython2",
   "version": "2.7.6"
  }
 },
 "nbformat": 4,
 "nbformat_minor": 5
}
