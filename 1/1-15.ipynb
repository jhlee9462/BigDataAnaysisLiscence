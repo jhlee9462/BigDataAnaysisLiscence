{
 "cells": [
  {
   "cell_type": "code",
   "id": "initial_id",
   "metadata": {
    "collapsed": true,
    "ExecuteTime": {
     "end_time": "2025-06-10T10:49:05.497658Z",
     "start_time": "2025-06-10T10:49:04.814792Z"
    }
   },
   "source": [
    "import pandas as pd\n",
    "\n",
    "df = pd.read_csv('https://raw.githubusercontent.com/Datamanim/datarepo/main/waters/train.csv')\n",
    "df.head()"
   ],
   "outputs": [
    {
     "data": {
      "text/plain": [
       "         ph    Hardness        Solids  Chloramines     Sulfate  Conductivity  \\\n",
       "0  7.918150  214.186611  23823.492888     7.290878  341.173322    411.424483   \n",
       "1  5.422446  205.266080  18542.957451     5.491963  306.702227    382.080129   \n",
       "2  7.341547  187.672402  21273.457066     7.784003         NaN    332.084293   \n",
       "3  9.056245  197.666301  17403.532167     7.688917  337.460176    414.766631   \n",
       "4  5.039374  142.860598  40829.353167     7.271543         NaN    386.803057   \n",
       "\n",
       "   Organic_carbon  Trihalomethanes  Turbidity  Potability  \n",
       "0       19.585002        25.057375   4.028958           0  \n",
       "1       10.504023        67.493450   2.911751           1  \n",
       "2       16.842334        55.019151   4.025644           0  \n",
       "3       15.349869        63.696746   3.319354           0  \n",
       "4       16.823773        52.297113   4.957420           0  "
      ],
      "text/html": [
       "<div>\n",
       "<style scoped>\n",
       "    .dataframe tbody tr th:only-of-type {\n",
       "        vertical-align: middle;\n",
       "    }\n",
       "\n",
       "    .dataframe tbody tr th {\n",
       "        vertical-align: top;\n",
       "    }\n",
       "\n",
       "    .dataframe thead th {\n",
       "        text-align: right;\n",
       "    }\n",
       "</style>\n",
       "<table border=\"1\" class=\"dataframe\">\n",
       "  <thead>\n",
       "    <tr style=\"text-align: right;\">\n",
       "      <th></th>\n",
       "      <th>ph</th>\n",
       "      <th>Hardness</th>\n",
       "      <th>Solids</th>\n",
       "      <th>Chloramines</th>\n",
       "      <th>Sulfate</th>\n",
       "      <th>Conductivity</th>\n",
       "      <th>Organic_carbon</th>\n",
       "      <th>Trihalomethanes</th>\n",
       "      <th>Turbidity</th>\n",
       "      <th>Potability</th>\n",
       "    </tr>\n",
       "  </thead>\n",
       "  <tbody>\n",
       "    <tr>\n",
       "      <th>0</th>\n",
       "      <td>7.918150</td>\n",
       "      <td>214.186611</td>\n",
       "      <td>23823.492888</td>\n",
       "      <td>7.290878</td>\n",
       "      <td>341.173322</td>\n",
       "      <td>411.424483</td>\n",
       "      <td>19.585002</td>\n",
       "      <td>25.057375</td>\n",
       "      <td>4.028958</td>\n",
       "      <td>0</td>\n",
       "    </tr>\n",
       "    <tr>\n",
       "      <th>1</th>\n",
       "      <td>5.422446</td>\n",
       "      <td>205.266080</td>\n",
       "      <td>18542.957451</td>\n",
       "      <td>5.491963</td>\n",
       "      <td>306.702227</td>\n",
       "      <td>382.080129</td>\n",
       "      <td>10.504023</td>\n",
       "      <td>67.493450</td>\n",
       "      <td>2.911751</td>\n",
       "      <td>1</td>\n",
       "    </tr>\n",
       "    <tr>\n",
       "      <th>2</th>\n",
       "      <td>7.341547</td>\n",
       "      <td>187.672402</td>\n",
       "      <td>21273.457066</td>\n",
       "      <td>7.784003</td>\n",
       "      <td>NaN</td>\n",
       "      <td>332.084293</td>\n",
       "      <td>16.842334</td>\n",
       "      <td>55.019151</td>\n",
       "      <td>4.025644</td>\n",
       "      <td>0</td>\n",
       "    </tr>\n",
       "    <tr>\n",
       "      <th>3</th>\n",
       "      <td>9.056245</td>\n",
       "      <td>197.666301</td>\n",
       "      <td>17403.532167</td>\n",
       "      <td>7.688917</td>\n",
       "      <td>337.460176</td>\n",
       "      <td>414.766631</td>\n",
       "      <td>15.349869</td>\n",
       "      <td>63.696746</td>\n",
       "      <td>3.319354</td>\n",
       "      <td>0</td>\n",
       "    </tr>\n",
       "    <tr>\n",
       "      <th>4</th>\n",
       "      <td>5.039374</td>\n",
       "      <td>142.860598</td>\n",
       "      <td>40829.353167</td>\n",
       "      <td>7.271543</td>\n",
       "      <td>NaN</td>\n",
       "      <td>386.803057</td>\n",
       "      <td>16.823773</td>\n",
       "      <td>52.297113</td>\n",
       "      <td>4.957420</td>\n",
       "      <td>0</td>\n",
       "    </tr>\n",
       "  </tbody>\n",
       "</table>\n",
       "</div>"
      ]
     },
     "execution_count": 2,
     "metadata": {},
     "output_type": "execute_result"
    }
   ],
   "execution_count": 2
  },
  {
   "metadata": {
    "ExecuteTime": {
     "end_time": "2025-06-10T10:53:27.118165Z",
     "start_time": "2025-06-10T10:53:27.110930Z"
    }
   },
   "cell_type": "code",
   "source": [
    "target = df.loc[~df['ph'].isnull()]['ph']\n",
    "result = target.loc[target <= target.quantile(0.25)].mean()\n",
    "print(result)"
   ],
   "id": "517d35108709a51d",
   "outputs": [
    {
     "name": "stdout",
     "output_type": "stream",
     "text": [
      "5.057093462441731\n"
     ]
    }
   ],
   "execution_count": 15
  }
 ],
 "metadata": {
  "kernelspec": {
   "display_name": "Python 3",
   "language": "python",
   "name": "python3"
  },
  "language_info": {
   "codemirror_mode": {
    "name": "ipython",
    "version": 2
   },
   "file_extension": ".py",
   "mimetype": "text/x-python",
   "name": "python",
   "nbconvert_exporter": "python",
   "pygments_lexer": "ipython2",
   "version": "2.7.6"
  }
 },
 "nbformat": 4,
 "nbformat_minor": 5
}
