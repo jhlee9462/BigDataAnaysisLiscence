{
 "cells": [
  {
   "cell_type": "code",
   "id": "initial_id",
   "metadata": {
    "collapsed": true,
    "ExecuteTime": {
     "end_time": "2025-06-07T09:00:42.143733Z",
     "start_time": "2025-06-07T09:00:42.090117Z"
    }
   },
   "source": [
    "import pandas as pd\n",
    "\n",
    "df = pd.read_csv('https://raw.githubusercontent.com/Datamanim/datarepo/main/pok/Pokemon.csv')\n",
    "df.head()"
   ],
   "outputs": [
    {
     "data": {
      "text/plain": [
       "   #                   Name Type 1  Type 2  Total  HP  Attack  Defense  \\\n",
       "0  1              Bulbasaur  Grass  Poison    318  45      49       49   \n",
       "1  2                Ivysaur  Grass  Poison    405  60      62       63   \n",
       "2  3               Venusaur  Grass  Poison    525  80      82       83   \n",
       "3  3  VenusaurMega Venusaur  Grass  Poison    625  80     100      123   \n",
       "4  4             Charmander   Fire     NaN    309  39      52       43   \n",
       "\n",
       "   Sp. Atk  Sp. Def  Speed  Generation  Legendary  \n",
       "0       65       65     45           1      False  \n",
       "1       80       80     60           1      False  \n",
       "2      100      100     80           1      False  \n",
       "3      122      120     80           1      False  \n",
       "4       60       50     65           1      False  "
      ],
      "text/html": [
       "<div>\n",
       "<style scoped>\n",
       "    .dataframe tbody tr th:only-of-type {\n",
       "        vertical-align: middle;\n",
       "    }\n",
       "\n",
       "    .dataframe tbody tr th {\n",
       "        vertical-align: top;\n",
       "    }\n",
       "\n",
       "    .dataframe thead th {\n",
       "        text-align: right;\n",
       "    }\n",
       "</style>\n",
       "<table border=\"1\" class=\"dataframe\">\n",
       "  <thead>\n",
       "    <tr style=\"text-align: right;\">\n",
       "      <th></th>\n",
       "      <th>#</th>\n",
       "      <th>Name</th>\n",
       "      <th>Type 1</th>\n",
       "      <th>Type 2</th>\n",
       "      <th>Total</th>\n",
       "      <th>HP</th>\n",
       "      <th>Attack</th>\n",
       "      <th>Defense</th>\n",
       "      <th>Sp. Atk</th>\n",
       "      <th>Sp. Def</th>\n",
       "      <th>Speed</th>\n",
       "      <th>Generation</th>\n",
       "      <th>Legendary</th>\n",
       "    </tr>\n",
       "  </thead>\n",
       "  <tbody>\n",
       "    <tr>\n",
       "      <th>0</th>\n",
       "      <td>1</td>\n",
       "      <td>Bulbasaur</td>\n",
       "      <td>Grass</td>\n",
       "      <td>Poison</td>\n",
       "      <td>318</td>\n",
       "      <td>45</td>\n",
       "      <td>49</td>\n",
       "      <td>49</td>\n",
       "      <td>65</td>\n",
       "      <td>65</td>\n",
       "      <td>45</td>\n",
       "      <td>1</td>\n",
       "      <td>False</td>\n",
       "    </tr>\n",
       "    <tr>\n",
       "      <th>1</th>\n",
       "      <td>2</td>\n",
       "      <td>Ivysaur</td>\n",
       "      <td>Grass</td>\n",
       "      <td>Poison</td>\n",
       "      <td>405</td>\n",
       "      <td>60</td>\n",
       "      <td>62</td>\n",
       "      <td>63</td>\n",
       "      <td>80</td>\n",
       "      <td>80</td>\n",
       "      <td>60</td>\n",
       "      <td>1</td>\n",
       "      <td>False</td>\n",
       "    </tr>\n",
       "    <tr>\n",
       "      <th>2</th>\n",
       "      <td>3</td>\n",
       "      <td>Venusaur</td>\n",
       "      <td>Grass</td>\n",
       "      <td>Poison</td>\n",
       "      <td>525</td>\n",
       "      <td>80</td>\n",
       "      <td>82</td>\n",
       "      <td>83</td>\n",
       "      <td>100</td>\n",
       "      <td>100</td>\n",
       "      <td>80</td>\n",
       "      <td>1</td>\n",
       "      <td>False</td>\n",
       "    </tr>\n",
       "    <tr>\n",
       "      <th>3</th>\n",
       "      <td>3</td>\n",
       "      <td>VenusaurMega Venusaur</td>\n",
       "      <td>Grass</td>\n",
       "      <td>Poison</td>\n",
       "      <td>625</td>\n",
       "      <td>80</td>\n",
       "      <td>100</td>\n",
       "      <td>123</td>\n",
       "      <td>122</td>\n",
       "      <td>120</td>\n",
       "      <td>80</td>\n",
       "      <td>1</td>\n",
       "      <td>False</td>\n",
       "    </tr>\n",
       "    <tr>\n",
       "      <th>4</th>\n",
       "      <td>4</td>\n",
       "      <td>Charmander</td>\n",
       "      <td>Fire</td>\n",
       "      <td>NaN</td>\n",
       "      <td>309</td>\n",
       "      <td>39</td>\n",
       "      <td>52</td>\n",
       "      <td>43</td>\n",
       "      <td>60</td>\n",
       "      <td>50</td>\n",
       "      <td>65</td>\n",
       "      <td>1</td>\n",
       "      <td>False</td>\n",
       "    </tr>\n",
       "  </tbody>\n",
       "</table>\n",
       "</div>"
      ]
     },
     "execution_count": 2,
     "metadata": {},
     "output_type": "execute_result"
    }
   ],
   "execution_count": 2
  },
  {
   "metadata": {
    "ExecuteTime": {
     "end_time": "2025-06-07T09:20:57.948457Z",
     "start_time": "2025-06-07T09:20:57.935153Z"
    }
   },
   "cell_type": "code",
   "source": "df[['Legendary', 'HP']].groupby('Legendary').mean().diff().iloc[1,0]",
   "id": "c56a231d061e80b8",
   "outputs": [
    {
     "data": {
      "text/plain": [
       "25.55614861329147"
      ]
     },
     "execution_count": 9,
     "metadata": {},
     "output_type": "execute_result"
    }
   ],
   "execution_count": 9
  },
  {
   "metadata": {
    "ExecuteTime": {
     "end_time": "2025-06-07T12:18:44.162025Z",
     "start_time": "2025-06-07T12:18:44.149075Z"
    }
   },
   "cell_type": "code",
   "source": "df['Type 2'].value_counts().sort_values(ascending=False).index[0]",
   "id": "bdd4185e2d5b7003",
   "outputs": [
    {
     "data": {
      "text/plain": [
       "'Flying'"
      ]
     },
     "execution_count": 22,
     "metadata": {},
     "output_type": "execute_result"
    }
   ],
   "execution_count": 22
  },
  {
   "metadata": {
    "ExecuteTime": {
     "end_time": "2025-06-07T12:20:40.867851Z",
     "start_time": "2025-06-07T12:20:40.853851Z"
    }
   },
   "cell_type": "code",
   "source": [
    "p_t1 = df.groupby('Type 1').size().sort_values(ascending=False).index[0]\n",
    "\n",
    "df.loc[df['Type 1'] == p_t1]['Attack'].mean() / df.loc[df['Type 1'] == p_t1]['Defense'].mean()"
   ],
   "id": "a7ac881d90ae954f",
   "outputs": [
    {
     "data": {
      "text/plain": [
       "1.0165238678090576"
      ]
     },
     "execution_count": 31,
     "metadata": {},
     "output_type": "execute_result"
    }
   ],
   "execution_count": 31
  },
  {
   "metadata": {
    "ExecuteTime": {
     "end_time": "2025-06-07T12:23:33.462159Z",
     "start_time": "2025-06-07T12:23:33.449162Z"
    }
   },
   "cell_type": "code",
   "source": "df.loc[df['Legendary']][['Generation', 'Legendary']].groupby('Generation').count().sort_values('Legendary', ascending=False).index[0]",
   "id": "307585ecccab583c",
   "outputs": [
    {
     "data": {
      "text/plain": [
       "3"
      ]
     },
     "execution_count": 39,
     "metadata": {},
     "output_type": "execute_result"
    }
   ],
   "execution_count": 39
  },
  {
   "metadata": {
    "ExecuteTime": {
     "end_time": "2025-06-07T12:28:16.165376Z",
     "start_time": "2025-06-07T12:28:16.153321Z"
    }
   },
   "cell_type": "code",
   "source": [
    "target = df[['HP', 'Attack', 'Defense', 'Sp. Atk', 'Sp. Def', 'Speed']].corr().unstack().reset_index().rename(columns={0: 'corr'})\n",
    "target.loc[target['corr'] != 1].sort_values('corr', ascending=False).iloc[0]"
   ],
   "id": "6f2fbb8078476cff",
   "outputs": [
    {
     "data": {
      "text/plain": [
       "level_0     Sp. Def\n",
       "level_1     Defense\n",
       "corr       0.510747\n",
       "Name: 26, dtype: object"
      ]
     },
     "execution_count": 49,
     "metadata": {},
     "output_type": "execute_result"
    }
   ],
   "execution_count": 49
  },
  {
   "metadata": {
    "ExecuteTime": {
     "end_time": "2025-06-07T12:29:21.200728Z",
     "start_time": "2025-06-07T12:29:21.186726Z"
    }
   },
   "cell_type": "code",
   "source": "df.sort_values(['Generation', 'Attack']).groupby('Generation').head(3)['Attack'].mean()",
   "id": "aefe419261341d4",
   "outputs": [
    {
     "data": {
      "text/plain": [
       "19.5"
      ]
     },
     "execution_count": 53,
     "metadata": {},
     "output_type": "execute_result"
    }
   ],
   "execution_count": 53
  },
  {
   "metadata": {
    "ExecuteTime": {
     "end_time": "2025-06-07T12:29:39.064188Z",
     "start_time": "2025-06-07T12:29:39.051187Z"
    }
   },
   "cell_type": "code",
   "source": "df.sort_values(['Generation', 'Attack'], ascending=False).groupby('Generation').head(5)['Attack'].mean()",
   "id": "458529c5566f4863",
   "outputs": [
    {
     "data": {
      "text/plain": [
       "157.23333333333332"
      ]
     },
     "execution_count": 55,
     "metadata": {},
     "output_type": "execute_result"
    }
   ],
   "execution_count": 55
  },
  {
   "metadata": {
    "ExecuteTime": {
     "end_time": "2025-06-07T12:31:20.615796Z",
     "start_time": "2025-06-07T12:31:20.603630Z"
    }
   },
   "cell_type": "code",
   "source": "df[['Type 1', 'Type 2']].value_counts().head(1)",
   "id": "b63740bed50727b0",
   "outputs": [
    {
     "data": {
      "text/plain": [
       "Type 1  Type 2\n",
       "Normal  Flying    24\n",
       "Name: count, dtype: int64"
      ]
     },
     "execution_count": 67,
     "metadata": {},
     "output_type": "execute_result"
    }
   ],
   "execution_count": 67
  },
  {
   "metadata": {
    "ExecuteTime": {
     "end_time": "2025-06-07T12:32:23.000779Z",
     "start_time": "2025-06-07T12:32:22.986778Z"
    }
   },
   "cell_type": "code",
   "source": [
    "target = df[['Type 1', 'Type 2']].value_counts().reset_index()\n",
    "len(target.loc[target['count'] == 1])"
   ],
   "id": "13cd9082a6016a66",
   "outputs": [
    {
     "data": {
      "text/plain": [
       "39"
      ]
     },
     "execution_count": 72,
     "metadata": {},
     "output_type": "execute_result"
    }
   ],
   "execution_count": 72
  },
  {
   "metadata": {
    "ExecuteTime": {
     "end_time": "2025-06-07T12:39:52.527956Z",
     "start_time": "2025-06-07T12:39:52.501956Z"
    }
   },
   "cell_type": "code",
   "source": [
    "lst = []\n",
    "for v in target.loc[target['count'] == 1].reset_index(drop=True)[['Type 1', 'Type 2']].values:\n",
    "    t1 = v[0]\n",
    "    t2 = v[1]\n",
    "\n",
    "    sp = df.loc[(df['Type 1'] == t1) & (df['Type 2'] == t2)]\n",
    "    lst.append(sp)\n",
    "\n",
    "pd.concat(lst).reset_index(drop=True).Generation.value_counts().sort_index()"
   ],
   "id": "98eb4d2ab4a2bcd0",
   "outputs": [
    {
     "data": {
      "text/plain": [
       "Generation\n",
       "1     1\n",
       "2     4\n",
       "3     5\n",
       "4    13\n",
       "5     7\n",
       "6     9\n",
       "Name: count, dtype: int64"
      ]
     },
     "execution_count": 103,
     "metadata": {},
     "output_type": "execute_result"
    }
   ],
   "execution_count": 103
  },
  {
   "metadata": {},
   "cell_type": "code",
   "outputs": [],
   "execution_count": null,
   "source": "",
   "id": "16adabdfdd0b3749"
  }
 ],
 "metadata": {
  "kernelspec": {
   "display_name": "Python 3",
   "language": "python",
   "name": "python3"
  },
  "language_info": {
   "codemirror_mode": {
    "name": "ipython",
    "version": 2
   },
   "file_extension": ".py",
   "mimetype": "text/x-python",
   "name": "python",
   "nbconvert_exporter": "python",
   "pygments_lexer": "ipython2",
   "version": "2.7.6"
  }
 },
 "nbformat": 4,
 "nbformat_minor": 5
}
