{
 "cells": [
  {
   "cell_type": "code",
   "id": "initial_id",
   "metadata": {
    "collapsed": true,
    "ExecuteTime": {
     "end_time": "2025-06-03T08:34:16.945970Z",
     "start_time": "2025-06-03T08:34:16.932066Z"
    }
   },
   "source": "import pandas as pd",
   "outputs": [],
   "execution_count": 2
  },
  {
   "metadata": {
    "ExecuteTime": {
     "end_time": "2025-06-03T08:34:34.983571Z",
     "start_time": "2025-06-03T08:34:34.539671Z"
    }
   },
   "cell_type": "code",
   "source": "df = pd.read_csv('https://raw.githubusercontent.com/Datamanim/datarepo/main/youtube/youtube.csv')",
   "id": "86c05b0160ab33e2",
   "outputs": [],
   "execution_count": 3
  },
  {
   "metadata": {
    "ExecuteTime": {
     "end_time": "2025-06-03T08:43:54.434321Z",
     "start_time": "2025-06-03T08:43:54.425158Z"
    }
   },
   "cell_type": "code",
   "source": "df",
   "id": "ee6d16f4880d4e04",
   "outputs": [
    {
     "data": {
      "text/plain": [
       "       Unnamed: 0                                              title  \\\n",
       "0               0                                          [신병] 물자창고   \n",
       "1               1   RAIN(비) - 나로 바꾸자 Switch to me (duet with JYP) MV   \n",
       "2               2       2020년 제야의 종 온라인 타종행사 | 보신각 현장 행사는 진행하지 않습니다.   \n",
       "3               3                                       고기남자의 칠면조 파티   \n",
       "4               4  골목 3mc를 분노하게 만든 마음고생이 심했을 공릉 백반집 사장님의 푸념?! [예능...   \n",
       "...           ...                                                ...   \n",
       "60394       60394                       *풀코스로 먹습니다* 🍗치킨 + 🍕피자 + 🥧디저트   \n",
       "60395       60395  [놀면 뭐하니? 예고] 우린 깐부잖아🦑 놀뭐에 등장한 월드클래스 초대손님!! MBC...   \n",
       "60396       60396                   먹방 전쟁 : 사랑스러War (feat. 401 정육식당)   \n",
       "60397       60397  ＂너.. 광수지?＂ 협상에 거짓말부터 던지는 광수 닮은꼴 김연경 선수 [런닝맨|21...   \n",
       "60398       60398          ENHYPEN (엔하이픈) 'Tamed-Dashed' Official MV   \n",
       "\n",
       "                  channelTitle  categoryId  view_count    likes  dislikes  \\\n",
       "0                          장삐쭈          23     1893473    38249       730   \n",
       "1      RAIN's Official Channel          10     2600864        0         0   \n",
       "2                  서울시 · Seoul          29      347049     3564       120   \n",
       "3                 고기남자 MeatMan          26      528458    15372       280   \n",
       "4                        스브스밥집          24      494904     3918       111   \n",
       "...                        ...         ...         ...      ...       ...   \n",
       "60394                       공룡          22      538190    16671       209   \n",
       "60395                  놀면 뭐하니?          24     1607562    14615       258   \n",
       "60396        김종국 GYM JONG KOOK          17     1125911    26490       263   \n",
       "60397                 스브스 예능맛집          24     1741773    14994       304   \n",
       "60398              HYBE LABELS          10    13753485  1784532      9737   \n",
       "\n",
       "       comment_count                 channelId trending_date2  \n",
       "0               8595  UChbE5OZQ6dRHECsX0tEPEZQ     2021-01-01  \n",
       "1              20129  UCxXgIeE5hxWxHG6dz9Scg2w     2021-01-01  \n",
       "2                178  UCZUPZW5idAxYp-Asj__lVAA     2021-01-01  \n",
       "3               3470  UCT3CumbFIJiW33uq0UI3zlg     2021-01-01  \n",
       "4               3142  UCdWgRSfttvDucq4ApcCg5Mw     2021-01-01  \n",
       "...              ...                       ...            ...  \n",
       "60394           3117  UCWf4QKgnTyvmehcRqw-JldQ     2021-10-19  \n",
       "60395           1141  UCx6jsZ02B4K3SECUrkgPyzg     2021-10-19  \n",
       "60396           1915  UCoe-0EVDJnjlSoPK8ygcGwQ     2021-10-19  \n",
       "60397            802  UCnx4Fi4cmkLGDiFfZ311wWw     2021-10-19  \n",
       "60398         195461  UC3IZKseVpdzPSBaWxBxundA     2021-10-19  \n",
       "\n",
       "[60399 rows x 10 columns]"
      ],
      "text/html": [
       "<div>\n",
       "<style scoped>\n",
       "    .dataframe tbody tr th:only-of-type {\n",
       "        vertical-align: middle;\n",
       "    }\n",
       "\n",
       "    .dataframe tbody tr th {\n",
       "        vertical-align: top;\n",
       "    }\n",
       "\n",
       "    .dataframe thead th {\n",
       "        text-align: right;\n",
       "    }\n",
       "</style>\n",
       "<table border=\"1\" class=\"dataframe\">\n",
       "  <thead>\n",
       "    <tr style=\"text-align: right;\">\n",
       "      <th></th>\n",
       "      <th>Unnamed: 0</th>\n",
       "      <th>title</th>\n",
       "      <th>channelTitle</th>\n",
       "      <th>categoryId</th>\n",
       "      <th>view_count</th>\n",
       "      <th>likes</th>\n",
       "      <th>dislikes</th>\n",
       "      <th>comment_count</th>\n",
       "      <th>channelId</th>\n",
       "      <th>trending_date2</th>\n",
       "    </tr>\n",
       "  </thead>\n",
       "  <tbody>\n",
       "    <tr>\n",
       "      <th>0</th>\n",
       "      <td>0</td>\n",
       "      <td>[신병] 물자창고</td>\n",
       "      <td>장삐쭈</td>\n",
       "      <td>23</td>\n",
       "      <td>1893473</td>\n",
       "      <td>38249</td>\n",
       "      <td>730</td>\n",
       "      <td>8595</td>\n",
       "      <td>UChbE5OZQ6dRHECsX0tEPEZQ</td>\n",
       "      <td>2021-01-01</td>\n",
       "    </tr>\n",
       "    <tr>\n",
       "      <th>1</th>\n",
       "      <td>1</td>\n",
       "      <td>RAIN(비) - 나로 바꾸자 Switch to me (duet with JYP) MV</td>\n",
       "      <td>RAIN's Official Channel</td>\n",
       "      <td>10</td>\n",
       "      <td>2600864</td>\n",
       "      <td>0</td>\n",
       "      <td>0</td>\n",
       "      <td>20129</td>\n",
       "      <td>UCxXgIeE5hxWxHG6dz9Scg2w</td>\n",
       "      <td>2021-01-01</td>\n",
       "    </tr>\n",
       "    <tr>\n",
       "      <th>2</th>\n",
       "      <td>2</td>\n",
       "      <td>2020년 제야의 종 온라인 타종행사 | 보신각 현장 행사는 진행하지 않습니다.</td>\n",
       "      <td>서울시 · Seoul</td>\n",
       "      <td>29</td>\n",
       "      <td>347049</td>\n",
       "      <td>3564</td>\n",
       "      <td>120</td>\n",
       "      <td>178</td>\n",
       "      <td>UCZUPZW5idAxYp-Asj__lVAA</td>\n",
       "      <td>2021-01-01</td>\n",
       "    </tr>\n",
       "    <tr>\n",
       "      <th>3</th>\n",
       "      <td>3</td>\n",
       "      <td>고기남자의 칠면조 파티</td>\n",
       "      <td>고기남자 MeatMan</td>\n",
       "      <td>26</td>\n",
       "      <td>528458</td>\n",
       "      <td>15372</td>\n",
       "      <td>280</td>\n",
       "      <td>3470</td>\n",
       "      <td>UCT3CumbFIJiW33uq0UI3zlg</td>\n",
       "      <td>2021-01-01</td>\n",
       "    </tr>\n",
       "    <tr>\n",
       "      <th>4</th>\n",
       "      <td>4</td>\n",
       "      <td>골목 3mc를 분노하게 만든 마음고생이 심했을 공릉 백반집 사장님의 푸념?! [예능...</td>\n",
       "      <td>스브스밥집</td>\n",
       "      <td>24</td>\n",
       "      <td>494904</td>\n",
       "      <td>3918</td>\n",
       "      <td>111</td>\n",
       "      <td>3142</td>\n",
       "      <td>UCdWgRSfttvDucq4ApcCg5Mw</td>\n",
       "      <td>2021-01-01</td>\n",
       "    </tr>\n",
       "    <tr>\n",
       "      <th>...</th>\n",
       "      <td>...</td>\n",
       "      <td>...</td>\n",
       "      <td>...</td>\n",
       "      <td>...</td>\n",
       "      <td>...</td>\n",
       "      <td>...</td>\n",
       "      <td>...</td>\n",
       "      <td>...</td>\n",
       "      <td>...</td>\n",
       "      <td>...</td>\n",
       "    </tr>\n",
       "    <tr>\n",
       "      <th>60394</th>\n",
       "      <td>60394</td>\n",
       "      <td>*풀코스로 먹습니다* 🍗치킨 + 🍕피자 + 🥧디저트</td>\n",
       "      <td>공룡</td>\n",
       "      <td>22</td>\n",
       "      <td>538190</td>\n",
       "      <td>16671</td>\n",
       "      <td>209</td>\n",
       "      <td>3117</td>\n",
       "      <td>UCWf4QKgnTyvmehcRqw-JldQ</td>\n",
       "      <td>2021-10-19</td>\n",
       "    </tr>\n",
       "    <tr>\n",
       "      <th>60395</th>\n",
       "      <td>60395</td>\n",
       "      <td>[놀면 뭐하니? 예고] 우린 깐부잖아🦑 놀뭐에 등장한 월드클래스 초대손님!! MBC...</td>\n",
       "      <td>놀면 뭐하니?</td>\n",
       "      <td>24</td>\n",
       "      <td>1607562</td>\n",
       "      <td>14615</td>\n",
       "      <td>258</td>\n",
       "      <td>1141</td>\n",
       "      <td>UCx6jsZ02B4K3SECUrkgPyzg</td>\n",
       "      <td>2021-10-19</td>\n",
       "    </tr>\n",
       "    <tr>\n",
       "      <th>60396</th>\n",
       "      <td>60396</td>\n",
       "      <td>먹방 전쟁 : 사랑스러War (feat. 401 정육식당)</td>\n",
       "      <td>김종국 GYM JONG KOOK</td>\n",
       "      <td>17</td>\n",
       "      <td>1125911</td>\n",
       "      <td>26490</td>\n",
       "      <td>263</td>\n",
       "      <td>1915</td>\n",
       "      <td>UCoe-0EVDJnjlSoPK8ygcGwQ</td>\n",
       "      <td>2021-10-19</td>\n",
       "    </tr>\n",
       "    <tr>\n",
       "      <th>60397</th>\n",
       "      <td>60397</td>\n",
       "      <td>＂너.. 광수지?＂ 협상에 거짓말부터 던지는 광수 닮은꼴 김연경 선수 [런닝맨|21...</td>\n",
       "      <td>스브스 예능맛집</td>\n",
       "      <td>24</td>\n",
       "      <td>1741773</td>\n",
       "      <td>14994</td>\n",
       "      <td>304</td>\n",
       "      <td>802</td>\n",
       "      <td>UCnx4Fi4cmkLGDiFfZ311wWw</td>\n",
       "      <td>2021-10-19</td>\n",
       "    </tr>\n",
       "    <tr>\n",
       "      <th>60398</th>\n",
       "      <td>60398</td>\n",
       "      <td>ENHYPEN (엔하이픈) 'Tamed-Dashed' Official MV</td>\n",
       "      <td>HYBE LABELS</td>\n",
       "      <td>10</td>\n",
       "      <td>13753485</td>\n",
       "      <td>1784532</td>\n",
       "      <td>9737</td>\n",
       "      <td>195461</td>\n",
       "      <td>UC3IZKseVpdzPSBaWxBxundA</td>\n",
       "      <td>2021-10-19</td>\n",
       "    </tr>\n",
       "  </tbody>\n",
       "</table>\n",
       "<p>60399 rows × 10 columns</p>\n",
       "</div>"
      ]
     },
     "execution_count": 5,
     "metadata": {},
     "output_type": "execute_result"
    }
   ],
   "execution_count": 5
  },
  {
   "metadata": {
    "ExecuteTime": {
     "end_time": "2025-06-03T08:50:33.206665Z",
     "start_time": "2025-06-03T08:50:33.194571Z"
    }
   },
   "cell_type": "code",
   "source": "list(df.loc[df.channelId.isin(df.groupby(['channelId']).size().sort_values(ascending=False).head(10).index)].channelTitle.unique())",
   "id": "e84d40611de61158",
   "outputs": [
    {
     "data": {
      "text/plain": [
       "['장삐쭈',\n",
       " '총몇명',\n",
       " '파뿌리',\n",
       " '짤툰',\n",
       " '런닝맨 - 스브스 공식 채널',\n",
       " '엠뚜루마뚜루 : MBC 공식 종합 채널',\n",
       " 'SPOTV',\n",
       " '채널 십오야',\n",
       " '이과장',\n",
       " 'BANGTANTV']"
      ]
     },
     "execution_count": 19,
     "metadata": {},
     "output_type": "execute_result"
    }
   ],
   "execution_count": 19
  },
  {
   "metadata": {
    "ExecuteTime": {
     "end_time": "2025-06-03T08:59:39.890537Z",
     "start_time": "2025-06-03T08:59:39.881029Z"
    }
   },
   "cell_type": "code",
   "source": "list(df.loc[df.dislikes > df.likes].channelTitle.unique())",
   "id": "4b5a32707d050cb9",
   "outputs": [
    {
     "data": {
      "text/plain": [
       "['핫도그TV',\n",
       " 'ASMR 애정TV',\n",
       " '하얀트리HayanTree',\n",
       " '양팡 YangPang',\n",
       " '철구형 (CHULTUBE)',\n",
       " '왜냐맨하우스',\n",
       " '(MUTUBE)와꾸대장봉준',\n",
       " '오메킴TV',\n",
       " '육지담',\n",
       " 'MapleStory_KR',\n",
       " 'ROAD FIGHTING CHAMPIONSHIP',\n",
       " '사나이 김기훈',\n",
       " '나혼자산다 STUDIO',\n",
       " 'Gen.G esports']"
      ]
     },
     "execution_count": 27,
     "metadata": {},
     "output_type": "execute_result"
    }
   ],
   "execution_count": 27
  },
  {
   "metadata": {
    "ExecuteTime": {
     "end_time": "2025-06-03T10:29:46.234658Z",
     "start_time": "2025-06-03T10:29:46.206940Z"
    }
   },
   "cell_type": "code",
   "source": [
    "target = df.drop_duplicates(['channelId', 'channelTitle']).channelId.value_counts()\n",
    "target = target[target > 1]\n",
    "len(target)"
   ],
   "id": "7c70d9efda5c7c0d",
   "outputs": [
    {
     "data": {
      "text/plain": [
       "71"
      ]
     },
     "execution_count": 55,
     "metadata": {},
     "output_type": "execute_result"
    }
   ],
   "execution_count": 55
  },
  {
   "metadata": {
    "ExecuteTime": {
     "end_time": "2025-06-03T10:48:38.093337Z",
     "start_time": "2025-06-03T10:48:38.074733Z"
    }
   },
   "cell_type": "code",
   "source": "df['trending_date1'] = df.trending_date2.astype('datetime64[ns]')",
   "id": "d0079e9aa534bd42",
   "outputs": [],
   "execution_count": 75
  },
  {
   "metadata": {
    "ExecuteTime": {
     "end_time": "2025-06-03T10:52:38.858036Z",
     "start_time": "2025-06-03T10:52:38.845771Z"
    }
   },
   "cell_type": "code",
   "source": "df.loc[df['trending_date1'].dt.weekday == 6].groupby('categoryId').size().sort_values(ascending=False).head(1).index.values[0]",
   "id": "c4a3c1b13a248f4a",
   "outputs": [
    {
     "data": {
      "text/plain": [
       "24"
      ]
     },
     "execution_count": 91,
     "metadata": {},
     "output_type": "execute_result"
    }
   ],
   "execution_count": 91
  },
  {
   "metadata": {
    "ExecuteTime": {
     "end_time": "2025-06-03T10:53:30.367175Z",
     "start_time": "2025-06-03T10:53:30.354322Z"
    }
   },
   "cell_type": "code",
   "source": "df['trending_date1_week'] = df['trending_date1'].dt.day_name()",
   "id": "3c327047e37aa34b",
   "outputs": [],
   "execution_count": 92
  },
  {
   "metadata": {
    "ExecuteTime": {
     "end_time": "2025-06-03T11:00:00.497650Z",
     "start_time": "2025-06-03T11:00:00.480479Z"
    }
   },
   "cell_type": "code",
   "source": "df.groupby([df['trending_date1_week'], 'categoryId'], as_index=False).size().pivot_table(index='categoryId', columns='trending_date1_week')",
   "id": "b5411ae44b63eaf2",
   "outputs": [
    {
     "data": {
      "text/plain": [
       "                      size                                                  \n",
       "trending_date1_week Friday Monday Saturday Sunday Thursday Tuesday Wednesday\n",
       "categoryId                                                                  \n",
       "1                      243    263      255    274      246     257       234\n",
       "2                      120    105      119     99      128     119       129\n",
       "10                     833    837      776    830      890     894       917\n",
       "15                     187    215      198    217      207     208       207\n",
       "17                     633    668      592    636      682     708       706\n",
       "19                      90     92       87     91       92      89        85\n",
       "20                     283    298      296    289      282     285       291\n",
       "22                    1288   1373     1289   1337     1341    1375      1333\n",
       "23                     568    594      570    556      560     569       566\n",
       "24                    2976   3148     3066   3096     2954    3084      3090\n",
       "25                     444    453      422    437      470     452       468\n",
       "26                     369    378      364    363      375     394       385\n",
       "27                     183    205      183    199      194     194       212\n",
       "28                     171    160      173    167      166     161       165\n",
       "29                      12     10       10      9       13      11        12"
      ],
      "text/html": [
       "<div>\n",
       "<style scoped>\n",
       "    .dataframe tbody tr th:only-of-type {\n",
       "        vertical-align: middle;\n",
       "    }\n",
       "\n",
       "    .dataframe tbody tr th {\n",
       "        vertical-align: top;\n",
       "    }\n",
       "\n",
       "    .dataframe thead tr th {\n",
       "        text-align: left;\n",
       "    }\n",
       "\n",
       "    .dataframe thead tr:last-of-type th {\n",
       "        text-align: right;\n",
       "    }\n",
       "</style>\n",
       "<table border=\"1\" class=\"dataframe\">\n",
       "  <thead>\n",
       "    <tr>\n",
       "      <th></th>\n",
       "      <th colspan=\"7\" halign=\"left\">size</th>\n",
       "    </tr>\n",
       "    <tr>\n",
       "      <th>trending_date1_week</th>\n",
       "      <th>Friday</th>\n",
       "      <th>Monday</th>\n",
       "      <th>Saturday</th>\n",
       "      <th>Sunday</th>\n",
       "      <th>Thursday</th>\n",
       "      <th>Tuesday</th>\n",
       "      <th>Wednesday</th>\n",
       "    </tr>\n",
       "    <tr>\n",
       "      <th>categoryId</th>\n",
       "      <th></th>\n",
       "      <th></th>\n",
       "      <th></th>\n",
       "      <th></th>\n",
       "      <th></th>\n",
       "      <th></th>\n",
       "      <th></th>\n",
       "    </tr>\n",
       "  </thead>\n",
       "  <tbody>\n",
       "    <tr>\n",
       "      <th>1</th>\n",
       "      <td>243</td>\n",
       "      <td>263</td>\n",
       "      <td>255</td>\n",
       "      <td>274</td>\n",
       "      <td>246</td>\n",
       "      <td>257</td>\n",
       "      <td>234</td>\n",
       "    </tr>\n",
       "    <tr>\n",
       "      <th>2</th>\n",
       "      <td>120</td>\n",
       "      <td>105</td>\n",
       "      <td>119</td>\n",
       "      <td>99</td>\n",
       "      <td>128</td>\n",
       "      <td>119</td>\n",
       "      <td>129</td>\n",
       "    </tr>\n",
       "    <tr>\n",
       "      <th>10</th>\n",
       "      <td>833</td>\n",
       "      <td>837</td>\n",
       "      <td>776</td>\n",
       "      <td>830</td>\n",
       "      <td>890</td>\n",
       "      <td>894</td>\n",
       "      <td>917</td>\n",
       "    </tr>\n",
       "    <tr>\n",
       "      <th>15</th>\n",
       "      <td>187</td>\n",
       "      <td>215</td>\n",
       "      <td>198</td>\n",
       "      <td>217</td>\n",
       "      <td>207</td>\n",
       "      <td>208</td>\n",
       "      <td>207</td>\n",
       "    </tr>\n",
       "    <tr>\n",
       "      <th>17</th>\n",
       "      <td>633</td>\n",
       "      <td>668</td>\n",
       "      <td>592</td>\n",
       "      <td>636</td>\n",
       "      <td>682</td>\n",
       "      <td>708</td>\n",
       "      <td>706</td>\n",
       "    </tr>\n",
       "    <tr>\n",
       "      <th>19</th>\n",
       "      <td>90</td>\n",
       "      <td>92</td>\n",
       "      <td>87</td>\n",
       "      <td>91</td>\n",
       "      <td>92</td>\n",
       "      <td>89</td>\n",
       "      <td>85</td>\n",
       "    </tr>\n",
       "    <tr>\n",
       "      <th>20</th>\n",
       "      <td>283</td>\n",
       "      <td>298</td>\n",
       "      <td>296</td>\n",
       "      <td>289</td>\n",
       "      <td>282</td>\n",
       "      <td>285</td>\n",
       "      <td>291</td>\n",
       "    </tr>\n",
       "    <tr>\n",
       "      <th>22</th>\n",
       "      <td>1288</td>\n",
       "      <td>1373</td>\n",
       "      <td>1289</td>\n",
       "      <td>1337</td>\n",
       "      <td>1341</td>\n",
       "      <td>1375</td>\n",
       "      <td>1333</td>\n",
       "    </tr>\n",
       "    <tr>\n",
       "      <th>23</th>\n",
       "      <td>568</td>\n",
       "      <td>594</td>\n",
       "      <td>570</td>\n",
       "      <td>556</td>\n",
       "      <td>560</td>\n",
       "      <td>569</td>\n",
       "      <td>566</td>\n",
       "    </tr>\n",
       "    <tr>\n",
       "      <th>24</th>\n",
       "      <td>2976</td>\n",
       "      <td>3148</td>\n",
       "      <td>3066</td>\n",
       "      <td>3096</td>\n",
       "      <td>2954</td>\n",
       "      <td>3084</td>\n",
       "      <td>3090</td>\n",
       "    </tr>\n",
       "    <tr>\n",
       "      <th>25</th>\n",
       "      <td>444</td>\n",
       "      <td>453</td>\n",
       "      <td>422</td>\n",
       "      <td>437</td>\n",
       "      <td>470</td>\n",
       "      <td>452</td>\n",
       "      <td>468</td>\n",
       "    </tr>\n",
       "    <tr>\n",
       "      <th>26</th>\n",
       "      <td>369</td>\n",
       "      <td>378</td>\n",
       "      <td>364</td>\n",
       "      <td>363</td>\n",
       "      <td>375</td>\n",
       "      <td>394</td>\n",
       "      <td>385</td>\n",
       "    </tr>\n",
       "    <tr>\n",
       "      <th>27</th>\n",
       "      <td>183</td>\n",
       "      <td>205</td>\n",
       "      <td>183</td>\n",
       "      <td>199</td>\n",
       "      <td>194</td>\n",
       "      <td>194</td>\n",
       "      <td>212</td>\n",
       "    </tr>\n",
       "    <tr>\n",
       "      <th>28</th>\n",
       "      <td>171</td>\n",
       "      <td>160</td>\n",
       "      <td>173</td>\n",
       "      <td>167</td>\n",
       "      <td>166</td>\n",
       "      <td>161</td>\n",
       "      <td>165</td>\n",
       "    </tr>\n",
       "    <tr>\n",
       "      <th>29</th>\n",
       "      <td>12</td>\n",
       "      <td>10</td>\n",
       "      <td>10</td>\n",
       "      <td>9</td>\n",
       "      <td>13</td>\n",
       "      <td>11</td>\n",
       "      <td>12</td>\n",
       "    </tr>\n",
       "  </tbody>\n",
       "</table>\n",
       "</div>"
      ]
     },
     "execution_count": 110,
     "metadata": {},
     "output_type": "execute_result"
    }
   ],
   "execution_count": 110
  },
  {
   "metadata": {
    "ExecuteTime": {
     "end_time": "2025-06-03T11:26:50.364699Z",
     "start_time": "2025-06-03T11:26:50.352191Z"
    }
   },
   "cell_type": "code",
   "source": "df",
   "id": "5c55ea0c0b79b6f1",
   "outputs": [
    {
     "data": {
      "text/plain": [
       "       Unnamed: 0                                              title  \\\n",
       "0               0                                          [신병] 물자창고   \n",
       "1               1   RAIN(비) - 나로 바꾸자 Switch to me (duet with JYP) MV   \n",
       "2               2       2020년 제야의 종 온라인 타종행사 | 보신각 현장 행사는 진행하지 않습니다.   \n",
       "3               3                                       고기남자의 칠면조 파티   \n",
       "4               4  골목 3mc를 분노하게 만든 마음고생이 심했을 공릉 백반집 사장님의 푸념?! [예능...   \n",
       "...           ...                                                ...   \n",
       "60394       60394                       *풀코스로 먹습니다* 🍗치킨 + 🍕피자 + 🥧디저트   \n",
       "60395       60395  [놀면 뭐하니? 예고] 우린 깐부잖아🦑 놀뭐에 등장한 월드클래스 초대손님!! MBC...   \n",
       "60396       60396                   먹방 전쟁 : 사랑스러War (feat. 401 정육식당)   \n",
       "60397       60397  ＂너.. 광수지?＂ 협상에 거짓말부터 던지는 광수 닮은꼴 김연경 선수 [런닝맨|21...   \n",
       "60398       60398          ENHYPEN (엔하이픈) 'Tamed-Dashed' Official MV   \n",
       "\n",
       "                  channelTitle  categoryId  view_count    likes  dislikes  \\\n",
       "0                          장삐쭈          23     1893473    38249       730   \n",
       "1      RAIN's Official Channel          10     2600864        0         0   \n",
       "2                  서울시 · Seoul          29      347049     3564       120   \n",
       "3                 고기남자 MeatMan          26      528458    15372       280   \n",
       "4                        스브스밥집          24      494904     3918       111   \n",
       "...                        ...         ...         ...      ...       ...   \n",
       "60394                       공룡          22      538190    16671       209   \n",
       "60395                  놀면 뭐하니?          24     1607562    14615       258   \n",
       "60396        김종국 GYM JONG KOOK          17     1125911    26490       263   \n",
       "60397                 스브스 예능맛집          24     1741773    14994       304   \n",
       "60398              HYBE LABELS          10    13753485  1784532      9737   \n",
       "\n",
       "       comment_count                 channelId trending_date2 trending_date1  \\\n",
       "0               8595  UChbE5OZQ6dRHECsX0tEPEZQ     2021-01-01     2021-01-01   \n",
       "1              20129  UCxXgIeE5hxWxHG6dz9Scg2w     2021-01-01     2021-01-01   \n",
       "2                178  UCZUPZW5idAxYp-Asj__lVAA     2021-01-01     2021-01-01   \n",
       "3               3470  UCT3CumbFIJiW33uq0UI3zlg     2021-01-01     2021-01-01   \n",
       "4               3142  UCdWgRSfttvDucq4ApcCg5Mw     2021-01-01     2021-01-01   \n",
       "...              ...                       ...            ...            ...   \n",
       "60394           3117  UCWf4QKgnTyvmehcRqw-JldQ     2021-10-19     2021-10-19   \n",
       "60395           1141  UCx6jsZ02B4K3SECUrkgPyzg     2021-10-19     2021-10-19   \n",
       "60396           1915  UCoe-0EVDJnjlSoPK8ygcGwQ     2021-10-19     2021-10-19   \n",
       "60397            802  UCnx4Fi4cmkLGDiFfZ311wWw     2021-10-19     2021-10-19   \n",
       "60398         195461  UC3IZKseVpdzPSBaWxBxundA     2021-10-19     2021-10-19   \n",
       "\n",
       "      trending_date1_week  \n",
       "0                  Friday  \n",
       "1                  Friday  \n",
       "2                  Friday  \n",
       "3                  Friday  \n",
       "4                  Friday  \n",
       "...                   ...  \n",
       "60394             Tuesday  \n",
       "60395             Tuesday  \n",
       "60396             Tuesday  \n",
       "60397             Tuesday  \n",
       "60398             Tuesday  \n",
       "\n",
       "[60399 rows x 12 columns]"
      ],
      "text/html": [
       "<div>\n",
       "<style scoped>\n",
       "    .dataframe tbody tr th:only-of-type {\n",
       "        vertical-align: middle;\n",
       "    }\n",
       "\n",
       "    .dataframe tbody tr th {\n",
       "        vertical-align: top;\n",
       "    }\n",
       "\n",
       "    .dataframe thead th {\n",
       "        text-align: right;\n",
       "    }\n",
       "</style>\n",
       "<table border=\"1\" class=\"dataframe\">\n",
       "  <thead>\n",
       "    <tr style=\"text-align: right;\">\n",
       "      <th></th>\n",
       "      <th>Unnamed: 0</th>\n",
       "      <th>title</th>\n",
       "      <th>channelTitle</th>\n",
       "      <th>categoryId</th>\n",
       "      <th>view_count</th>\n",
       "      <th>likes</th>\n",
       "      <th>dislikes</th>\n",
       "      <th>comment_count</th>\n",
       "      <th>channelId</th>\n",
       "      <th>trending_date2</th>\n",
       "      <th>trending_date1</th>\n",
       "      <th>trending_date1_week</th>\n",
       "    </tr>\n",
       "  </thead>\n",
       "  <tbody>\n",
       "    <tr>\n",
       "      <th>0</th>\n",
       "      <td>0</td>\n",
       "      <td>[신병] 물자창고</td>\n",
       "      <td>장삐쭈</td>\n",
       "      <td>23</td>\n",
       "      <td>1893473</td>\n",
       "      <td>38249</td>\n",
       "      <td>730</td>\n",
       "      <td>8595</td>\n",
       "      <td>UChbE5OZQ6dRHECsX0tEPEZQ</td>\n",
       "      <td>2021-01-01</td>\n",
       "      <td>2021-01-01</td>\n",
       "      <td>Friday</td>\n",
       "    </tr>\n",
       "    <tr>\n",
       "      <th>1</th>\n",
       "      <td>1</td>\n",
       "      <td>RAIN(비) - 나로 바꾸자 Switch to me (duet with JYP) MV</td>\n",
       "      <td>RAIN's Official Channel</td>\n",
       "      <td>10</td>\n",
       "      <td>2600864</td>\n",
       "      <td>0</td>\n",
       "      <td>0</td>\n",
       "      <td>20129</td>\n",
       "      <td>UCxXgIeE5hxWxHG6dz9Scg2w</td>\n",
       "      <td>2021-01-01</td>\n",
       "      <td>2021-01-01</td>\n",
       "      <td>Friday</td>\n",
       "    </tr>\n",
       "    <tr>\n",
       "      <th>2</th>\n",
       "      <td>2</td>\n",
       "      <td>2020년 제야의 종 온라인 타종행사 | 보신각 현장 행사는 진행하지 않습니다.</td>\n",
       "      <td>서울시 · Seoul</td>\n",
       "      <td>29</td>\n",
       "      <td>347049</td>\n",
       "      <td>3564</td>\n",
       "      <td>120</td>\n",
       "      <td>178</td>\n",
       "      <td>UCZUPZW5idAxYp-Asj__lVAA</td>\n",
       "      <td>2021-01-01</td>\n",
       "      <td>2021-01-01</td>\n",
       "      <td>Friday</td>\n",
       "    </tr>\n",
       "    <tr>\n",
       "      <th>3</th>\n",
       "      <td>3</td>\n",
       "      <td>고기남자의 칠면조 파티</td>\n",
       "      <td>고기남자 MeatMan</td>\n",
       "      <td>26</td>\n",
       "      <td>528458</td>\n",
       "      <td>15372</td>\n",
       "      <td>280</td>\n",
       "      <td>3470</td>\n",
       "      <td>UCT3CumbFIJiW33uq0UI3zlg</td>\n",
       "      <td>2021-01-01</td>\n",
       "      <td>2021-01-01</td>\n",
       "      <td>Friday</td>\n",
       "    </tr>\n",
       "    <tr>\n",
       "      <th>4</th>\n",
       "      <td>4</td>\n",
       "      <td>골목 3mc를 분노하게 만든 마음고생이 심했을 공릉 백반집 사장님의 푸념?! [예능...</td>\n",
       "      <td>스브스밥집</td>\n",
       "      <td>24</td>\n",
       "      <td>494904</td>\n",
       "      <td>3918</td>\n",
       "      <td>111</td>\n",
       "      <td>3142</td>\n",
       "      <td>UCdWgRSfttvDucq4ApcCg5Mw</td>\n",
       "      <td>2021-01-01</td>\n",
       "      <td>2021-01-01</td>\n",
       "      <td>Friday</td>\n",
       "    </tr>\n",
       "    <tr>\n",
       "      <th>...</th>\n",
       "      <td>...</td>\n",
       "      <td>...</td>\n",
       "      <td>...</td>\n",
       "      <td>...</td>\n",
       "      <td>...</td>\n",
       "      <td>...</td>\n",
       "      <td>...</td>\n",
       "      <td>...</td>\n",
       "      <td>...</td>\n",
       "      <td>...</td>\n",
       "      <td>...</td>\n",
       "      <td>...</td>\n",
       "    </tr>\n",
       "    <tr>\n",
       "      <th>60394</th>\n",
       "      <td>60394</td>\n",
       "      <td>*풀코스로 먹습니다* 🍗치킨 + 🍕피자 + 🥧디저트</td>\n",
       "      <td>공룡</td>\n",
       "      <td>22</td>\n",
       "      <td>538190</td>\n",
       "      <td>16671</td>\n",
       "      <td>209</td>\n",
       "      <td>3117</td>\n",
       "      <td>UCWf4QKgnTyvmehcRqw-JldQ</td>\n",
       "      <td>2021-10-19</td>\n",
       "      <td>2021-10-19</td>\n",
       "      <td>Tuesday</td>\n",
       "    </tr>\n",
       "    <tr>\n",
       "      <th>60395</th>\n",
       "      <td>60395</td>\n",
       "      <td>[놀면 뭐하니? 예고] 우린 깐부잖아🦑 놀뭐에 등장한 월드클래스 초대손님!! MBC...</td>\n",
       "      <td>놀면 뭐하니?</td>\n",
       "      <td>24</td>\n",
       "      <td>1607562</td>\n",
       "      <td>14615</td>\n",
       "      <td>258</td>\n",
       "      <td>1141</td>\n",
       "      <td>UCx6jsZ02B4K3SECUrkgPyzg</td>\n",
       "      <td>2021-10-19</td>\n",
       "      <td>2021-10-19</td>\n",
       "      <td>Tuesday</td>\n",
       "    </tr>\n",
       "    <tr>\n",
       "      <th>60396</th>\n",
       "      <td>60396</td>\n",
       "      <td>먹방 전쟁 : 사랑스러War (feat. 401 정육식당)</td>\n",
       "      <td>김종국 GYM JONG KOOK</td>\n",
       "      <td>17</td>\n",
       "      <td>1125911</td>\n",
       "      <td>26490</td>\n",
       "      <td>263</td>\n",
       "      <td>1915</td>\n",
       "      <td>UCoe-0EVDJnjlSoPK8ygcGwQ</td>\n",
       "      <td>2021-10-19</td>\n",
       "      <td>2021-10-19</td>\n",
       "      <td>Tuesday</td>\n",
       "    </tr>\n",
       "    <tr>\n",
       "      <th>60397</th>\n",
       "      <td>60397</td>\n",
       "      <td>＂너.. 광수지?＂ 협상에 거짓말부터 던지는 광수 닮은꼴 김연경 선수 [런닝맨|21...</td>\n",
       "      <td>스브스 예능맛집</td>\n",
       "      <td>24</td>\n",
       "      <td>1741773</td>\n",
       "      <td>14994</td>\n",
       "      <td>304</td>\n",
       "      <td>802</td>\n",
       "      <td>UCnx4Fi4cmkLGDiFfZ311wWw</td>\n",
       "      <td>2021-10-19</td>\n",
       "      <td>2021-10-19</td>\n",
       "      <td>Tuesday</td>\n",
       "    </tr>\n",
       "    <tr>\n",
       "      <th>60398</th>\n",
       "      <td>60398</td>\n",
       "      <td>ENHYPEN (엔하이픈) 'Tamed-Dashed' Official MV</td>\n",
       "      <td>HYBE LABELS</td>\n",
       "      <td>10</td>\n",
       "      <td>13753485</td>\n",
       "      <td>1784532</td>\n",
       "      <td>9737</td>\n",
       "      <td>195461</td>\n",
       "      <td>UC3IZKseVpdzPSBaWxBxundA</td>\n",
       "      <td>2021-10-19</td>\n",
       "      <td>2021-10-19</td>\n",
       "      <td>Tuesday</td>\n",
       "    </tr>\n",
       "  </tbody>\n",
       "</table>\n",
       "<p>60399 rows × 12 columns</p>\n",
       "</div>"
      ]
     },
     "execution_count": 113,
     "metadata": {},
     "output_type": "execute_result"
    }
   ],
   "execution_count": 113
  },
  {
   "metadata": {
    "ExecuteTime": {
     "end_time": "2025-06-03T11:28:52.795452Z",
     "start_time": "2025-06-03T11:28:52.504299Z"
    }
   },
   "cell_type": "code",
   "source": "df['view_reaction'] = df.loc[(df.view_count != 0)].apply(lambda x: x['comment_count'] / x['view_count'], axis=1)",
   "id": "ab4cf53f7b384479",
   "outputs": [],
   "execution_count": 116
  },
  {
   "metadata": {
    "ExecuteTime": {
     "end_time": "2025-06-03T11:30:50.146604Z",
     "start_time": "2025-06-03T11:30:50.120071Z"
    }
   },
   "cell_type": "code",
   "source": "df.sort_values('view_reaction', ascending=False).iloc[0].title",
   "id": "97d99883c6cdcd77",
   "outputs": [
    {
     "data": {
      "text/plain": [
       "'60분 동안 댓글이 달리지 않으면, 영상이 삭제됩니다. (챌린지)'"
      ]
     },
     "execution_count": 123,
     "metadata": {},
     "output_type": "execute_result"
    }
   ],
   "execution_count": 123
  },
  {
   "metadata": {
    "ExecuteTime": {
     "end_time": "2025-06-03T11:33:14.439771Z",
     "start_time": "2025-06-03T11:33:14.413756Z"
    }
   },
   "cell_type": "code",
   "source": "df.loc[df['view_reaction'] != 0].sort_values('view_reaction').iloc[0].title",
   "id": "f66a055585f15581",
   "outputs": [
    {
     "data": {
      "text/plain": [
       "'Join the BTS #PermissiontoDance Challenge only on YouTube #Shorts'"
      ]
     },
     "execution_count": 129,
     "metadata": {},
     "output_type": "execute_result"
    }
   ],
   "execution_count": 129
  },
  {
   "metadata": {
    "ExecuteTime": {
     "end_time": "2025-06-03T11:40:19.936133Z",
     "start_time": "2025-06-03T11:40:19.300416Z"
    }
   },
   "cell_type": "code",
   "source": [
    "target = df.copy().loc[(df.likes != 0) & (df.dislikes != 0)]\n",
    "target['rate'] = target.apply(lambda x: x.dislikes / x.likes, axis=1)\n",
    "target.sort_values('rate').iloc[0].title"
   ],
   "id": "84f8f172591b12a1",
   "outputs": [
    {
     "data": {
      "text/plain": [
       "'[줌터뷰] *최초공개* 사부작즈🐰🐶의 비공식 이름은 아이라인즈? 꿀조합 티키타카 가득한 NCT 127 도영&정우의 줌터뷰'"
      ]
     },
     "execution_count": 142,
     "metadata": {},
     "output_type": "execute_result"
    }
   ],
   "execution_count": 142
  },
  {
   "metadata": {
    "ExecuteTime": {
     "end_time": "2025-06-03T11:49:16.867679Z",
     "start_time": "2025-06-03T11:49:16.853962Z"
    }
   },
   "cell_type": "code",
   "source": "df.loc[df.channelId == df.channelId.value_counts().index[0]].channelTitle.unique()[0]",
   "id": "2ac1a9f2dad66045",
   "outputs": [
    {
     "data": {
      "text/plain": [
       "'짤툰'"
      ]
     },
     "execution_count": 176,
     "metadata": {},
     "output_type": "execute_result"
    }
   ],
   "execution_count": 176
  },
  {
   "metadata": {
    "ExecuteTime": {
     "end_time": "2025-06-03T12:02:18.383727Z",
     "start_time": "2025-06-03T12:02:18.350195Z"
    }
   },
   "cell_type": "code",
   "source": "(df[['title', 'channelId']].value_counts() >= 20).sum()",
   "id": "c4f17b9466e89e9d",
   "outputs": [
    {
     "data": {
      "text/plain": [
       "40"
      ]
     },
     "execution_count": 206,
     "metadata": {},
     "output_type": "execute_result"
    }
   ],
   "execution_count": 206
  }
 ],
 "metadata": {
  "kernelspec": {
   "display_name": "Python 3",
   "language": "python",
   "name": "python3"
  },
  "language_info": {
   "codemirror_mode": {
    "name": "ipython",
    "version": 2
   },
   "file_extension": ".py",
   "mimetype": "text/x-python",
   "name": "python",
   "nbconvert_exporter": "python",
   "pygments_lexer": "ipython2",
   "version": "2.7.6"
  }
 },
 "nbformat": 4,
 "nbformat_minor": 5
}
