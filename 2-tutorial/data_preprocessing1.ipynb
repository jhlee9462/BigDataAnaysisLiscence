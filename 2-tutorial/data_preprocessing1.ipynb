{
 "cells": [
  {
   "cell_type": "code",
   "id": "initial_id",
   "metadata": {
    "collapsed": true,
    "ExecuteTime": {
     "end_time": "2025-06-11T09:52:53.942743Z",
     "start_time": "2025-06-11T09:52:44.950747Z"
    }
   },
   "source": [
    "import pandas as pd\n",
    "\n",
    "train = pd.read_csv('https://raw.githubusercontent.com/Datamanim/datarepo/main/airline/x_train.csv')\n",
    "test = pd.read_csv('https://raw.githubusercontent.com/Datamanim/datarepo/main/airline/x_test.csv')\n",
    "train.head()"
   ],
   "outputs": [
    {
     "data": {
      "text/plain": [
       "   ID  Gender   Customer Type  Age   Type of Travel     Class  \\\n",
       "0   0  Female  Loyal Customer   54  Personal Travel       Eco   \n",
       "1   2    Male  Loyal Customer   20  Personal Travel       Eco   \n",
       "2   3    Male  Loyal Customer   59  Business travel  Business   \n",
       "3   4    Male  Loyal Customer   35  Business travel  Eco Plus   \n",
       "4   5  Female  Loyal Customer    9  Business travel  Business   \n",
       "\n",
       "   Flight Distance  Inflight wifi service  Departure/Arrival time convenient  \\\n",
       "0             1068                      3                                  4   \n",
       "1             1546                      4                                  4   \n",
       "2             2962                      0                                  4   \n",
       "3              106                      5                                  4   \n",
       "4             2917                      3                                  3   \n",
       "\n",
       "   Ease of Online booking  ...  Inflight entertainment  On-board service  \\\n",
       "0                       3  ...                       5                 5   \n",
       "1                       4  ...                       4                 3   \n",
       "2                       0  ...                       1                 1   \n",
       "3                       4  ...                       5                 2   \n",
       "4                       3  ...                       4                 4   \n",
       "\n",
       "   Leg room service  Baggage handling  Checkin service  Inflight service  \\\n",
       "0                 3                 5                3                 5   \n",
       "1                 3                 4                4                 4   \n",
       "2                 1                 1                5                 1   \n",
       "3                 1                 5                4                 4   \n",
       "4                 4                 5                4                 3   \n",
       "\n",
       "   Cleanliness  Departure Delay in Minutes  Arrival Delay in Minutes  id  \n",
       "0            3                          47                      22.0 NaN  \n",
       "1            4                           5                       2.0 NaN  \n",
       "2            4                          54                      46.0 NaN  \n",
       "3            5                         130                     121.0 NaN  \n",
       "4            4                           0                       0.0 NaN  \n",
       "\n",
       "[5 rows x 24 columns]"
      ],
      "text/html": [
       "<div>\n",
       "<style scoped>\n",
       "    .dataframe tbody tr th:only-of-type {\n",
       "        vertical-align: middle;\n",
       "    }\n",
       "\n",
       "    .dataframe tbody tr th {\n",
       "        vertical-align: top;\n",
       "    }\n",
       "\n",
       "    .dataframe thead th {\n",
       "        text-align: right;\n",
       "    }\n",
       "</style>\n",
       "<table border=\"1\" class=\"dataframe\">\n",
       "  <thead>\n",
       "    <tr style=\"text-align: right;\">\n",
       "      <th></th>\n",
       "      <th>ID</th>\n",
       "      <th>Gender</th>\n",
       "      <th>Customer Type</th>\n",
       "      <th>Age</th>\n",
       "      <th>Type of Travel</th>\n",
       "      <th>Class</th>\n",
       "      <th>Flight Distance</th>\n",
       "      <th>Inflight wifi service</th>\n",
       "      <th>Departure/Arrival time convenient</th>\n",
       "      <th>Ease of Online booking</th>\n",
       "      <th>...</th>\n",
       "      <th>Inflight entertainment</th>\n",
       "      <th>On-board service</th>\n",
       "      <th>Leg room service</th>\n",
       "      <th>Baggage handling</th>\n",
       "      <th>Checkin service</th>\n",
       "      <th>Inflight service</th>\n",
       "      <th>Cleanliness</th>\n",
       "      <th>Departure Delay in Minutes</th>\n",
       "      <th>Arrival Delay in Minutes</th>\n",
       "      <th>id</th>\n",
       "    </tr>\n",
       "  </thead>\n",
       "  <tbody>\n",
       "    <tr>\n",
       "      <th>0</th>\n",
       "      <td>0</td>\n",
       "      <td>Female</td>\n",
       "      <td>Loyal Customer</td>\n",
       "      <td>54</td>\n",
       "      <td>Personal Travel</td>\n",
       "      <td>Eco</td>\n",
       "      <td>1068</td>\n",
       "      <td>3</td>\n",
       "      <td>4</td>\n",
       "      <td>3</td>\n",
       "      <td>...</td>\n",
       "      <td>5</td>\n",
       "      <td>5</td>\n",
       "      <td>3</td>\n",
       "      <td>5</td>\n",
       "      <td>3</td>\n",
       "      <td>5</td>\n",
       "      <td>3</td>\n",
       "      <td>47</td>\n",
       "      <td>22.0</td>\n",
       "      <td>NaN</td>\n",
       "    </tr>\n",
       "    <tr>\n",
       "      <th>1</th>\n",
       "      <td>2</td>\n",
       "      <td>Male</td>\n",
       "      <td>Loyal Customer</td>\n",
       "      <td>20</td>\n",
       "      <td>Personal Travel</td>\n",
       "      <td>Eco</td>\n",
       "      <td>1546</td>\n",
       "      <td>4</td>\n",
       "      <td>4</td>\n",
       "      <td>4</td>\n",
       "      <td>...</td>\n",
       "      <td>4</td>\n",
       "      <td>3</td>\n",
       "      <td>3</td>\n",
       "      <td>4</td>\n",
       "      <td>4</td>\n",
       "      <td>4</td>\n",
       "      <td>4</td>\n",
       "      <td>5</td>\n",
       "      <td>2.0</td>\n",
       "      <td>NaN</td>\n",
       "    </tr>\n",
       "    <tr>\n",
       "      <th>2</th>\n",
       "      <td>3</td>\n",
       "      <td>Male</td>\n",
       "      <td>Loyal Customer</td>\n",
       "      <td>59</td>\n",
       "      <td>Business travel</td>\n",
       "      <td>Business</td>\n",
       "      <td>2962</td>\n",
       "      <td>0</td>\n",
       "      <td>4</td>\n",
       "      <td>0</td>\n",
       "      <td>...</td>\n",
       "      <td>1</td>\n",
       "      <td>1</td>\n",
       "      <td>1</td>\n",
       "      <td>1</td>\n",
       "      <td>5</td>\n",
       "      <td>1</td>\n",
       "      <td>4</td>\n",
       "      <td>54</td>\n",
       "      <td>46.0</td>\n",
       "      <td>NaN</td>\n",
       "    </tr>\n",
       "    <tr>\n",
       "      <th>3</th>\n",
       "      <td>4</td>\n",
       "      <td>Male</td>\n",
       "      <td>Loyal Customer</td>\n",
       "      <td>35</td>\n",
       "      <td>Business travel</td>\n",
       "      <td>Eco Plus</td>\n",
       "      <td>106</td>\n",
       "      <td>5</td>\n",
       "      <td>4</td>\n",
       "      <td>4</td>\n",
       "      <td>...</td>\n",
       "      <td>5</td>\n",
       "      <td>2</td>\n",
       "      <td>1</td>\n",
       "      <td>5</td>\n",
       "      <td>4</td>\n",
       "      <td>4</td>\n",
       "      <td>5</td>\n",
       "      <td>130</td>\n",
       "      <td>121.0</td>\n",
       "      <td>NaN</td>\n",
       "    </tr>\n",
       "    <tr>\n",
       "      <th>4</th>\n",
       "      <td>5</td>\n",
       "      <td>Female</td>\n",
       "      <td>Loyal Customer</td>\n",
       "      <td>9</td>\n",
       "      <td>Business travel</td>\n",
       "      <td>Business</td>\n",
       "      <td>2917</td>\n",
       "      <td>3</td>\n",
       "      <td>3</td>\n",
       "      <td>3</td>\n",
       "      <td>...</td>\n",
       "      <td>4</td>\n",
       "      <td>4</td>\n",
       "      <td>4</td>\n",
       "      <td>5</td>\n",
       "      <td>4</td>\n",
       "      <td>3</td>\n",
       "      <td>4</td>\n",
       "      <td>0</td>\n",
       "      <td>0.0</td>\n",
       "      <td>NaN</td>\n",
       "    </tr>\n",
       "  </tbody>\n",
       "</table>\n",
       "<p>5 rows × 24 columns</p>\n",
       "</div>"
      ]
     },
     "execution_count": 1,
     "metadata": {},
     "output_type": "execute_result"
    }
   ],
   "execution_count": 1
  },
  {
   "metadata": {
    "ExecuteTime": {
     "end_time": "2025-06-11T09:52:55.853826Z",
     "start_time": "2025-06-11T09:52:54.031547Z"
    }
   },
   "cell_type": "code",
   "source": [
    "from sklearn.preprocessing import MinMaxScaler\n",
    "\n",
    "mm = MinMaxScaler()\n",
    "train['scaling'] = mm.fit_transform(train['Flight Distance'].values.reshape(-1,1))"
   ],
   "id": "dc1c6a59dde8f03b",
   "outputs": [],
   "execution_count": 2
  },
  {
   "metadata": {
    "ExecuteTime": {
     "end_time": "2025-06-11T09:52:57.277259Z",
     "start_time": "2025-06-11T09:52:56.257221Z"
    }
   },
   "cell_type": "code",
   "source": [
    "# 결과 시각화\n",
    "import matplotlib.pyplot as plt\n",
    "\n",
    "fig , ax = plt.subplots(1,2)\n",
    "ax[0].boxplot(train['Flight Distance'])\n",
    "ax[0].set_xticks([1])\n",
    "ax[0].set_xticklabels(['Raw'])\n",
    "ax[1].boxplot(train['scaling'])\n",
    "ax[1].set_xticks([1])\n",
    "ax[1].set_xticklabels(['Scaling data'])\n",
    "plt.show()"
   ],
   "id": "ae303244b52cb7e4",
   "outputs": [
    {
     "data": {
      "text/plain": [
       "<Figure size 640x480 with 2 Axes>"
      ],
      "image/png": "[encoded data removed]"
     },
     "metadata": {},
     "output_type": "display_data"
    }
   ],
   "execution_count": 3
  },
  {
   "metadata": {
    "ExecuteTime": {
     "end_time": "2025-06-11T09:52:57.519041Z",
     "start_time": "2025-06-11T09:52:57.475169Z"
    }
   },
   "cell_type": "code",
   "source": [
    "mx = train['Flight Distance'].max()\n",
    "mn = train['Flight Distance'].min()\n",
    "train['scaling'] = train['Flight Distance'].apply(lambda x: (x - mn) / (mx - mn))"
   ],
   "id": "ecbf708e71952506",
   "outputs": [],
   "execution_count": 4
  },
  {
   "metadata": {
    "ExecuteTime": {
     "end_time": "2025-06-11T09:52:57.676391Z",
     "start_time": "2025-06-11T09:52:57.569658Z"
    }
   },
   "cell_type": "code",
   "source": [
    "# 결과 시각화\n",
    "import matplotlib.pyplot as plt\n",
    "\n",
    "fig , ax = plt.subplots(1,2)\n",
    "ax[0].boxplot(train['Flight Distance'])\n",
    "ax[0].set_xticks([1])\n",
    "ax[0].set_xticklabels(['Raw'])\n",
    "ax[1].boxplot(train['scaling'])\n",
    "ax[1].set_xticks([1])\n",
    "ax[1].set_xticklabels(['Scaling data'])\n",
    "plt.show()"
   ],
   "id": "98df2305833cb61d",
   "outputs": [
    {
     "data": {
      "text/plain": [
       "<Figure size 640x480 with 2 Axes>"
      ],
      "image/png": "[encoded data removed]"
     },
     "metadata": {},
     "output_type": "display_data"
    }
   ],
   "execution_count": 5
  },
  {
   "metadata": {
    "ExecuteTime": {
     "end_time": "2025-06-11T09:56:44.207043Z",
     "start_time": "2025-06-11T09:56:44.194511Z"
    }
   },
   "cell_type": "code",
   "source": [
    "train['age_scaling'] = mm.fit_transform(train['Age'].values.reshape(-1, 1))\n",
    "test['age_scaling'] = mm.transform(test['Age'].values.reshape(-1,1))\n",
    "test[['ID', 'age_scaling']]"
   ],
   "id": "97f59467eeb51233",
   "outputs": [
    {
     "data": {
      "text/plain": [
       "           ID  age_scaling\n",
       "0           1     0.269231\n",
       "1          16     0.346154\n",
       "2          17     0.205128\n",
       "3          25     0.615385\n",
       "4          27     0.474359\n",
       "...       ...          ...\n",
       "20776  103895     0.653846\n",
       "20777  103896     0.025641\n",
       "20778  103897     0.500000\n",
       "20779  103900     0.358974\n",
       "20780  103902     0.525641\n",
       "\n",
       "[20781 rows x 2 columns]"
      ],
      "text/html": [
       "<div>\n",
       "<style scoped>\n",
       "    .dataframe tbody tr th:only-of-type {\n",
       "        vertical-align: middle;\n",
       "    }\n",
       "\n",
       "    .dataframe tbody tr th {\n",
       "        vertical-align: top;\n",
       "    }\n",
       "\n",
       "    .dataframe thead th {\n",
       "        text-align: right;\n",
       "    }\n",
       "</style>\n",
       "<table border=\"1\" class=\"dataframe\">\n",
       "  <thead>\n",
       "    <tr style=\"text-align: right;\">\n",
       "      <th></th>\n",
       "      <th>ID</th>\n",
       "      <th>age_scaling</th>\n",
       "    </tr>\n",
       "  </thead>\n",
       "  <tbody>\n",
       "    <tr>\n",
       "      <th>0</th>\n",
       "      <td>1</td>\n",
       "      <td>0.269231</td>\n",
       "    </tr>\n",
       "    <tr>\n",
       "      <th>1</th>\n",
       "      <td>16</td>\n",
       "      <td>0.346154</td>\n",
       "    </tr>\n",
       "    <tr>\n",
       "      <th>2</th>\n",
       "      <td>17</td>\n",
       "      <td>0.205128</td>\n",
       "    </tr>\n",
       "    <tr>\n",
       "      <th>3</th>\n",
       "      <td>25</td>\n",
       "      <td>0.615385</td>\n",
       "    </tr>\n",
       "    <tr>\n",
       "      <th>4</th>\n",
       "      <td>27</td>\n",
       "      <td>0.474359</td>\n",
       "    </tr>\n",
       "    <tr>\n",
       "      <th>...</th>\n",
       "      <td>...</td>\n",
       "      <td>...</td>\n",
       "    </tr>\n",
       "    <tr>\n",
       "      <th>20776</th>\n",
       "      <td>103895</td>\n",
       "      <td>0.653846</td>\n",
       "    </tr>\n",
       "    <tr>\n",
       "      <th>20777</th>\n",
       "      <td>103896</td>\n",
       "      <td>0.025641</td>\n",
       "    </tr>\n",
       "    <tr>\n",
       "      <th>20778</th>\n",
       "      <td>103897</td>\n",
       "      <td>0.500000</td>\n",
       "    </tr>\n",
       "    <tr>\n",
       "      <th>20779</th>\n",
       "      <td>103900</td>\n",
       "      <td>0.358974</td>\n",
       "    </tr>\n",
       "    <tr>\n",
       "      <th>20780</th>\n",
       "      <td>103902</td>\n",
       "      <td>0.525641</td>\n",
       "    </tr>\n",
       "  </tbody>\n",
       "</table>\n",
       "<p>20781 rows × 2 columns</p>\n",
       "</div>"
      ]
     },
     "execution_count": 14,
     "metadata": {},
     "output_type": "execute_result"
    }
   ],
   "execution_count": 14
  },
  {
   "metadata": {
    "ExecuteTime": {
     "end_time": "2025-06-11T10:02:52.700896Z",
     "start_time": "2025-06-11T10:02:52.664952Z"
    }
   },
   "cell_type": "code",
   "source": [
    "std_ = train['Age'].std()\n",
    "mean_ = train['Age'].mean()\n",
    "\n",
    "train['age_scaling'] = train['Age'].apply(lambda x: (x - mean_) / std_)"
   ],
   "id": "80d6ab42ae8ae4b5",
   "outputs": [],
   "execution_count": 18
  },
  {
   "metadata": {
    "ExecuteTime": {
     "end_time": "2025-06-11T10:06:04.658366Z",
     "start_time": "2025-06-11T10:06:04.556277Z"
    }
   },
   "cell_type": "code",
   "source": [
    "##결과 시각화\n",
    "import matplotlib.pyplot as plt\n",
    "fig , ax = plt.subplots(1,2)\n",
    "ax[0].boxplot(train['age_scaling'])\n",
    "ax[0].set_xticks([1])\n",
    "plt.show()"
   ],
   "id": "c002105d48a0b6f1",
   "outputs": [
    {
     "data": {
      "text/plain": [
       "<Figure size 640x480 with 2 Axes>"
      ],
      "image/png": "[encoded data removed]"
     },
     "metadata": {},
     "output_type": "display_data"
    }
   ],
   "execution_count": 27
  },
  {
   "metadata": {
    "ExecuteTime": {
     "end_time": "2025-06-11T10:08:22.348715Z",
     "start_time": "2025-06-11T10:08:22.336779Z"
    }
   },
   "cell_type": "code",
   "source": [
    "from sklearn.preprocessing import StandardScaler\n",
    "\n",
    "ss = StandardScaler()\n",
    "train['age_scaling'] = ss.fit_transform(train['Age'].values.reshape(-1,1))\n",
    "test['age_scaling'] = ss.transform(test['Age'].values.reshape(-1,1))\n",
    "test[['ID', 'age_scaling']]"
   ],
   "id": "5732e6e0e8b9d5f4",
   "outputs": [
    {
     "data": {
      "text/plain": [
       "           ID  age_scaling\n",
       "0           1    -0.752215\n",
       "1          16    -0.354927\n",
       "2          17    -1.083288\n",
       "3          25     1.035580\n",
       "4          27     0.307219\n",
       "...       ...          ...\n",
       "20776  103895     1.234224\n",
       "20777  103896    -2.010293\n",
       "20778  103897     0.439649\n",
       "20779  103900    -0.288712\n",
       "20780  103902     0.572078\n",
       "\n",
       "[20781 rows x 2 columns]"
      ],
      "text/html": [
       "<div>\n",
       "<style scoped>\n",
       "    .dataframe tbody tr th:only-of-type {\n",
       "        vertical-align: middle;\n",
       "    }\n",
       "\n",
       "    .dataframe tbody tr th {\n",
       "        vertical-align: top;\n",
       "    }\n",
       "\n",
       "    .dataframe thead th {\n",
       "        text-align: right;\n",
       "    }\n",
       "</style>\n",
       "<table border=\"1\" class=\"dataframe\">\n",
       "  <thead>\n",
       "    <tr style=\"text-align: right;\">\n",
       "      <th></th>\n",
       "      <th>ID</th>\n",
       "      <th>age_scaling</th>\n",
       "    </tr>\n",
       "  </thead>\n",
       "  <tbody>\n",
       "    <tr>\n",
       "      <th>0</th>\n",
       "      <td>1</td>\n",
       "      <td>-0.752215</td>\n",
       "    </tr>\n",
       "    <tr>\n",
       "      <th>1</th>\n",
       "      <td>16</td>\n",
       "      <td>-0.354927</td>\n",
       "    </tr>\n",
       "    <tr>\n",
       "      <th>2</th>\n",
       "      <td>17</td>\n",
       "      <td>-1.083288</td>\n",
       "    </tr>\n",
       "    <tr>\n",
       "      <th>3</th>\n",
       "      <td>25</td>\n",
       "      <td>1.035580</td>\n",
       "    </tr>\n",
       "    <tr>\n",
       "      <th>4</th>\n",
       "      <td>27</td>\n",
       "      <td>0.307219</td>\n",
       "    </tr>\n",
       "    <tr>\n",
       "      <th>...</th>\n",
       "      <td>...</td>\n",
       "      <td>...</td>\n",
       "    </tr>\n",
       "    <tr>\n",
       "      <th>20776</th>\n",
       "      <td>103895</td>\n",
       "      <td>1.234224</td>\n",
       "    </tr>\n",
       "    <tr>\n",
       "      <th>20777</th>\n",
       "      <td>103896</td>\n",
       "      <td>-2.010293</td>\n",
       "    </tr>\n",
       "    <tr>\n",
       "      <th>20778</th>\n",
       "      <td>103897</td>\n",
       "      <td>0.439649</td>\n",
       "    </tr>\n",
       "    <tr>\n",
       "      <th>20779</th>\n",
       "      <td>103900</td>\n",
       "      <td>-0.288712</td>\n",
       "    </tr>\n",
       "    <tr>\n",
       "      <th>20780</th>\n",
       "      <td>103902</td>\n",
       "      <td>0.572078</td>\n",
       "    </tr>\n",
       "  </tbody>\n",
       "</table>\n",
       "<p>20781 rows × 2 columns</p>\n",
       "</div>"
      ]
     },
     "execution_count": 32,
     "metadata": {},
     "output_type": "execute_result"
    }
   ],
   "execution_count": 32
  },
  {
   "metadata": {
    "ExecuteTime": {
     "end_time": "2025-06-11T10:07:33.793919Z",
     "start_time": "2025-06-11T10:07:33.701741Z"
    }
   },
   "cell_type": "code",
   "source": [
    "##결과 시각화\n",
    "import matplotlib.pyplot as plt\n",
    "fig , ax = plt.subplots(1,2)\n",
    "ax[0].boxplot(train['Age'])\n",
    "ax[0].set_xticks([1])\n",
    "ax[0].set_xticklabels(['Raw'])\n",
    "ax[1].boxplot(train['age_scaling'])\n",
    "ax[1].set_xticks([1])\n",
    "ax[1].set_xticklabels(['age_scaling'])\n",
    "plt.show()"
   ],
   "id": "48d2f105bdda17c4",
   "outputs": [
    {
     "data": {
      "text/plain": [
       "<Figure size 640x480 with 2 Axes>"
      ],
      "image/png": "[encoded data removed]"
     },
     "metadata": {},
     "output_type": "display_data"
    }
   ],
   "execution_count": 31
  }
 ],
 "metadata": {
  "kernelspec": {
   "display_name": "Python 3",
   "language": "python",
   "name": "python3"
  },
  "language_info": {
   "codemirror_mode": {
    "name": "ipython",
    "version": 2
   },
   "file_extension": ".py",
   "mimetype": "text/x-python",
   "name": "python",
   "nbconvert_exporter": "python",
   "pygments_lexer": "ipython2",
   "version": "2.7.6"
  }
 },
 "nbformat": 4,
 "nbformat_minor": 5
}
