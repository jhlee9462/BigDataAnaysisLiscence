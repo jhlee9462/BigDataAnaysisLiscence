{
 "cells": [
  {
   "cell_type": "code",
   "id": "initial_id",
   "metadata": {
    "collapsed": true,
    "ExecuteTime": {
     "end_time": "2025-06-18T14:35:39.675946Z",
     "start_time": "2025-06-18T14:35:39.393567Z"
    }
   },
   "source": [
    "import pandas as pd\n",
    "\n",
    "df = pd.read_csv('https://raw.githubusercontent.com/Datamanim/datarepo/refs/heads/master/krdatacertificate/s1.csv')"
   ],
   "outputs": [],
   "execution_count": 20
  },
  {
   "metadata": {
    "ExecuteTime": {
     "end_time": "2025-06-18T14:35:39.685983Z",
     "start_time": "2025-06-18T14:35:39.682594Z"
    }
   },
   "cell_type": "code",
   "source": [
    "one = df.loc[df['Classification'] == 1].Resistin\n",
    "two = df.loc[df['Classification'] == 2].Resistin"
   ],
   "id": "b02237f11643be0c",
   "outputs": [],
   "execution_count": 21
  },
  {
   "metadata": {
    "ExecuteTime": {
     "end_time": "2025-06-18T14:35:39.710153Z",
     "start_time": "2025-06-18T14:35:39.707069Z"
    }
   },
   "cell_type": "code",
   "source": [
    "import numpy as np\n",
    "\n",
    "one_log = np.log(one)\n",
    "two_log = np.log(two)"
   ],
   "id": "e79db75027d1081a",
   "outputs": [],
   "execution_count": 22
  },
  {
   "metadata": {
    "ExecuteTime": {
     "end_time": "2025-06-18T14:35:39.733995Z",
     "start_time": "2025-06-18T14:35:39.730196Z"
    }
   },
   "cell_type": "code",
   "source": [
    "var_1 = np.var(two_log, ddof=1)\n",
    "var_2 = np.var(one_log, ddof=1)\n",
    "result = var_1 / var_2\n",
    "\n",
    "round(result, 3)"
   ],
   "id": "a760cdf8c033202b",
   "outputs": [
    {
     "data": {
      "text/plain": [
       "1.348"
      ]
     },
     "execution_count": 23,
     "metadata": {},
     "output_type": "execute_result"
    }
   ],
   "execution_count": 23
  },
  {
   "metadata": {
    "ExecuteTime": {
     "end_time": "2025-06-18T14:36:51.974045Z",
     "start_time": "2025-06-18T14:36:51.970006Z"
    }
   },
   "cell_type": "code",
   "source": [
    "r = ((len(one) - 1) * var_1 + (len(two) - 1) * var_2) / (len(one) + len(two) - 2)\n",
    "\n",
    "round(r, 3)"
   ],
   "id": "f8e05550b10528e1",
   "outputs": [
    {
     "data": {
      "text/plain": [
       "0.435"
      ]
     },
     "execution_count": 25,
     "metadata": {},
     "output_type": "execute_result"
    }
   ],
   "execution_count": 25
  },
  {
   "metadata": {
    "ExecuteTime": {
     "end_time": "2025-06-18T14:39:26.991412Z",
     "start_time": "2025-06-18T14:39:26.987362Z"
    }
   },
   "cell_type": "code",
   "source": [
    "from scipy.stats import ttest_ind\n",
    "\n",
    "stats, p = ttest_ind(one_log, two_log)"
   ],
   "id": "cc28b6eca60671d1",
   "outputs": [],
   "execution_count": 29
  },
  {
   "metadata": {
    "ExecuteTime": {
     "end_time": "2025-06-18T14:39:31.730462Z",
     "start_time": "2025-06-18T14:39:31.727237Z"
    }
   },
   "cell_type": "code",
   "source": "print(round(p, 3))",
   "id": "cc469ea1ea58cefd",
   "outputs": [
    {
     "name": "stdout",
     "output_type": "stream",
     "text": [
      "0.003\n"
     ]
    }
   ],
   "execution_count": 30
  }
 ],
 "metadata": {
  "kernelspec": {
   "display_name": "Python 3",
   "language": "python",
   "name": "python3"
  },
  "language_info": {
   "codemirror_mode": {
    "name": "ipython",
    "version": 2
   },
   "file_extension": ".py",
   "mimetype": "text/x-python",
   "name": "python",
   "nbconvert_exporter": "python",
   "pygments_lexer": "ipython2",
   "version": "2.7.6"
  }
 },
 "nbformat": 4,
 "nbformat_minor": 5
}
