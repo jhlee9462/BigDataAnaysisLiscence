{
 "cells": [
  {
   "cell_type": "code",
   "id": "initial_id",
   "metadata": {
    "collapsed": true,
    "ExecuteTime": {
     "end_time": "2025-06-08T12:47:15.157122Z",
     "start_time": "2025-06-08T12:47:14.934690Z"
    }
   },
   "source": [
    "import pandas as pd\n",
    "\n",
    "df = pd.read_csv('https://raw.githubusercontent.com/Datamanim/datarepo/main/smoke/train.csv')\n",
    "df.head()"
   ],
   "outputs": [
    {
     "data": {
      "text/plain": [
       "  성별코드  연령대코드(5세단위)  신장(5Cm단위)  체중(5Kg단위)  허리둘레  시력(좌)  시력(우)  청력(좌)  청력(우)  \\\n",
       "0    F           55        145         55  73.0    0.7    0.5    1.0    1.0   \n",
       "1    M           40        180         55  74.0    1.5    1.5    1.0    1.0   \n",
       "2    F           55        150         50  72.0    1.0    0.2    1.0    1.0   \n",
       "3    M           40        170         85  89.0    1.0    0.8    1.0    1.0   \n",
       "4    F           40        155         45  62.0    0.5    1.0    1.0    1.0   \n",
       "\n",
       "   수축기혈압  ...   혈색소  요단백  혈청크레아티닌  (혈청지오티)AST  (혈청지오티)ALT  감마지티피  흡연상태  \\\n",
       "0  129.0  ...  12.9  1.0      0.9       172.0       209.0   15.0     0   \n",
       "1  102.0  ...  15.6  1.0      0.8        30.0        19.0   23.0     1   \n",
       "2  116.0  ...  14.1  1.0      1.0        31.0        19.0   10.0     0   \n",
       "3  124.0  ...  16.7  1.0      1.0        26.0        38.0  108.0     1   \n",
       "4  127.0  ...  12.9  1.0      0.7        20.0        11.0   13.0     0   \n",
       "\n",
       "   구강검진수검여부  치아우식증유무  치석  \n",
       "0         Y      0.0   Y  \n",
       "1         Y      0.0   Y  \n",
       "2         Y      0.0   N  \n",
       "3         Y      1.0   Y  \n",
       "4         Y      0.0   N  \n",
       "\n",
       "[5 rows x 26 columns]"
      ],
      "text/html": [
       "<div>\n",
       "<style scoped>\n",
       "    .dataframe tbody tr th:only-of-type {\n",
       "        vertical-align: middle;\n",
       "    }\n",
       "\n",
       "    .dataframe tbody tr th {\n",
       "        vertical-align: top;\n",
       "    }\n",
       "\n",
       "    .dataframe thead th {\n",
       "        text-align: right;\n",
       "    }\n",
       "</style>\n",
       "<table border=\"1\" class=\"dataframe\">\n",
       "  <thead>\n",
       "    <tr style=\"text-align: right;\">\n",
       "      <th></th>\n",
       "      <th>성별코드</th>\n",
       "      <th>연령대코드(5세단위)</th>\n",
       "      <th>신장(5Cm단위)</th>\n",
       "      <th>체중(5Kg단위)</th>\n",
       "      <th>허리둘레</th>\n",
       "      <th>시력(좌)</th>\n",
       "      <th>시력(우)</th>\n",
       "      <th>청력(좌)</th>\n",
       "      <th>청력(우)</th>\n",
       "      <th>수축기혈압</th>\n",
       "      <th>...</th>\n",
       "      <th>혈색소</th>\n",
       "      <th>요단백</th>\n",
       "      <th>혈청크레아티닌</th>\n",
       "      <th>(혈청지오티)AST</th>\n",
       "      <th>(혈청지오티)ALT</th>\n",
       "      <th>감마지티피</th>\n",
       "      <th>흡연상태</th>\n",
       "      <th>구강검진수검여부</th>\n",
       "      <th>치아우식증유무</th>\n",
       "      <th>치석</th>\n",
       "    </tr>\n",
       "  </thead>\n",
       "  <tbody>\n",
       "    <tr>\n",
       "      <th>0</th>\n",
       "      <td>F</td>\n",
       "      <td>55</td>\n",
       "      <td>145</td>\n",
       "      <td>55</td>\n",
       "      <td>73.0</td>\n",
       "      <td>0.7</td>\n",
       "      <td>0.5</td>\n",
       "      <td>1.0</td>\n",
       "      <td>1.0</td>\n",
       "      <td>129.0</td>\n",
       "      <td>...</td>\n",
       "      <td>12.9</td>\n",
       "      <td>1.0</td>\n",
       "      <td>0.9</td>\n",
       "      <td>172.0</td>\n",
       "      <td>209.0</td>\n",
       "      <td>15.0</td>\n",
       "      <td>0</td>\n",
       "      <td>Y</td>\n",
       "      <td>0.0</td>\n",
       "      <td>Y</td>\n",
       "    </tr>\n",
       "    <tr>\n",
       "      <th>1</th>\n",
       "      <td>M</td>\n",
       "      <td>40</td>\n",
       "      <td>180</td>\n",
       "      <td>55</td>\n",
       "      <td>74.0</td>\n",
       "      <td>1.5</td>\n",
       "      <td>1.5</td>\n",
       "      <td>1.0</td>\n",
       "      <td>1.0</td>\n",
       "      <td>102.0</td>\n",
       "      <td>...</td>\n",
       "      <td>15.6</td>\n",
       "      <td>1.0</td>\n",
       "      <td>0.8</td>\n",
       "      <td>30.0</td>\n",
       "      <td>19.0</td>\n",
       "      <td>23.0</td>\n",
       "      <td>1</td>\n",
       "      <td>Y</td>\n",
       "      <td>0.0</td>\n",
       "      <td>Y</td>\n",
       "    </tr>\n",
       "    <tr>\n",
       "      <th>2</th>\n",
       "      <td>F</td>\n",
       "      <td>55</td>\n",
       "      <td>150</td>\n",
       "      <td>50</td>\n",
       "      <td>72.0</td>\n",
       "      <td>1.0</td>\n",
       "      <td>0.2</td>\n",
       "      <td>1.0</td>\n",
       "      <td>1.0</td>\n",
       "      <td>116.0</td>\n",
       "      <td>...</td>\n",
       "      <td>14.1</td>\n",
       "      <td>1.0</td>\n",
       "      <td>1.0</td>\n",
       "      <td>31.0</td>\n",
       "      <td>19.0</td>\n",
       "      <td>10.0</td>\n",
       "      <td>0</td>\n",
       "      <td>Y</td>\n",
       "      <td>0.0</td>\n",
       "      <td>N</td>\n",
       "    </tr>\n",
       "    <tr>\n",
       "      <th>3</th>\n",
       "      <td>M</td>\n",
       "      <td>40</td>\n",
       "      <td>170</td>\n",
       "      <td>85</td>\n",
       "      <td>89.0</td>\n",
       "      <td>1.0</td>\n",
       "      <td>0.8</td>\n",
       "      <td>1.0</td>\n",
       "      <td>1.0</td>\n",
       "      <td>124.0</td>\n",
       "      <td>...</td>\n",
       "      <td>16.7</td>\n",
       "      <td>1.0</td>\n",
       "      <td>1.0</td>\n",
       "      <td>26.0</td>\n",
       "      <td>38.0</td>\n",
       "      <td>108.0</td>\n",
       "      <td>1</td>\n",
       "      <td>Y</td>\n",
       "      <td>1.0</td>\n",
       "      <td>Y</td>\n",
       "    </tr>\n",
       "    <tr>\n",
       "      <th>4</th>\n",
       "      <td>F</td>\n",
       "      <td>40</td>\n",
       "      <td>155</td>\n",
       "      <td>45</td>\n",
       "      <td>62.0</td>\n",
       "      <td>0.5</td>\n",
       "      <td>1.0</td>\n",
       "      <td>1.0</td>\n",
       "      <td>1.0</td>\n",
       "      <td>127.0</td>\n",
       "      <td>...</td>\n",
       "      <td>12.9</td>\n",
       "      <td>1.0</td>\n",
       "      <td>0.7</td>\n",
       "      <td>20.0</td>\n",
       "      <td>11.0</td>\n",
       "      <td>13.0</td>\n",
       "      <td>0</td>\n",
       "      <td>Y</td>\n",
       "      <td>0.0</td>\n",
       "      <td>N</td>\n",
       "    </tr>\n",
       "  </tbody>\n",
       "</table>\n",
       "<p>5 rows × 26 columns</p>\n",
       "</div>"
      ]
     },
     "execution_count": 2,
     "metadata": {},
     "output_type": "execute_result"
    }
   ],
   "execution_count": 2
  },
  {
   "metadata": {
    "ExecuteTime": {
     "end_time": "2025-06-08T12:53:14.775310Z",
     "start_time": "2025-06-08T12:53:14.527940Z"
    }
   },
   "cell_type": "code",
   "source": [
    "df['혈압차'] = df.apply(lambda x: x['수축기혈압'] - x['이완기혈압'], axis=1)\n",
    "df[['혈압차', '연령대코드(5세단위)']].groupby('연령대코드(5세단위)').var().sort_values('혈압차', ascending=False).index[4]"
   ],
   "id": "178013004420cbb1",
   "outputs": [
    {
     "data": {
      "text/plain": [
       "60"
      ]
     },
     "execution_count": 11,
     "metadata": {},
     "output_type": "execute_result"
    }
   ],
   "execution_count": 11
  },
  {
   "metadata": {
    "ExecuteTime": {
     "end_time": "2025-06-08T12:59:53.435058Z",
     "start_time": "2025-06-08T12:59:53.217526Z"
    }
   },
   "cell_type": "code",
   "source": [
    "df['비만여부'] = df.apply(lambda x: (x['허리둘레'] / x[2]) >= 0.58, axis=1)\n",
    "target = list(df.loc[df['비만여부']]['성별코드'].value_counts())\n",
    "target[0] / target[1]"
   ],
   "id": "3ff7da76defa76e7",
   "outputs": [
    {
     "data": {
      "text/plain": [
       "1.1693877551020408"
      ]
     },
     "execution_count": 17,
     "metadata": {},
     "output_type": "execute_result"
    }
   ],
   "execution_count": 17
  }
 ],
 "metadata": {
  "kernelspec": {
   "display_name": "Python 3",
   "language": "python",
   "name": "python3"
  },
  "language_info": {
   "codemirror_mode": {
    "name": "ipython",
    "version": 2
   },
   "file_extension": ".py",
   "mimetype": "text/x-python",
   "name": "python",
   "nbconvert_exporter": "python",
   "pygments_lexer": "ipython2",
   "version": "2.7.6"
  }
 },
 "nbformat": 4,
 "nbformat_minor": 5
}
