{
 "cells": [
  {
   "cell_type": "code",
   "id": "initial_id",
   "metadata": {
    "collapsed": true,
    "ExecuteTime": {
     "end_time": "2025-06-19T13:43:44.445072Z",
     "start_time": "2025-06-19T13:43:43.838807Z"
    }
   },
   "source": [
    "import pandas as pd\n",
    "\n",
    "df = pd.read_csv('https://raw.githubusercontent.com/Datamanim/datarepo/main/krdatacertificate/e4_p3_1_.csv')"
   ],
   "outputs": [],
   "execution_count": 1
  },
  {
   "metadata": {
    "ExecuteTime": {
     "end_time": "2025-06-19T13:45:38.512204Z",
     "start_time": "2025-06-19T13:45:38.506676Z"
    }
   },
   "cell_type": "code",
   "source": "print(round(df.groupby('학과').count()['학번'].mean(), 3))",
   "id": "e212633abba8c66f",
   "outputs": [
    {
     "name": "stdout",
     "output_type": "stream",
     "text": [
      "170.333\n"
     ]
    }
   ],
   "execution_count": 6
  },
  {
   "metadata": {
    "ExecuteTime": {
     "end_time": "2025-06-19T13:52:23.167735Z",
     "start_time": "2025-06-19T13:52:23.159701Z"
    }
   },
   "cell_type": "code",
   "source": [
    "from scipy.stats import chi2_contingency\n",
    "\n",
    "cdf = pd.crosstab(df['학과'], df['성별'])\n",
    "s, t, d, e = chi2_contingency(cdf)\n",
    "print(round(s, 3))"
   ],
   "id": "2ee9823ee040a5be",
   "outputs": [
    {
     "name": "stdout",
     "output_type": "stream",
     "text": [
      "5.646\n"
     ]
    }
   ],
   "execution_count": 35
  },
  {
   "metadata": {
    "ExecuteTime": {
     "end_time": "2025-06-19T13:55:28.113087Z",
     "start_time": "2025-06-19T13:55:28.107734Z"
    }
   },
   "cell_type": "code",
   "source": [
    "print(round(t, 3))\n",
    "print('귀무')"
   ],
   "id": "66687c5a543440c6",
   "outputs": [
    {
     "name": "stdout",
     "output_type": "stream",
     "text": [
      "0.342\n",
      "귀무\n"
     ]
    }
   ],
   "execution_count": 42
  },
  {
   "metadata": {
    "ExecuteTime": {
     "end_time": "2025-06-19T14:03:10.150799Z",
     "start_time": "2025-06-19T14:03:10.145318Z"
    }
   },
   "cell_type": "code",
   "source": [
    "from scipy.stats import norm\n",
    "import numpy as np\n",
    "\n",
    "p = 0.6\n",
    "n = 100\n",
    "p0 = 0.5\n",
    "\n",
    "z = (p - p0) / np.sqrt(p0 * (1 - p0) / n)\n",
    "print(round(z, 3))"
   ],
   "id": "f93c9faaa919eeae",
   "outputs": [
    {
     "data": {
      "text/plain": [
       "np.float64(2.0)"
      ]
     },
     "execution_count": 44,
     "metadata": {},
     "output_type": "execute_result"
    }
   ],
   "execution_count": 44
  },
  {
   "metadata": {
    "ExecuteTime": {
     "end_time": "2025-06-19T14:04:04.269954Z",
     "start_time": "2025-06-19T14:04:04.266021Z"
    }
   },
   "cell_type": "code",
   "source": [
    "print(round(1 - norm.cdf(z), 3))\n",
    "print('대립')"
   ],
   "id": "920c61482f70d24e",
   "outputs": [
    {
     "name": "stdout",
     "output_type": "stream",
     "text": [
      "0.023\n",
      "대립\n"
     ]
    }
   ],
   "execution_count": 46
  }
 ],
 "metadata": {
  "kernelspec": {
   "display_name": "Python 3",
   "language": "python",
   "name": "python3"
  },
  "language_info": {
   "codemirror_mode": {
    "name": "ipython",
    "version": 2
   },
   "file_extension": ".py",
   "mimetype": "text/x-python",
   "name": "python",
   "nbconvert_exporter": "python",
   "pygments_lexer": "ipython2",
   "version": "2.7.6"
  }
 },
 "nbformat": 4,
 "nbformat_minor": 5
}
