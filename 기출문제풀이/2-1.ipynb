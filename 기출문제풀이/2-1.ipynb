{
 "cells": [
  {
   "cell_type": "code",
   "id": "initial_id",
   "metadata": {
    "collapsed": true,
    "ExecuteTime": {
     "end_time": "2025-06-19T11:53:34.834491Z",
     "start_time": "2025-06-19T11:53:34.718766Z"
    }
   },
   "source": [
    "import pandas as pd\n",
    "\n",
    "df = pd.read_csv('https://raw.githubusercontent.com/Datamanim/datarepo/main/krdatacertificate/e3_p1_1.csv')"
   ],
   "outputs": [],
   "execution_count": 3
  },
  {
   "metadata": {
    "ExecuteTime": {
     "end_time": "2025-06-19T12:00:55.126426Z",
     "start_time": "2025-06-19T12:00:55.112891Z"
    }
   },
   "cell_type": "code",
   "source": [
    "t = df.T.isnull().sum()\n",
    "drop_indexes = t.loc[t > 0].index\n",
    "\n",
    "df = df.drop(index=drop_indexes).reset_index(drop=True)\n",
    "u = round(len(df) * 0.7)\n",
    "target = df.head(u)\n",
    "round(target['median_income'].quantile(0.25), 2)"
   ],
   "id": "998e2a37d25617",
   "outputs": [
    {
     "data": {
      "text/plain": [
       "np.float64(2.51)"
      ]
     },
     "execution_count": 16,
     "metadata": {},
     "output_type": "execute_result"
    }
   ],
   "execution_count": 16
  },
  {
   "metadata": {
    "ExecuteTime": {
     "end_time": "2025-06-19T12:01:31.775541Z",
     "start_time": "2025-06-19T12:01:31.693750Z"
    }
   },
   "cell_type": "code",
   "source": "df2 = pd.read_csv('https://raw.githubusercontent.com/Datamanim/datarepo/main/krdatacertificate/e3_p1_2.csv')",
   "id": "8f8302fb5038b1f0",
   "outputs": [],
   "execution_count": 18
  },
  {
   "metadata": {
    "ExecuteTime": {
     "end_time": "2025-06-19T12:09:33.043772Z",
     "start_time": "2025-06-19T12:09:33.036001Z"
    }
   },
   "cell_type": "code",
   "source": [
    "df_1990 = df2.loc[df2['Year'] == 1990]\n",
    "df_2010 = df2.loc[df2['Year'] == 2010]\n",
    "\n",
    "df_1990_filter = df_1990.loc[df_1990['Value'] <= df_1990['Value'].mean()]\n",
    "df_2010_filter = df_2010.loc[df_2010['Value'] >= df_2010['Value'].mean()]\n",
    "\n",
    "len(set(df_1990_filter['Country Code'].values) & set(df_2010_filter['Country Code'].values))"
   ],
   "id": "1cabfffd2db9e96a",
   "outputs": [
    {
     "data": {
      "text/plain": [
       "5"
      ]
     },
     "execution_count": 29,
     "metadata": {},
     "output_type": "execute_result"
    }
   ],
   "execution_count": 29
  },
  {
   "metadata": {
    "ExecuteTime": {
     "end_time": "2025-06-19T12:10:02.028134Z",
     "start_time": "2025-06-19T12:10:01.735262Z"
    }
   },
   "cell_type": "code",
   "source": "df3 = pd.read_csv('https://raw.githubusercontent.com/Datamanim/datarepo/main/krdatacertificate/e3_p1_3.csv')",
   "id": "338da8d41dab3bcd",
   "outputs": [],
   "execution_count": 30
  },
  {
   "metadata": {
    "ExecuteTime": {
     "end_time": "2025-06-19T12:10:35.510438Z",
     "start_time": "2025-06-19T12:10:35.506406Z"
    }
   },
   "cell_type": "code",
   "source": "df3.isnull().sum().sort_values(ascending=False).index[0]",
   "id": "a7bf4cba1402fb67",
   "outputs": [
    {
     "data": {
      "text/plain": [
       "'Fare'"
      ]
     },
     "execution_count": 33,
     "metadata": {},
     "output_type": "execute_result"
    }
   ],
   "execution_count": 33
  }
 ],
 "metadata": {
  "kernelspec": {
   "display_name": "Python 3",
   "language": "python",
   "name": "python3"
  },
  "language_info": {
   "codemirror_mode": {
    "name": "ipython",
    "version": 2
   },
   "file_extension": ".py",
   "mimetype": "text/x-python",
   "name": "python",
   "nbconvert_exporter": "python",
   "pygments_lexer": "ipython2",
   "version": "2.7.6"
  }
 },
 "nbformat": 4,
 "nbformat_minor": 5
}
