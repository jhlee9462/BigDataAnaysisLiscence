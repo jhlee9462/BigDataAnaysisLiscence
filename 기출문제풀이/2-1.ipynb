{
 "cells": [
  {
   "cell_type": "code",
   "id": "initial_id",
   "metadata": {
    "collapsed": true,
    "ExecuteTime": {
     "end_time": "2025-06-19T08:29:31.861647Z",
     "start_time": "2025-06-19T08:29:30.639866Z"
    }
   },
   "source": [
    "import pandas as pd\n",
    "\n",
    "df = pd.read_csv('https://raw.githubusercontent.com/Datamanim/datarepo/main/krdatacertificate/e3_p1_1.csv')"
   ],
   "outputs": [],
   "execution_count": 1
  },
  {
   "metadata": {
    "ExecuteTime": {
     "end_time": "2025-06-19T08:31:57.469277Z",
     "start_time": "2025-06-19T08:31:57.456751Z"
    }
   },
   "cell_type": "code",
   "source": [
    "is_null = df.isnull().sum().to_frame()\n",
    "drop_columns = is_null.loc[is_null[0] > 0].index\n",
    "\n",
    "df = df.drop(columns=drop_columns)"
   ],
   "id": "998e2a37d25617",
   "outputs": [],
   "execution_count": 11
  },
  {
   "metadata": {},
   "cell_type": "code",
   "outputs": [],
   "execution_count": null,
   "source": "",
   "id": "d11a9e720d308cd6"
  }
 ],
 "metadata": {
  "kernelspec": {
   "display_name": "Python 3",
   "language": "python",
   "name": "python3"
  },
  "language_info": {
   "codemirror_mode": {
    "name": "ipython",
    "version": 2
   },
   "file_extension": ".py",
   "mimetype": "text/x-python",
   "name": "python",
   "nbconvert_exporter": "python",
   "pygments_lexer": "ipython2",
   "version": "2.7.6"
  }
 },
 "nbformat": 4,
 "nbformat_minor": 5
}
