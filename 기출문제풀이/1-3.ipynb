{
 "cells": [
  {
   "cell_type": "code",
   "id": "initial_id",
   "metadata": {
    "collapsed": true,
    "ExecuteTime": {
     "end_time": "2025-06-19T02:22:10.992665Z",
     "start_time": "2025-06-19T02:22:10.975216Z"
    }
   },
   "source": [
    "import pandas as pd\n",
    "\n",
    "df = pd.read_csv('https://raw.githubusercontent.com/Datamanim/datarepo/main/krdatacertificate/e2_p3_1.csv')"
   ],
   "outputs": [],
   "execution_count": 2
  },
  {
   "metadata": {
    "ExecuteTime": {
     "end_time": "2025-06-19T02:27:34.519095Z",
     "start_time": "2025-06-19T02:27:34.514571Z"
    }
   },
   "cell_type": "code",
   "source": [
    "df['height(m)'] = df['height'].apply(lambda x: float(x.replace('cm', '')) / 100)\n",
    "print(round(df['height(m)'].mean(), 5))"
   ],
   "id": "5970413a6b8d1e08",
   "outputs": [
    {
     "name": "stdout",
     "output_type": "stream",
     "text": [
      "0.29951\n"
     ]
    }
   ],
   "execution_count": 9
  },
  {
   "metadata": {
    "ExecuteTime": {
     "end_time": "2025-06-19T08:15:17.688854Z",
     "start_time": "2025-06-19T08:15:17.682075Z"
    }
   },
   "cell_type": "code",
   "source": [
    "from scipy.stats import ttest_1samp\n",
    "\n",
    "df['height(cm)'] = df['height(m)'] * 100\n",
    "s, p = ttest_1samp(df['height(cm)'], 30)\n",
    "print(round(s, 3))"
   ],
   "id": "2579ea4015bec45f",
   "outputs": [
    {
     "name": "stdout",
     "output_type": "stream",
     "text": [
      "-0.217\n"
     ]
    }
   ],
   "execution_count": 25
  },
  {
   "metadata": {
    "ExecuteTime": {
     "end_time": "2025-06-19T08:16:34.442849Z",
     "start_time": "2025-06-19T08:16:34.438846Z"
    }
   },
   "cell_type": "code",
   "source": [
    "print(round(p, 3))\n",
    "if p < 0.05:\n",
    "    print('대립')\n",
    "else:\n",
    "    print('귀무')"
   ],
   "id": "f1f9e61d6289d501",
   "outputs": [
    {
     "name": "stdout",
     "output_type": "stream",
     "text": [
      "0.829\n",
      "귀무\n"
     ]
    }
   ],
   "execution_count": 27
  },
  {
   "metadata": {
    "ExecuteTime": {
     "end_time": "2025-06-19T08:21:08.202328Z",
     "start_time": "2025-06-19T08:21:08.196630Z"
    }
   },
   "cell_type": "code",
   "source": [
    "from scipy.stats import binom\n",
    "\n",
    "p = 0.7\n",
    "n = 21\n",
    "k = 16\n",
    "\n",
    "round(binom.cdf(k - 1, n, p), 3)"
   ],
   "id": "b0df023f22b22e62",
   "outputs": [
    {
     "data": {
      "text/plain": [
       "np.float64(0.637)"
      ]
     },
     "execution_count": 31,
     "metadata": {},
     "output_type": "execute_result"
    }
   ],
   "execution_count": 31
  },
  {
   "metadata": {
    "ExecuteTime": {
     "end_time": "2025-06-19T08:22:12.436432Z",
     "start_time": "2025-06-19T08:22:12.431286Z"
    }
   },
   "cell_type": "code",
   "source": "round(1 - binom.cdf(18, n, p), 3)",
   "id": "960e6b560af576ab",
   "outputs": [
    {
     "data": {
      "text/plain": [
       "np.float64(0.027)"
      ]
     },
     "execution_count": 33,
     "metadata": {},
     "output_type": "execute_result"
    }
   ],
   "execution_count": 33
  }
 ],
 "metadata": {
  "kernelspec": {
   "display_name": "Python 3",
   "language": "python",
   "name": "python3"
  },
  "language_info": {
   "codemirror_mode": {
    "name": "ipython",
    "version": 2
   },
   "file_extension": ".py",
   "mimetype": "text/x-python",
   "name": "python",
   "nbconvert_exporter": "python",
   "pygments_lexer": "ipython2",
   "version": "2.7.6"
  }
 },
 "nbformat": 4,
 "nbformat_minor": 5
}
