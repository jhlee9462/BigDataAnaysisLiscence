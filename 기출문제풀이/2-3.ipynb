{
 "cells": [
  {
   "cell_type": "code",
   "id": "initial_id",
   "metadata": {
    "collapsed": true,
    "ExecuteTime": {
     "end_time": "2025-06-19T12:24:29.308394Z",
     "start_time": "2025-06-19T12:24:28.673470Z"
    }
   },
   "source": [
    "import pandas as pd\n",
    "\n",
    "df = pd.read_csv('https://raw.githubusercontent.com/Datamanim/datarepo/main/krdatacertificate/e3_p3_1.csv')"
   ],
   "outputs": [],
   "execution_count": 1
  },
  {
   "metadata": {
    "ExecuteTime": {
     "end_time": "2025-06-19T12:32:41.180203Z",
     "start_time": "2025-06-19T12:32:41.169739Z"
    }
   },
   "cell_type": "code",
   "source": [
    "def classify(x):\n",
    "    if x <= -3:\n",
    "        return 'A'\n",
    "    elif x <= 0:\n",
    "        return 'B'\n",
    "    else:\n",
    "        return 'C'\n",
    "\n",
    "df['등급'] = df.apply(lambda x: classify(x['투약후'] - x['투약전']), axis=1)\n",
    "\n",
    "len(df.loc[df['등급'] == 'A'])\n"
   ],
   "id": "298f31cbdf07c880",
   "outputs": [
    {
     "data": {
      "text/plain": [
       "121"
      ]
     },
     "execution_count": 18,
     "metadata": {},
     "output_type": "execute_result"
    }
   ],
   "execution_count": 18
  },
  {
   "metadata": {
    "ExecuteTime": {
     "end_time": "2025-06-19T12:37:08.685188Z",
     "start_time": "2025-06-19T12:37:08.675137Z"
    }
   },
   "cell_type": "code",
   "source": [
    "target = df[['등급']].value_counts().to_frame()\n",
    "target['expect'] = [target['count'].sum() * 0.5, target['count'].sum() * 0.25, target['count'].sum() * 0.25]\n",
    "\n",
    "from scipy.stats import chisquare\n",
    "\n",
    "s, p = chisquare(target['count'], target['expect'])\n",
    "print(round(s, 3))"
   ],
   "id": "b81d7d441e56db8e",
   "outputs": [
    {
     "name": "stdout",
     "output_type": "stream",
     "text": [
      "3.613\n"
     ]
    }
   ],
   "execution_count": 29
  },
  {
   "metadata": {
    "ExecuteTime": {
     "end_time": "2025-06-19T12:37:20.456493Z",
     "start_time": "2025-06-19T12:37:20.451408Z"
    }
   },
   "cell_type": "code",
   "source": [
    "print(round(p, 3))\n",
    "print('귀무')"
   ],
   "id": "32f060096e15a00a",
   "outputs": [
    {
     "name": "stdout",
     "output_type": "stream",
     "text": [
      "0.164\n",
      "귀무\n"
     ]
    }
   ],
   "execution_count": 31
  },
  {
   "metadata": {
    "ExecuteTime": {
     "end_time": "2025-06-19T12:37:33.343335Z",
     "start_time": "2025-06-19T12:37:32.992469Z"
    }
   },
   "cell_type": "code",
   "source": "df2 = pd.read_csv('https://raw.githubusercontent.com/Datamanim/datarepo/main/krdatacertificate/e3_p3_2.csv')",
   "id": "b581327b4c6eee71",
   "outputs": [],
   "execution_count": 32
  },
  {
   "metadata": {
    "ExecuteTime": {
     "end_time": "2025-06-19T12:39:28.997Z",
     "start_time": "2025-06-19T12:39:28.991873Z"
    }
   },
   "cell_type": "code",
   "source": [
    "from scipy.stats import shapiro\n",
    "\n",
    "a = df2[df2['group'] == 'A']\n",
    "b = df2[df2['group'] == 'B']\n",
    "\n",
    "print(shapiro(a['rpm']).pvalue)\n",
    "print(shapiro(b['rpm']).pvalue)"
   ],
   "id": "42d7486975205d2d",
   "outputs": [
    {
     "name": "stdout",
     "output_type": "stream",
     "text": [
      "0.3979080924239819\n",
      "0.9562843067714429\n"
     ]
    }
   ],
   "execution_count": 38
  },
  {
   "metadata": {
    "ExecuteTime": {
     "end_time": "2025-06-19T12:41:06.090094Z",
     "start_time": "2025-06-19T12:41:06.086078Z"
    }
   },
   "cell_type": "code",
   "source": [
    "from scipy.stats import levene\n",
    "\n",
    "print(levene(a['rpm'], b['rpm']).pvalue)"
   ],
   "id": "da79edbb94c3bdac",
   "outputs": [
    {
     "name": "stdout",
     "output_type": "stream",
     "text": [
      "0.9038351280607142\n"
     ]
    }
   ],
   "execution_count": 42
  },
  {
   "metadata": {
    "ExecuteTime": {
     "end_time": "2025-06-19T12:42:33.046264Z",
     "start_time": "2025-06-19T12:42:33.041353Z"
    }
   },
   "cell_type": "code",
   "source": [
    "from scipy.stats import ttest_rel\n",
    "\n",
    "s, p = ttest_rel(b['rpm'], a['rpm'], alternative='greater')\n",
    "print(round(p, 3))\n",
    "print('대립')"
   ],
   "id": "2d0ace766778aaa5",
   "outputs": [
    {
     "name": "stdout",
     "output_type": "stream",
     "text": [
      "0.009\n",
      "대립\n"
     ]
    }
   ],
   "execution_count": 46
  }
 ],
 "metadata": {
  "kernelspec": {
   "display_name": "Python 3",
   "language": "python",
   "name": "python3"
  },
  "language_info": {
   "codemirror_mode": {
    "name": "ipython",
    "version": 2
   },
   "file_extension": ".py",
   "mimetype": "text/x-python",
   "name": "python",
   "nbconvert_exporter": "python",
   "pygments_lexer": "ipython2",
   "version": "2.7.6"
  }
 },
 "nbformat": 4,
 "nbformat_minor": 5
}
