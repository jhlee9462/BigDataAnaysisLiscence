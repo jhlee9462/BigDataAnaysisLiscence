{
 "cells": [
  {
   "cell_type": "code",
   "id": "initial_id",
   "metadata": {
    "collapsed": true,
    "ExecuteTime": {
     "end_time": "2025-06-20T08:06:56.014166Z",
     "start_time": "2025-06-20T08:06:55.416811Z"
    }
   },
   "source": [
    "import pandas as pd\n",
    "df = pd.read_csv('https://raw.githubusercontent.com/Datamanim/datarepo/main/krdatacertificate/e7_p1.csv')"
   ],
   "outputs": [],
   "execution_count": 1
  },
  {
   "metadata": {
    "ExecuteTime": {
     "end_time": "2025-06-20T08:13:15.050413Z",
     "start_time": "2025-06-20T08:13:15.041587Z"
    }
   },
   "cell_type": "code",
   "source": [
    "from sklearn.preprocessing import StandardScaler\n",
    "\n",
    "ms = df.isnull().sum().index[1]\n",
    "\n",
    "ss = StandardScaler()\n",
    "\n",
    "df['국어표준화'] = ss.fit_transform(df[ms].values.reshape(-1, 1))\n",
    "\n",
    "df['국어표준화'].max()"
   ],
   "id": "d136347ca653fc55",
   "outputs": [
    {
     "data": {
      "text/plain": [
       "1.713855688712825"
      ]
     },
     "execution_count": 24,
     "metadata": {},
     "output_type": "execute_result"
    }
   ],
   "execution_count": 24
  },
  {
   "metadata": {
    "ExecuteTime": {
     "end_time": "2025-06-20T08:13:54.771608Z",
     "start_time": "2025-06-20T08:13:54.717772Z"
    }
   },
   "cell_type": "code",
   "source": "df2 = pd.read_csv('https://raw.githubusercontent.com/Datamanim/datarepo/main/krdatacertificate/e7_p2.csv')",
   "id": "431a58bdb43cd375",
   "outputs": [],
   "execution_count": 25
  },
  {
   "metadata": {
    "ExecuteTime": {
     "end_time": "2025-06-20T08:15:56.107748Z",
     "start_time": "2025-06-20T08:15:56.087517Z"
    }
   },
   "cell_type": "code",
   "source": [
    "t = abs(df2.corr()['var_11']).sort_values(ascending=False).index[1]\n",
    "df2[t].mean()"
   ],
   "id": "566497662f6cc79d",
   "outputs": [
    {
     "data": {
      "text/plain": [
       "np.float64(0.06404313251242914)"
      ]
     },
     "execution_count": 36,
     "metadata": {},
     "output_type": "execute_result"
    }
   ],
   "execution_count": 36
  },
  {
   "metadata": {
    "ExecuteTime": {
     "end_time": "2025-06-20T08:16:06.326845Z",
     "start_time": "2025-06-20T08:16:06.049157Z"
    }
   },
   "cell_type": "code",
   "source": "df3 = pd.read_csv('https://raw.githubusercontent.com/Datamanim/datarepo/main/krdatacertificate/e7_p3.csv')",
   "id": "76f3e78803a5cbcf",
   "outputs": [],
   "execution_count": 37
  },
  {
   "metadata": {
    "ExecuteTime": {
     "end_time": "2025-06-20T08:21:22.821761Z",
     "start_time": "2025-06-20T08:21:22.803476Z"
    }
   },
   "cell_type": "code",
   "source": [
    "oq = df3['var_6'].quantile(0.25)\n",
    "tq = df3['var_6'].quantile(0.75)\n",
    "iqr = tq - oq\n",
    "\n",
    "len(df3.loc[(df3['var_6'] < (oq - 1.5 * iqr)) | (df3['var_6'] > (tq + 1.5 * iqr))])"
   ],
   "id": "347378b55727357f",
   "outputs": [
    {
     "data": {
      "text/plain": [
       "8"
      ]
     },
     "execution_count": 44,
     "metadata": {},
     "output_type": "execute_result"
    }
   ],
   "execution_count": 44
  }
 ],
 "metadata": {
  "kernelspec": {
   "display_name": "Python 3",
   "language": "python",
   "name": "python3"
  },
  "language_info": {
   "codemirror_mode": {
    "name": "ipython",
    "version": 2
   },
   "file_extension": ".py",
   "mimetype": "text/x-python",
   "name": "python",
   "nbconvert_exporter": "python",
   "pygments_lexer": "ipython2",
   "version": "2.7.6"
  }
 },
 "nbformat": 4,
 "nbformat_minor": 5
}
