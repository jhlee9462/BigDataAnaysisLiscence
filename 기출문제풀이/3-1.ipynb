{
 "cells": [
  {
   "cell_type": "code",
   "id": "initial_id",
   "metadata": {
    "collapsed": true,
    "ExecuteTime": {
     "end_time": "2025-06-19T13:06:59.357508Z",
     "start_time": "2025-06-19T13:06:59.263514Z"
    }
   },
   "source": [
    "import pandas as pd\n",
    "\n",
    "df = pd.read_csv('https://raw.githubusercontent.com/Datamanim/datarepo/main/krdatacertificate/e4_p1_1.csv')"
   ],
   "outputs": [],
   "execution_count": 12
  },
  {
   "metadata": {
    "ExecuteTime": {
     "end_time": "2025-06-19T13:09:13.031622Z",
     "start_time": "2025-06-19T13:09:13.006401Z"
    }
   },
   "cell_type": "code",
   "source": [
    "df['Temperature_f'] = df.apply(lambda x: float(x['Temperature'].replace('*', '')), axis=1)\n",
    "print(round(df['Temperature_f'].quantile(0.75) - df['Temperature_f'].quantile(0.25), 2))"
   ],
   "id": "1fac6fd6b51e8dd4",
   "outputs": [
    {
     "name": "stdout",
     "output_type": "stream",
     "text": [
      "27.48\n"
     ]
    }
   ],
   "execution_count": 18
  },
  {
   "metadata": {
    "ExecuteTime": {
     "end_time": "2025-06-19T13:09:24.027090Z",
     "start_time": "2025-06-19T13:09:23.718974Z"
    }
   },
   "cell_type": "code",
   "source": "df2 = pd.read_csv('https://raw.githubusercontent.com/Datamanim/datarepo/main/krdatacertificate/e4_p1_2.csv')",
   "id": "e218f1988c27c076",
   "outputs": [],
   "execution_count": 19
  },
  {
   "metadata": {
    "ExecuteTime": {
     "end_time": "2025-06-19T13:10:35.150926Z",
     "start_time": "2025-06-19T13:10:35.147255Z"
    }
   },
   "cell_type": "code",
   "source": "print(int(df2[((df2['Likes'] / df2['Comments']) >= 20) & (df2['Keyword'] == 'minecraft')]['Views'].mean()))",
   "id": "c202d5d72c4cfaa9",
   "outputs": [
    {
     "name": "stdout",
     "output_type": "stream",
     "text": [
      "1789084\n"
     ]
    }
   ],
   "execution_count": 22
  },
  {
   "metadata": {
    "ExecuteTime": {
     "end_time": "2025-06-19T13:10:46.182882Z",
     "start_time": "2025-06-19T13:10:45.704390Z"
    }
   },
   "cell_type": "code",
   "source": "df3 = pd.read_csv('https://raw.githubusercontent.com/Datamanim/datarepo/main/krdatacertificate/e4_p1_3.csv')",
   "id": "d4bb3cb076dd3690",
   "outputs": [],
   "execution_count": 23
  },
  {
   "metadata": {
    "ExecuteTime": {
     "end_time": "2025-06-19T13:13:40.093849Z",
     "start_time": "2025-06-19T13:13:40.024508Z"
    }
   },
   "cell_type": "code",
   "source": [
    "df3['date'] = pd.to_datetime(df3['date_added'], format='mixed')\n",
    "len(df3[(df3['date'].dt.to_period('M') == '2018-01') & (df3['country'] == 'United Kingdom')])"
   ],
   "id": "6267b49c14355cdd",
   "outputs": [
    {
     "data": {
      "text/plain": [
       "6"
      ]
     },
     "execution_count": 31,
     "metadata": {},
     "output_type": "execute_result"
    }
   ],
   "execution_count": 31
  },
  {
   "metadata": {},
   "cell_type": "code",
   "outputs": [],
   "execution_count": null,
   "source": "",
   "id": "6d9dab7acd28007b"
  }
 ],
 "metadata": {
  "kernelspec": {
   "display_name": "Python 3",
   "language": "python",
   "name": "python3"
  },
  "language_info": {
   "codemirror_mode": {
    "name": "ipython",
    "version": 2
   },
   "file_extension": ".py",
   "mimetype": "text/x-python",
   "name": "python",
   "nbconvert_exporter": "python",
   "pygments_lexer": "ipython2",
   "version": "2.7.6"
  }
 },
 "nbformat": 4,
 "nbformat_minor": 5
}
