{
 "cells": [
  {
   "cell_type": "code",
   "id": "initial_id",
   "metadata": {
    "collapsed": true,
    "ExecuteTime": {
     "end_time": "2025-06-20T06:35:20.604216Z",
     "start_time": "2025-06-20T06:35:20.310919Z"
    }
   },
   "source": [
    "import pandas as pd\n",
    "\n",
    "df = pd.read_csv('https://raw.githubusercontent.com/Datamanim/datarepo/main/krdatacertificate/e5_p3_1.csv')"
   ],
   "outputs": [],
   "execution_count": 12
  },
  {
   "metadata": {
    "ExecuteTime": {
     "end_time": "2025-06-20T06:35:20.628696Z",
     "start_time": "2025-06-20T06:35:20.622916Z"
    }
   },
   "cell_type": "code",
   "source": "round(df['height'].mean(), 3)",
   "id": "d15f5078397255e5",
   "outputs": [
    {
     "data": {
      "text/plain": [
       "np.float64(169.937)"
      ]
     },
     "execution_count": 13,
     "metadata": {},
     "output_type": "execute_result"
    }
   ],
   "execution_count": 13
  },
  {
   "metadata": {
    "ExecuteTime": {
     "end_time": "2025-06-20T06:42:29.689910Z",
     "start_time": "2025-06-20T06:42:29.683135Z"
    }
   },
   "cell_type": "code",
   "source": [
    "from scipy.stats import t\n",
    "\n",
    "ddof = len(df.height) - 1\n",
    "confidence_level = 0.95\n",
    "\n",
    "t_value = round(t.ppf((1 + confidence_level) / 2, ddof), 4)\n",
    "print(t_value)"
   ],
   "id": "4016ad9dd6fe0205",
   "outputs": [
    {
     "name": "stdout",
     "output_type": "stream",
     "text": [
      "2.0049\n"
     ]
    }
   ],
   "execution_count": 28
  },
  {
   "metadata": {
    "ExecuteTime": {
     "end_time": "2025-06-20T06:43:25.675856Z",
     "start_time": "2025-06-20T06:43:25.670985Z"
    }
   },
   "cell_type": "code",
   "source": [
    "import numpy as np\n",
    "\n",
    "m = df['height'].mean()\n",
    "std = df['height'].std()\n",
    "\n",
    "upper = m + t_value * std / np.sqrt(len(df.height))\n",
    "lower = m - t_value * std / np.sqrt(len(df.height))"
   ],
   "id": "88b8400fc1070430",
   "outputs": [],
   "execution_count": 29
  },
  {
   "metadata": {
    "ExecuteTime": {
     "end_time": "2025-06-20T06:45:25.517471Z",
     "start_time": "2025-06-20T06:45:25.509705Z"
    }
   },
   "cell_type": "code",
   "source": [
    "print(round(upper, 3))\n",
    "print(round(lower, 3))"
   ],
   "id": "11cc79a89c90ebaa",
   "outputs": [
    {
     "name": "stdout",
     "output_type": "stream",
     "text": [
      "171.553\n",
      "168.321\n"
     ]
    }
   ],
   "execution_count": 32
  },
  {
   "metadata": {
    "ExecuteTime": {
     "end_time": "2025-06-20T06:45:36.339747Z",
     "start_time": "2025-06-20T06:45:36.321394Z"
    }
   },
   "cell_type": "code",
   "source": [
    "import pandas as pd\n",
    "\n",
    "df = pd.read_csv('https://raw.githubusercontent.com/Datamanim/datarepo/main/krdatacertificate/e5_p3_2.csv')"
   ],
   "id": "173a91cdf348885",
   "outputs": [],
   "execution_count": 33
  },
  {
   "metadata": {
    "ExecuteTime": {
     "end_time": "2025-06-20T06:49:34.151943Z",
     "start_time": "2025-06-20T06:49:34.147307Z"
    }
   },
   "cell_type": "code",
   "source": [
    "a = df.loc[df['ID'] == 'A'].value\n",
    "b = df.loc[df['ID'] == 'B'].value\n",
    "c = df.loc[df['ID'] == 'C'].value"
   ],
   "id": "fcb9d82a561e849f",
   "outputs": [],
   "execution_count": 49
  },
  {
   "metadata": {
    "ExecuteTime": {
     "end_time": "2025-06-20T06:49:35.119897Z",
     "start_time": "2025-06-20T06:49:35.103797Z"
    }
   },
   "cell_type": "code",
   "source": [
    "from scipy.stats import kruskal\n",
    "\n",
    "s, p = kruskal(a, b, c)"
   ],
   "id": "90fe6e68394e4a8",
   "outputs": [],
   "execution_count": 50
  },
  {
   "metadata": {
    "ExecuteTime": {
     "end_time": "2025-06-20T06:49:42.130661Z",
     "start_time": "2025-06-20T06:49:42.124796Z"
    }
   },
   "cell_type": "code",
   "source": "print(round(s, 3))",
   "id": "1385fd0fc54721e1",
   "outputs": [
    {
     "name": "stdout",
     "output_type": "stream",
     "text": [
      "6.521\n"
     ]
    }
   ],
   "execution_count": 52
  },
  {
   "metadata": {
    "ExecuteTime": {
     "end_time": "2025-06-20T06:49:49.762107Z",
     "start_time": "2025-06-20T06:49:49.742334Z"
    }
   },
   "cell_type": "code",
   "source": [
    "print(round(p, 3))\n",
    "print('대립')"
   ],
   "id": "448411e73039830e",
   "outputs": [
    {
     "name": "stdout",
     "output_type": "stream",
     "text": [
      "0.038\n",
      "대립\n"
     ]
    }
   ],
   "execution_count": 54
  }
 ],
 "metadata": {
  "kernelspec": {
   "display_name": "Python 3",
   "language": "python",
   "name": "python3"
  },
  "language_info": {
   "codemirror_mode": {
    "name": "ipython",
    "version": 2
   },
   "file_extension": ".py",
   "mimetype": "text/x-python",
   "name": "python",
   "nbconvert_exporter": "python",
   "pygments_lexer": "ipython2",
   "version": "2.7.6"
  }
 },
 "nbformat": 4,
 "nbformat_minor": 5
}
