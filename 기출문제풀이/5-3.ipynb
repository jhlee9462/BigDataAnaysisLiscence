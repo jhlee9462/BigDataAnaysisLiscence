{
 "cells": [
  {
   "cell_type": "code",
   "id": "initial_id",
   "metadata": {
    "collapsed": true,
    "ExecuteTime": {
     "end_time": "2025-06-20T07:52:38.532874Z",
     "start_time": "2025-06-20T07:52:38.524354Z"
    }
   },
   "source": [
    "import numpy as np\n",
    "from scipy.stats import chi2_contingency\n",
    "\n",
    "mc = 600\n",
    "fc = 550\n",
    "\n",
    "msp = 0.2\n",
    "fsp = 0.26\n",
    "\n",
    "msc = int(mc * msp)\n",
    "fsc = int(fc * fsp)\n",
    "mnsc = mc - msc\n",
    "fnsc = fc - fsc\n",
    "\n",
    "data = np.array([[msc, mnsc], [fsc, fnsc]])\n",
    "s, p, d, e = chi2_contingency(data)\n",
    "\n",
    "print('기각', p)"
   ],
   "outputs": [
    {
     "name": "stdout",
     "output_type": "stream",
     "text": [
      "기각 0.018786854975740768\n"
     ]
    }
   ],
   "execution_count": 4
  },
  {
   "metadata": {
    "ExecuteTime": {
     "end_time": "2025-06-20T07:52:59.897599Z",
     "start_time": "2025-06-20T07:52:59.378895Z"
    }
   },
   "cell_type": "code",
   "source": [
    "import pandas as pd\n",
    "\n",
    "df = pd.read_csv('https://raw.githubusercontent.com/Datamanim/datarepo/main/adp/28/p7.csv')"
   ],
   "id": "4dc9721c19ba0c32",
   "outputs": [],
   "execution_count": 5
  },
  {
   "metadata": {
    "ExecuteTime": {
     "end_time": "2025-06-20T07:57:03.770383Z",
     "start_time": "2025-06-20T07:57:03.753466Z"
    }
   },
   "cell_type": "code",
   "source": [
    "import statsmodels.api as sm\n",
    "\n",
    "X = sm.add_constant(df[['age', 'Cholesterol']])\n",
    "model = sm.OLS(df['weight'], X)\n",
    "results = model.fit()\n",
    "\n",
    "print(results.summary())\n",
    "print(results.params['age'])"
   ],
   "id": "a449a8268365b31d",
   "outputs": [
    {
     "name": "stdout",
     "output_type": "stream",
     "text": [
      "                            OLS Regression Results                            \n",
      "==============================================================================\n",
      "Dep. Variable:                 weight   R-squared:                       0.044\n",
      "Model:                            OLS   Adj. R-squared:                  0.038\n",
      "Method:                 Least Squares   F-statistic:                     7.574\n",
      "Date:                Fri, 20 Jun 2025   Prob (F-statistic):           0.000608\n",
      "Time:                        16:57:03   Log-Likelihood:                -1374.9\n",
      "No. Observations:                 333   AIC:                             2756.\n",
      "Df Residuals:                     330   BIC:                             2767.\n",
      "Df Model:                           2                                         \n",
      "Covariance Type:            nonrobust                                         \n",
      "===============================================================================\n",
      "                  coef    std err          t      P>|t|      [0.025      0.975]\n",
      "-------------------------------------------------------------------------------\n",
      "const          74.8953      4.455     16.813      0.000      66.132      83.658\n",
      "age            -0.0361      0.059     -0.611      0.542      -0.152       0.080\n",
      "Cholesterol     0.0819      0.022      3.716      0.000       0.039       0.125\n",
      "==============================================================================\n",
      "Omnibus:                       15.848   Durbin-Watson:                   2.033\n",
      "Prob(Omnibus):                  0.000   Jarque-Bera (JB):               17.569\n",
      "Skew:                           0.471   Prob(JB):                     0.000153\n",
      "Kurtosis:                       3.617   Cond. No.                         701.\n",
      "==============================================================================\n",
      "\n",
      "Notes:\n",
      "[1] Standard Errors assume that the covariance matrix of the errors is correctly specified.\n",
      "-0.0361016691438651\n"
     ]
    }
   ],
   "execution_count": 9
  },
  {
   "metadata": {
    "ExecuteTime": {
     "end_time": "2025-06-20T07:59:23.148557Z",
     "start_time": "2025-06-20T07:59:23.140550Z"
    }
   },
   "cell_type": "code",
   "source": "results.pvalues['Cholesterol']",
   "id": "bb49e36243b66345",
   "outputs": [
    {
     "data": {
      "text/plain": [
       "np.float64(0.00023778081979582738)"
      ]
     },
     "execution_count": 12,
     "metadata": {},
     "output_type": "execute_result"
    }
   ],
   "execution_count": 12
  },
  {
   "metadata": {
    "ExecuteTime": {
     "end_time": "2025-06-20T08:00:05.322171Z",
     "start_time": "2025-06-20T08:00:05.316776Z"
    }
   },
   "cell_type": "code",
   "source": "results.predict([1, 55, 72.6])[0]",
   "id": "44cba6dc76879558",
   "outputs": [
    {
     "data": {
      "text/plain": [
       "np.float64(78.85771011344593)"
      ]
     },
     "execution_count": 15,
     "metadata": {},
     "output_type": "execute_result"
    }
   ],
   "execution_count": 15
  }
 ],
 "metadata": {
  "kernelspec": {
   "display_name": "Python 3",
   "language": "python",
   "name": "python3"
  },
  "language_info": {
   "codemirror_mode": {
    "name": "ipython",
    "version": 2
   },
   "file_extension": ".py",
   "mimetype": "text/x-python",
   "name": "python",
   "nbconvert_exporter": "python",
   "pygments_lexer": "ipython2",
   "version": "2.7.6"
  }
 },
 "nbformat": 4,
 "nbformat_minor": 5
}
