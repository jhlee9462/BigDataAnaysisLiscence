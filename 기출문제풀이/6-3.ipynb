{
 "cells": [
  {
   "cell_type": "code",
   "id": "initial_id",
   "metadata": {
    "collapsed": true,
    "ExecuteTime": {
     "end_time": "2025-06-20T14:53:46.917467Z",
     "start_time": "2025-06-20T14:53:46.779370Z"
    }
   },
   "source": [
    "import pandas as pd\n",
    "\n",
    "df = pd.read_csv('https://raw.githubusercontent.com/Datamanim/datarepo/main/krdatacertificate/e7_p3_1.csv')"
   ],
   "outputs": [],
   "execution_count": 2
  },
  {
   "metadata": {
    "ExecuteTime": {
     "end_time": "2025-06-20T14:53:46.935364Z",
     "start_time": "2025-06-20T14:53:46.928873Z"
    }
   },
   "cell_type": "code",
   "source": [
    "target = df.corr()\n",
    "target[target != 1].max().max()"
   ],
   "id": "b1e540d19ee2a42",
   "outputs": [
    {
     "data": {
      "text/plain": [
       "0.6270251925517436"
      ]
     },
     "execution_count": 3,
     "metadata": {},
     "output_type": "execute_result"
    }
   ],
   "execution_count": 3
  },
  {
   "metadata": {
    "ExecuteTime": {
     "end_time": "2025-06-20T14:53:47.026764Z",
     "start_time": "2025-06-20T14:53:46.983482Z"
    }
   },
   "cell_type": "code",
   "source": [
    "import statsmodels.api as sm\n",
    "\n",
    "X = df.drop(columns=['Target'])\n",
    "X = sm.add_constant(X)\n",
    "y = df['Target']\n",
    "\n",
    "models = sm.OLS(y, X).fit()\n",
    "print(models.params['v2'])"
   ],
   "id": "611aa4e7fd3f617c",
   "outputs": [
    {
     "name": "stdout",
     "output_type": "stream",
     "text": [
      "6.44030136484306\n"
     ]
    }
   ],
   "execution_count": 4
  },
  {
   "metadata": {
    "ExecuteTime": {
     "end_time": "2025-06-20T14:53:47.059369Z",
     "start_time": "2025-06-20T14:53:47.050508Z"
    }
   },
   "cell_type": "code",
   "source": "models.pvalues.max()",
   "id": "6f2cc5558c76af46",
   "outputs": [
    {
     "data": {
      "text/plain": [
       "0.9265545986905279"
      ]
     },
     "execution_count": 5,
     "metadata": {},
     "output_type": "execute_result"
    }
   ],
   "execution_count": 5
  },
  {
   "metadata": {
    "ExecuteTime": {
     "end_time": "2025-06-20T14:53:47.135564Z",
     "start_time": "2025-06-20T14:53:47.100986Z"
    }
   },
   "cell_type": "code",
   "source": "df2 = pd.read_csv('https://raw.githubusercontent.com/Datamanim/datarepo/main/krdatacertificate/e7_p3_t.csv')",
   "id": "892f92ca16fda3a0",
   "outputs": [],
   "execution_count": 6
  },
  {
   "metadata": {
    "ExecuteTime": {
     "end_time": "2025-06-20T14:53:47.155813Z",
     "start_time": "2025-06-20T14:53:47.152825Z"
    }
   },
   "cell_type": "code",
   "source": [
    "train = df2.iloc[:210].reset_index(drop=True)\n",
    "test = df2.iloc[210:].reset_index(drop=True)"
   ],
   "id": "857c937678acd45d",
   "outputs": [],
   "execution_count": 7
  },
  {
   "metadata": {
    "ExecuteTime": {
     "end_time": "2025-06-20T14:55:49.789815Z",
     "start_time": "2025-06-20T14:55:49.783819Z"
    }
   },
   "cell_type": "code",
   "source": [
    "import statsmodels.api as sm\n",
    "import numpy as np\n",
    "\n",
    "X = train.drop(columns=['target'])\n",
    "y = train['target']\n",
    "\n",
    "model = sm.Logit(y, X).fit()\n",
    "\n",
    "print(np.exp(model.params['age']))"
   ],
   "id": "52e0659fe6885453",
   "outputs": [
    {
     "name": "stdout",
     "output_type": "stream",
     "text": [
      "Optimization terminated successfully.\n",
      "         Current function value: 0.343347\n",
      "         Iterations 7\n",
      "0.9562078844664192\n"
     ]
    }
   ],
   "execution_count": 10
  },
  {
   "metadata": {
    "ExecuteTime": {
     "end_time": "2025-06-20T15:04:17.929583Z",
     "start_time": "2025-06-20T15:04:17.920213Z"
    }
   },
   "cell_type": "code",
   "source": [
    "from statsmodels.genmod.families import Binomial\n",
    "\n",
    "model2 = sm.GLM(y, X, family=Binomial()).fit()\n",
    "\n",
    "model2.deviance"
   ],
   "id": "aa82d0fdc9a65f45",
   "outputs": [
    {
     "data": {
      "text/plain": [
       "np.float64(144.20562006327802)"
      ]
     },
     "execution_count": 26,
     "metadata": {},
     "output_type": "execute_result"
    }
   ],
   "execution_count": 26
  },
  {
   "metadata": {
    "ExecuteTime": {
     "end_time": "2025-06-20T15:05:33.412255Z",
     "start_time": "2025-06-20T15:05:33.405774Z"
    }
   },
   "cell_type": "code",
   "source": "model2.llf",
   "id": "3bd06793ad4cd5bc",
   "outputs": [
    {
     "data": {
      "text/plain": [
       "np.float64(-72.102810031639)"
      ]
     },
     "execution_count": 32,
     "metadata": {},
     "output_type": "execute_result"
    }
   ],
   "execution_count": 32
  },
  {
   "metadata": {
    "ExecuteTime": {
     "end_time": "2025-06-20T15:05:58.697731Z",
     "start_time": "2025-06-20T15:05:58.691986Z"
    }
   },
   "cell_type": "code",
   "source": "model.llf",
   "id": "5cbdf66a39ff05",
   "outputs": [
    {
     "data": {
      "text/plain": [
       "np.float64(-72.102810031639)"
      ]
     },
     "execution_count": 36,
     "metadata": {},
     "output_type": "execute_result"
    }
   ],
   "execution_count": 36
  },
  {
   "metadata": {
    "ExecuteTime": {
     "end_time": "2025-06-20T15:08:49.618837Z",
     "start_time": "2025-06-20T15:08:49.609636Z"
    }
   },
   "cell_type": "code",
   "source": [
    "pred = (model.predict(test.drop(columns='target')) > 0.5).astype('int')\n",
    "\n",
    "from sklearn.metrics import accuracy_score\n",
    "\n",
    "1 - accuracy_score(test['target'], pred)"
   ],
   "id": "90f664cc2d7e2f6e",
   "outputs": [
    {
     "data": {
      "text/plain": [
       "0.1954022988505747"
      ]
     },
     "execution_count": 43,
     "metadata": {},
     "output_type": "execute_result"
    }
   ],
   "execution_count": 43
  }
 ],
 "metadata": {
  "kernelspec": {
   "display_name": "Python 3",
   "language": "python",
   "name": "python3"
  },
  "language_info": {
   "codemirror_mode": {
    "name": "ipython",
    "version": 2
   },
   "file_extension": ".py",
   "mimetype": "text/x-python",
   "name": "python",
   "nbconvert_exporter": "python",
   "pygments_lexer": "ipython2",
   "version": "2.7.6"
  }
 },
 "nbformat": 4,
 "nbformat_minor": 5
}
