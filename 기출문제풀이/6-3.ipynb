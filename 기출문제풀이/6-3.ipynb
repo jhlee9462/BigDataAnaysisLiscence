{
 "cells": [
  {
   "cell_type": "code",
   "id": "initial_id",
   "metadata": {
    "collapsed": true,
    "ExecuteTime": {
     "end_time": "2025-06-20T10:02:43.695945Z",
     "start_time": "2025-06-20T10:02:42.518151Z"
    }
   },
   "source": [
    "import pandas as pd\n",
    "\n",
    "df = pd.read_csv('https://raw.githubusercontent.com/Datamanim/datarepo/main/krdatacertificate/e7_p3_1.csv')"
   ],
   "outputs": [],
   "execution_count": 1
  },
  {
   "metadata": {
    "ExecuteTime": {
     "end_time": "2025-06-20T10:07:18.165920Z",
     "start_time": "2025-06-20T10:07:18.153816Z"
    }
   },
   "cell_type": "code",
   "source": [
    "target = df.corr()\n",
    "target[target != 1].max().max()"
   ],
   "id": "b1e540d19ee2a42",
   "outputs": [
    {
     "data": {
      "text/plain": [
       "0.6270251925517436"
      ]
     },
     "execution_count": 10,
     "metadata": {},
     "output_type": "execute_result"
    }
   ],
   "execution_count": 10
  },
  {
   "metadata": {
    "ExecuteTime": {
     "end_time": "2025-06-20T10:10:33.852839Z",
     "start_time": "2025-06-20T10:10:33.839632Z"
    }
   },
   "cell_type": "code",
   "source": [
    "import statsmodels.api as sm\n",
    "\n",
    "X = df.drop(columns=['Target'])\n",
    "X = sm.add_constant(X)\n",
    "y = df['Target']\n",
    "\n",
    "models = sm.OLS(y, X).fit()\n",
    "print(models.params['v2'])"
   ],
   "id": "611aa4e7fd3f617c",
   "outputs": [
    {
     "name": "stdout",
     "output_type": "stream",
     "text": [
      "6.440301364843059\n"
     ]
    }
   ],
   "execution_count": 15
  },
  {
   "metadata": {
    "ExecuteTime": {
     "end_time": "2025-06-20T10:10:50.155700Z",
     "start_time": "2025-06-20T10:10:50.148188Z"
    }
   },
   "cell_type": "code",
   "source": "models.pvalues.max()",
   "id": "6f2cc5558c76af46",
   "outputs": [
    {
     "data": {
      "text/plain": [
       "0.9265545986907169"
      ]
     },
     "execution_count": 17,
     "metadata": {},
     "output_type": "execute_result"
    }
   ],
   "execution_count": 17
  },
  {
   "metadata": {
    "ExecuteTime": {
     "end_time": "2025-06-20T10:10:58.989463Z",
     "start_time": "2025-06-20T10:10:58.898415Z"
    }
   },
   "cell_type": "code",
   "source": "df2 = pd.read_csv('https://raw.githubusercontent.com/Datamanim/datarepo/main/krdatacertificate/e7_p3_t.csv')",
   "id": "892f92ca16fda3a0",
   "outputs": [],
   "execution_count": 18
  },
  {
   "metadata": {
    "ExecuteTime": {
     "end_time": "2025-06-20T10:12:28.728690Z",
     "start_time": "2025-06-20T10:12:28.722131Z"
    }
   },
   "cell_type": "code",
   "source": [
    "train = df2.iloc[:210].reset_index(drop=True)\n",
    "test = df2.iloc[210:].reset_index(drop=True)"
   ],
   "id": "857c937678acd45d",
   "outputs": [],
   "execution_count": 22
  },
  {
   "metadata": {
    "ExecuteTime": {
     "end_time": "2025-06-20T10:14:31.074445Z",
     "start_time": "2025-06-20T10:14:31.062302Z"
    }
   },
   "cell_type": "code",
   "source": [
    "import statsmodels.api as sm\n",
    "import numpy as np\n",
    "\n",
    "X = train.drop(columns=['target'])\n",
    "y = train['target']\n",
    "\n",
    "model = sm.Logit(y, X).fit()\n",
    "\n",
    "np.exp(model.params['age'])"
   ],
   "id": "52e0659fe6885453",
   "outputs": [
    {
     "name": "stdout",
     "output_type": "stream",
     "text": [
      "Optimization terminated successfully.\n",
      "         Current function value: 0.343347\n",
      "         Iterations 7\n"
     ]
    },
    {
     "data": {
      "text/plain": [
       "np.float64(0.9562078844664191)"
      ]
     },
     "execution_count": 25,
     "metadata": {},
     "output_type": "execute_result"
    }
   ],
   "execution_count": 25
  }
 ],
 "metadata": {
  "kernelspec": {
   "display_name": "Python 3",
   "language": "python",
   "name": "python3"
  },
  "language_info": {
   "codemirror_mode": {
    "name": "ipython",
    "version": 2
   },
   "file_extension": ".py",
   "mimetype": "text/x-python",
   "name": "python",
   "nbconvert_exporter": "python",
   "pygments_lexer": "ipython2",
   "version": "2.7.6"
  }
 },
 "nbformat": 4,
 "nbformat_minor": 5
}
