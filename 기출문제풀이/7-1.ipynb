{
 "cells": [
  {
   "cell_type": "code",
   "id": "initial_id",
   "metadata": {
    "collapsed": true,
    "ExecuteTime": {
     "end_time": "2025-06-20T15:10:52.831400Z",
     "start_time": "2025-06-20T15:10:52.262537Z"
    }
   },
   "source": [
    "import pandas as pd\n",
    "\n",
    "df = pd.read_csv('https://raw.githubusercontent.com/Datamanim/datarepo/main/krdatacertificate/e8_p1_1.csv')"
   ],
   "outputs": [],
   "execution_count": 1
  },
  {
   "metadata": {
    "ExecuteTime": {
     "end_time": "2025-06-20T15:13:28.288904Z",
     "start_time": "2025-06-20T15:13:28.283074Z"
    }
   },
   "cell_type": "code",
   "source": [
    "africa = df.groupby('대륙')['소비량'].mean().sort_values(ascending=False).index[4]\n",
    "\n",
    "print(df.loc[df['대륙'] == africa].sort_values('소비량', ascending=False)['소비량'].iloc[2])"
   ],
   "id": "772215a40265d7d4",
   "outputs": [
    {
     "name": "stdout",
     "output_type": "stream",
     "text": [
      "225\n"
     ]
    }
   ],
   "execution_count": 13
  },
  {
   "metadata": {
    "ExecuteTime": {
     "end_time": "2025-06-20T15:15:20.437559Z",
     "start_time": "2025-06-20T15:15:20.169358Z"
    }
   },
   "cell_type": "code",
   "source": "df2 = pd.read_csv('https://raw.githubusercontent.com/Datamanim/datarepo/main/krdatacertificate/e8_p1_2.csv')",
   "id": "e48c65e0d18a4444",
   "outputs": [],
   "execution_count": 14
  },
  {
   "metadata": {
    "ExecuteTime": {
     "end_time": "2025-06-20T15:22:15.885570Z",
     "start_time": "2025-06-20T15:22:15.877265Z"
    }
   },
   "cell_type": "code",
   "source": [
    "df2['관광 비율'] = df2.apply(lambda x: x['관광'] / (x['관광'] + x['방문'] + x['유학연수'] + x['취업'] + x['기타']), axis=1)\n",
    "cam = df2[['국가', '관광 비율']].sort_values('관광 비율', ascending=False).iloc[1]['국가']\n",
    "tai = df2[['국가', '관광']].sort_values('관광', ascending=False).iloc[2]['국가']\n",
    "int(df2.loc[df2['국가'] == cam]['취업'].values[0] +  + df2.loc[df2['국가'] == tai]['방문'].values[0])"
   ],
   "id": "35285068ab67882f",
   "outputs": [
    {
     "data": {
      "text/plain": [
       "30835"
      ]
     },
     "execution_count": 27,
     "metadata": {},
     "output_type": "execute_result"
    }
   ],
   "execution_count": 27
  },
  {
   "metadata": {
    "ExecuteTime": {
     "end_time": "2025-06-20T15:23:01.720768Z",
     "start_time": "2025-06-20T15:23:01.390171Z"
    }
   },
   "cell_type": "code",
   "source": "df3 = pd.read_csv('https://raw.githubusercontent.com/Datamanim/datarepo/main/krdatacertificate/e8_p1_3.csv')",
   "id": "d00befdd9f2728f9",
   "outputs": [],
   "execution_count": 29
  },
  {
   "metadata": {
    "ExecuteTime": {
     "end_time": "2025-06-20T15:26:47.451038Z",
     "start_time": "2025-06-20T15:26:47.446614Z"
    }
   },
   "cell_type": "code",
   "source": [
    "from sklearn.preprocessing import MinMaxScaler\n",
    "\n",
    "mms = MinMaxScaler()\n",
    "round(mms.fit_transform(df3['CO(GT)'].values.reshape(-1, 1)).std() - mms.fit_transform(df3['NMHC(GT)'].values.reshape(-1, 1)).std(), 3)"
   ],
   "id": "735ee8a234be7ded",
   "outputs": [
    {
     "data": {
      "text/plain": [
       "np.float64(0.266)"
      ]
     },
     "execution_count": 35,
     "metadata": {},
     "output_type": "execute_result"
    }
   ],
   "execution_count": 35
  }
 ],
 "metadata": {
  "kernelspec": {
   "display_name": "Python 3",
   "language": "python",
   "name": "python3"
  },
  "language_info": {
   "codemirror_mode": {
    "name": "ipython",
    "version": 2
   },
   "file_extension": ".py",
   "mimetype": "text/x-python",
   "name": "python",
   "nbconvert_exporter": "python",
   "pygments_lexer": "ipython2",
   "version": "2.7.6"
  }
 },
 "nbformat": 4,
 "nbformat_minor": 5
}
