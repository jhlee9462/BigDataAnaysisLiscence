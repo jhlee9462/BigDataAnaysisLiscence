{
 "cells": [
  {
   "cell_type": "code",
   "id": "initial_id",
   "metadata": {
    "collapsed": true,
    "ExecuteTime": {
     "end_time": "2025-06-20T06:59:36.829181Z",
     "start_time": "2025-06-20T06:59:36.533335Z"
    }
   },
   "source": [
    "import pandas as pd\n",
    "\n",
    "df = pd.read_csv('https://raw.githubusercontent.com/Datamanim/datarepo/main/krdatacertificate/e6_p1_1.csv')"
   ],
   "outputs": [],
   "execution_count": 12
  },
  {
   "metadata": {
    "ExecuteTime": {
     "end_time": "2025-06-20T07:01:59.932807Z",
     "start_time": "2025-06-20T07:01:59.896277Z"
    }
   },
   "cell_type": "code",
   "source": [
    "df['소요시간'] = (pd.to_datetime(df['출동일자'].astype('str') + df['출동시각'].astype('str').str.zfill(6)) - pd.to_datetime(\n",
    "    df['신고일자'].astype('str') + df['신고시각'].astype('str').str.zfill(6))).dt.total_seconds()\n",
    "\n",
    "df.groupby('소방서명')['소요시간'].mean().sort_values().reset_index().iloc[2].values"
   ],
   "id": "8881a9fa4803e35a",
   "outputs": [
    {
     "data": {
      "text/plain": [
       "array(['종로소방서', np.float64(175.5)], dtype=object)"
      ]
     },
     "execution_count": 23,
     "metadata": {},
     "output_type": "execute_result"
    }
   ],
   "execution_count": 23
  },
  {
   "metadata": {
    "ExecuteTime": {
     "end_time": "2025-06-20T07:02:52.439018Z",
     "start_time": "2025-06-20T07:02:52.153502Z"
    }
   },
   "cell_type": "code",
   "source": "df2 = pd.read_csv('https://raw.githubusercontent.com/Datamanim/datarepo/main/krdatacertificate/e6_p1_2.csv')",
   "id": "6555ee6c8ae75e94",
   "outputs": [],
   "execution_count": 24
  },
  {
   "metadata": {
    "ExecuteTime": {
     "end_time": "2025-06-20T07:08:14.081177Z",
     "start_time": "2025-06-20T07:08:14.067698Z"
    }
   },
   "cell_type": "code",
   "source": [
    "target = df2.loc[df2['학교세부유형'] == '일반중학교'].copy()\n",
    "second_populer = target.groupby('시도').count()['학교명'].sort_values(ascending=False).index[1]\n",
    "\n",
    "t2 = target.loc[target['시도'] == second_populer].copy()\n",
    "\n",
    "t2['교원당 학생수'] = t2['일반학급_학생수_계'] / t2['교원수_총계_계']\n",
    "\n",
    "t2.sort_values('교원당 학생수', ascending=False).head(1)['교원수_총계_계'].values[0]"
   ],
   "id": "a644e3130aca78e1",
   "outputs": [
    {
     "data": {
      "text/plain": [
       "np.int64(33)"
      ]
     },
     "execution_count": 39,
     "metadata": {},
     "output_type": "execute_result"
    }
   ],
   "execution_count": 39
  },
  {
   "metadata": {
    "ExecuteTime": {
     "end_time": "2025-06-20T07:16:27.984077Z",
     "start_time": "2025-06-20T07:16:27.963724Z"
    }
   },
   "cell_type": "code",
   "source": "df3 = pd.read_csv('https://raw.githubusercontent.com/Datamanim/datarepo/main/krdatacertificate/e6_p1_3.csv')",
   "id": "542185cd3c68a45a",
   "outputs": [],
   "execution_count": 40
  },
  {
   "metadata": {
    "ExecuteTime": {
     "end_time": "2025-06-20T07:19:00.728537Z",
     "start_time": "2025-06-20T07:19:00.716232Z"
    }
   },
   "cell_type": "code",
   "source": "df3['총범죄수'] = df3.apply(lambda x: x['절도'] + x['사기'] + x['배임'] + x['방화'] + x['폭행'], axis=1)",
   "id": "43a550949764ca64",
   "outputs": [],
   "execution_count": 42
  },
  {
   "metadata": {
    "ExecuteTime": {
     "end_time": "2025-06-20T07:28:29.883232Z",
     "start_time": "2025-06-20T07:28:29.869153Z"
    }
   },
   "cell_type": "code",
   "source": [
    "def define_quarter(m):\n",
    "    m_i = int(m.replace('월', ''))\n",
    "    return str(((m_i - 1) // 3) + 1) + '분기'\n",
    "\n",
    "df3['분기'] = df3.apply(lambda x: x['범죄분류'].split('_')[0] + define_quarter(x['범죄분류'].split('_')[1]), axis=1)\n",
    "\n",
    "max_tot_q = df3.groupby('분기')['총범죄수'].mean().sort_values().tail(1).index[0]\n",
    "\n",
    "df3.loc[df3['분기'] == max_tot_q].sort_values('사기', ascending=False)['사기'].values[0]"
   ],
   "id": "72625180ed374b29",
   "outputs": [
    {
     "data": {
      "text/plain": [
       "np.int64(27766)"
      ]
     },
     "execution_count": 62,
     "metadata": {},
     "output_type": "execute_result"
    }
   ],
   "execution_count": 62
  }
 ],
 "metadata": {
  "kernelspec": {
   "display_name": "Python 3",
   "language": "python",
   "name": "python3"
  },
  "language_info": {
   "codemirror_mode": {
    "name": "ipython",
    "version": 2
   },
   "file_extension": ".py",
   "mimetype": "text/x-python",
   "name": "python",
   "nbconvert_exporter": "python",
   "pygments_lexer": "ipython2",
   "version": "2.7.6"
  }
 },
 "nbformat": 4,
 "nbformat_minor": 5
}
