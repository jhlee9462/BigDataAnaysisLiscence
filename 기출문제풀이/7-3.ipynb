{
 "cells": [
  {
   "cell_type": "code",
   "id": "initial_id",
   "metadata": {
    "collapsed": true,
    "ExecuteTime": {
     "end_time": "2025-06-20T15:34:25.427738Z",
     "start_time": "2025-06-20T15:34:25.048813Z"
    }
   },
   "source": [
    "import pandas as pd\n",
    "\n",
    "df = pd.read_csv('https://raw.githubusercontent.com/Datamanim/datarepo/main/krdatacertificate/e8_p3_1.csv')"
   ],
   "outputs": [],
   "execution_count": 1
  },
  {
   "metadata": {
    "ExecuteTime": {
     "end_time": "2025-06-20T15:39:48.344199Z",
     "start_time": "2025-06-20T15:39:48.332191Z"
    }
   },
   "cell_type": "code",
   "source": [
    "import statsmodels.api as sm\n",
    "\n",
    "X = sm.add_constant(df.drop(columns='Y'))\n",
    "model = sm.Logit(df['Y'], X).fit()\n",
    "\n",
    "(model.params > 0.05).sum()"
   ],
   "id": "a813fb82f730ff23",
   "outputs": [
    {
     "name": "stdout",
     "output_type": "stream",
     "text": [
      "Optimization terminated successfully.\n",
      "         Current function value: 0.060586\n",
      "         Iterations 10\n"
     ]
    },
    {
     "data": {
      "text/plain": [
       "np.int64(11)"
      ]
     },
     "execution_count": 13,
     "metadata": {},
     "output_type": "execute_result"
    }
   ],
   "execution_count": 13
  },
  {
   "metadata": {
    "ExecuteTime": {
     "end_time": "2025-06-20T15:44:04.778352Z",
     "start_time": "2025-06-20T15:44:04.769351Z"
    }
   },
   "cell_type": "code",
   "source": [
    "p = model.params\n",
    "\n",
    "cls = p.loc[p < 0.05].index[1:]\n",
    "\n",
    "X = sm.add_constant(df[cls])\n",
    "model2 = sm.Logit(df['Y'], X).fit(disp=0)\n",
    "\n",
    "round(model2.params.sum(), 3)"
   ],
   "id": "ec841b70fb76cd1e",
   "outputs": [
    {
     "data": {
      "text/plain": [
       "np.float64(0.257)"
      ]
     },
     "execution_count": 21,
     "metadata": {},
     "output_type": "execute_result"
    }
   ],
   "execution_count": 21
  },
  {
   "metadata": {
    "ExecuteTime": {
     "end_time": "2025-06-20T15:49:42.732745Z",
     "start_time": "2025-06-20T15:49:42.728597Z"
    }
   },
   "cell_type": "code",
   "source": [
    "import numpy as np\n",
    "\n",
    "np.exp(model2.params['X3'] * 5)"
   ],
   "id": "8ffc6b344d5b17e",
   "outputs": [
    {
     "data": {
      "text/plain": [
       "np.float64(1.1886127120738175)"
      ]
     },
     "execution_count": 31,
     "metadata": {},
     "output_type": "execute_result"
    }
   ],
   "execution_count": 31
  },
  {
   "metadata": {
    "ExecuteTime": {
     "end_time": "2025-06-20T15:56:07.858925Z",
     "start_time": "2025-06-20T15:56:07.542652Z"
    }
   },
   "cell_type": "code",
   "source": "df2 = pd.read_csv('https://raw.githubusercontent.com/Datamanim/datarepo/main/krdatacertificate/e8_p3_2.csv')",
   "id": "94be31ab1b43b8cf",
   "outputs": [],
   "execution_count": 49
  },
  {
   "metadata": {
    "ExecuteTime": {
     "end_time": "2025-06-20T15:56:08.709131Z",
     "start_time": "2025-06-20T15:56:08.703908Z"
    }
   },
   "cell_type": "code",
   "source": [
    "X = sm.add_constant(df2.drop(columns='PIQ'))\n",
    "model4 = sm.OLS(df2['PIQ'], X).fit()\n",
    "\n",
    "model4.params['Brain']"
   ],
   "id": "81a8a20eacf46046",
   "outputs": [
    {
     "data": {
      "text/plain": [
       "np.float64(2.060366797894947)"
      ]
     },
     "execution_count": 50,
     "metadata": {},
     "output_type": "execute_result"
    }
   ],
   "execution_count": 50
  },
  {
   "metadata": {
    "ExecuteTime": {
     "end_time": "2025-06-20T15:56:10.727457Z",
     "start_time": "2025-06-20T15:56:10.722736Z"
    }
   },
   "cell_type": "code",
   "source": "model4.rsquared",
   "id": "f7152e10baca0a88",
   "outputs": [
    {
     "data": {
      "text/plain": [
       "np.float64(0.29493921047394056)"
      ]
     },
     "execution_count": 51,
     "metadata": {},
     "output_type": "execute_result"
    }
   ],
   "execution_count": 51
  },
  {
   "metadata": {
    "ExecuteTime": {
     "end_time": "2025-06-20T15:56:16.989100Z",
     "start_time": "2025-06-20T15:56:16.985022Z"
    }
   },
   "cell_type": "code",
   "source": "model4.predict([1, 90, 70, 150])",
   "id": "86cf686eab316156",
   "outputs": [
    {
     "data": {
      "text/plain": [
       "array([105.6355693])"
      ]
     },
     "execution_count": 53,
     "metadata": {},
     "output_type": "execute_result"
    }
   ],
   "execution_count": 53
  }
 ],
 "metadata": {
  "kernelspec": {
   "display_name": "Python 3",
   "language": "python",
   "name": "python3"
  },
  "language_info": {
   "codemirror_mode": {
    "name": "ipython",
    "version": 2
   },
   "file_extension": ".py",
   "mimetype": "text/x-python",
   "name": "python",
   "nbconvert_exporter": "python",
   "pygments_lexer": "ipython2",
   "version": "2.7.6"
  }
 },
 "nbformat": 4,
 "nbformat_minor": 5
}
