{
 "cells": [
  {
   "cell_type": "code",
   "id": "initial_id",
   "metadata": {
    "collapsed": true,
    "ExecuteTime": {
     "end_time": "2025-06-19T01:57:59.278974Z",
     "start_time": "2025-06-19T01:57:59.256841Z"
    }
   },
   "source": [
    "import pandas as pd\n",
    "\n",
    "df = pd.read_csv('https://raw.githubusercontent.com/Datamanim/datarepo/main/krdatacertificate/e2_p1_1.csv')\n",
    "# df = df.sort_values('CRIM',ascending=False).reset_index(drop=True)\n",
    "# df.loc[:9,'CRIM'] = df.loc[:9,'CRIM'].min()\n",
    "# mean = df[df.AGE >=80].CRIM.mean()\n",
    "# print(mean)"
   ],
   "outputs": [],
   "execution_count": 53
  },
  {
   "metadata": {
    "ExecuteTime": {
     "end_time": "2025-06-19T01:57:59.298505Z",
     "start_time": "2025-06-19T01:57:59.292511Z"
    }
   },
   "cell_type": "code",
   "source": [
    "df = df.sort_values('CRIM', ascending=False).reset_index(drop=False)\n",
    "df.loc[:9, 'CRIM'] = df.loc[:9, 'CRIM'].min()\n",
    "print(df.loc[df['AGE'] >= 80]['CRIM'].mean())"
   ],
   "id": "cd74a724a781fefc",
   "outputs": [
    {
     "name": "stdout",
     "output_type": "stream",
     "text": [
      "5.759386625\n"
     ]
    }
   ],
   "execution_count": 54
  },
  {
   "metadata": {
    "ExecuteTime": {
     "end_time": "2025-06-19T01:57:59.335217Z",
     "start_time": "2025-06-19T01:57:59.329975Z"
    }
   },
   "cell_type": "code",
   "source": [
    "before = df['RM'].std()\n",
    "rm_median = df['RM'].median()\n",
    "df['RM'] = df['RM'].fillna(rm_median)\n",
    "after = df['RM'].std()\n",
    "print(round(abs(before - after), 3))"
   ],
   "id": "ed5cd923d125e403",
   "outputs": [
    {
     "name": "stdout",
     "output_type": "stream",
     "text": [
      "0.027\n"
     ]
    }
   ],
   "execution_count": 55
  },
  {
   "metadata": {
    "ExecuteTime": {
     "end_time": "2025-06-19T02:03:14.303628Z",
     "start_time": "2025-06-19T02:03:14.296166Z"
    }
   },
   "cell_type": "code",
   "source": [
    "dis_mean = df['DIS'].mean()\n",
    "dis_std = df['DIS'].std()\n",
    "\n",
    "df[['DIS']].loc[(dis_mean - dis_std * 1.5 > df['DIS']) | (df['DIS'] > dis_mean + dis_std * 1.5)].sum().iloc[0]"
   ],
   "id": "ee89aabe330ea3f6",
   "outputs": [
    {
     "data": {
      "text/plain": [
       "np.float64(404.4101)"
      ]
     },
     "execution_count": 61,
     "metadata": {},
     "output_type": "execute_result"
    }
   ],
   "execution_count": 61
  }
 ],
 "metadata": {
  "kernelspec": {
   "display_name": "Python 3",
   "language": "python",
   "name": "python3"
  },
  "language_info": {
   "codemirror_mode": {
    "name": "ipython",
    "version": 2
   },
   "file_extension": ".py",
   "mimetype": "text/x-python",
   "name": "python",
   "nbconvert_exporter": "python",
   "pygments_lexer": "ipython2",
   "version": "2.7.6"
  }
 },
 "nbformat": 4,
 "nbformat_minor": 5
}
