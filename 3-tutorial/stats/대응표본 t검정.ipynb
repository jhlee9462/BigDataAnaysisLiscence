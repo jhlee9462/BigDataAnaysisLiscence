{
 "cells": [
  {
   "cell_type": "code",
   "id": "initial_id",
   "metadata": {
    "collapsed": true,
    "ExecuteTime": {
     "end_time": "2025-06-17T12:37:42.292389Z",
     "start_time": "2025-06-17T12:37:41.318320Z"
    }
   },
   "source": [
    "import pandas as pd\n",
    "\n",
    "df = pd.read_csv('https://raw.githubusercontent.com/Datamanim/datarepo/main/scipy/rel2.csv')"
   ],
   "outputs": [],
   "execution_count": 1
  },
  {
   "metadata": {
    "ExecuteTime": {
     "end_time": "2025-06-17T12:43:59.580880Z",
     "start_time": "2025-06-17T12:43:59.575212Z"
    }
   },
   "cell_type": "code",
   "source": [
    "from scipy.stats import ttest_rel, shapiro, levene, wilcoxon\n",
    "\n",
    "before = df['before']\n",
    "after = df['after']\n",
    "print(ttest_rel(before, after))"
   ],
   "id": "ca9594bf0ae2d0bc",
   "outputs": [
    {
     "name": "stdout",
     "output_type": "stream",
     "text": [
      "TtestResult(statistic=np.float64(-2.5535473487670677), pvalue=np.float64(0.011926744724546513), df=np.int64(119))\n"
     ]
    }
   ],
   "execution_count": 15
  },
  {
   "metadata": {
    "ExecuteTime": {
     "end_time": "2025-06-17T12:40:43.614915Z",
     "start_time": "2025-06-17T12:40:43.563583Z"
    }
   },
   "cell_type": "code",
   "source": [
    "df2 = pd.read_csv('https://raw.githubusercontent.com/Datamanim/datarepo/main/scipy/rel3.csv')\n",
    "before2 = df2['before']\n",
    "after2 = df2['after']"
   ],
   "id": "b8607320d656fb3b",
   "outputs": [],
   "execution_count": 6
  },
  {
   "metadata": {
    "ExecuteTime": {
     "end_time": "2025-06-17T12:41:39.883690Z",
     "start_time": "2025-06-17T12:41:39.874756Z"
    }
   },
   "cell_type": "code",
   "source": "print(ttest_rel(before2, after2))",
   "id": "591e8df2c1beb611",
   "outputs": [
    {
     "name": "stdout",
     "output_type": "stream",
     "text": [
      "TtestResult(statistic=np.float64(0.188900575991026), pvalue=np.float64(0.8504925317234707), df=np.int64(119))\n"
     ]
    }
   ],
   "execution_count": 8
  },
  {
   "metadata": {
    "ExecuteTime": {
     "end_time": "2025-06-17T12:42:17.623349Z",
     "start_time": "2025-06-17T12:42:17.574743Z"
    }
   },
   "cell_type": "code",
   "source": [
    "df3 = pd.read_csv('https://raw.githubusercontent.com/Datamanim/datarepo/main/scipy/rel1.csv')\n",
    "\n",
    "b3 = df3['before']\n",
    "a3 = df3['after']"
   ],
   "id": "eb22de0fcc4ffb09",
   "outputs": [],
   "execution_count": 10
  },
  {
   "metadata": {
    "ExecuteTime": {
     "end_time": "2025-06-17T12:44:13.988806Z",
     "start_time": "2025-06-17T12:44:13.972812Z"
    }
   },
   "cell_type": "code",
   "source": [
    "print(shapiro(b3))\n",
    "print(shapiro(a3))\n",
    "\n",
    "print(levene(b3, a3))\n",
    "\n",
    "# 정규성을 가지지 않으므로 윌콕슨 순위부호 검정을 진행해야 함\n",
    "print(wilcoxon(b3, a3))"
   ],
   "id": "9f587f2924011334",
   "outputs": [
    {
     "name": "stdout",
     "output_type": "stream",
     "text": [
      "ShapiroResult(statistic=np.float64(0.9173727585075375), pvalue=np.float64(0.0018973571840317808))\n",
      "ShapiroResult(statistic=np.float64(0.9448970350592873), pvalue=np.float64(0.021140909861349116))\n",
      "LeveneResult(statistic=np.float64(0.14329522146179022), pvalue=np.float64(0.7058456563194881))\n",
      "WilcoxonResult(statistic=np.float64(437.0), pvalue=np.float64(0.12098409484052809))\n"
     ]
    }
   ],
   "execution_count": 17
  },
  {
   "metadata": {
    "ExecuteTime": {
     "end_time": "2025-06-17T12:45:58.929194Z",
     "start_time": "2025-06-17T12:45:58.827888Z"
    }
   },
   "cell_type": "code",
   "source": [
    "df4 = pd.read_csv('https://raw.githubusercontent.com/Datamanim/datarepo/main/scipy/rel4.csv')\n",
    "\n",
    "a = df4.loc[df4['group'] == 'a'].rpm\n",
    "b = df4.loc[df4['group'] == 'b'].rpm"
   ],
   "id": "f732ce2968a05440",
   "outputs": [],
   "execution_count": 20
  },
  {
   "metadata": {
    "ExecuteTime": {
     "end_time": "2025-06-17T12:46:27.608282Z",
     "start_time": "2025-06-17T12:46:27.595881Z"
    }
   },
   "cell_type": "code",
   "source": [
    "print(shapiro(a))\n",
    "print(shapiro(b))\n",
    "\n",
    "print(levene(a, b))\n",
    "\n",
    "print(ttest_rel(a, b))"
   ],
   "id": "cf7c686d107787af",
   "outputs": [
    {
     "name": "stdout",
     "output_type": "stream",
     "text": [
      "ShapiroResult(statistic=np.float64(0.9907215247460179), pvalue=np.float64(0.888420220853863))\n",
      "ShapiroResult(statistic=np.float64(0.9846746597671578), pvalue=np.float64(0.5504989397841747))\n",
      "LeveneResult(statistic=np.float64(0.06716114122680159), pvalue=np.float64(0.7959020864923277))\n",
      "TtestResult(statistic=np.float64(-1.9018108294460812), pvalue=np.float64(0.06137132692892943), df=np.int64(69))\n"
     ]
    }
   ],
   "execution_count": 23
  }
 ],
 "metadata": {
  "kernelspec": {
   "display_name": "Python 3",
   "language": "python",
   "name": "python3"
  },
  "language_info": {
   "codemirror_mode": {
    "name": "ipython",
    "version": 2
   },
   "file_extension": ".py",
   "mimetype": "text/x-python",
   "name": "python",
   "nbconvert_exporter": "python",
   "pygments_lexer": "ipython2",
   "version": "2.7.6"
  }
 },
 "nbformat": 4,
 "nbformat_minor": 5
}
