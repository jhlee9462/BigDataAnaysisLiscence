{
 "cells": [
  {
   "cell_type": "code",
   "id": "initial_id",
   "metadata": {
    "collapsed": true,
    "ExecuteTime": {
     "end_time": "2025-06-17T12:14:33.620828Z",
     "start_time": "2025-06-17T12:14:33.281401Z"
    }
   },
   "source": [
    "import pandas as pd\n",
    "import matplotlib.pyplot as plt\n",
    "\n",
    "df1 = pd.read_csv('https://raw.githubusercontent.com/Datamanim/datarepo/main/scipy/ind1.csv')\n",
    "df2 = pd.read_csv('https://raw.githubusercontent.com/Datamanim/datarepo/main/scipy/ind2.csv')\n",
    "\n",
    "plt.hist(df1, label='df1', alpha=0.4)\n",
    "plt.hist(df2, label='df2', alpha=0.4)\n",
    "plt.xlabel('Score bins')\n",
    "plt.ylabel('Counts')\n",
    "plt.legend()\n",
    "plt.show()"
   ],
   "outputs": [
    {
     "data": {
      "text/plain": [
       "<Figure size 640x480 with 1 Axes>"
      ],
      "image/png": "[encoded data removed]"
     },
     "metadata": {},
     "output_type": "display_data"
    }
   ],
   "execution_count": 2
  },
  {
   "metadata": {
    "ExecuteTime": {
     "end_time": "2025-06-17T12:15:34.331110Z",
     "start_time": "2025-06-17T12:15:34.323359Z"
    }
   },
   "cell_type": "code",
   "source": [
    "# 정규성 검정\n",
    "from scipy.stats import shapiro\n",
    "\n",
    "print(shapiro(df1))\n",
    "print(shapiro(df2))"
   ],
   "id": "8ad3b785095c953b",
   "outputs": [
    {
     "name": "stdout",
     "output_type": "stream",
     "text": [
      "ShapiroResult(statistic=np.float64(0.9860948333328381), pvalue=np.float64(0.3796835726350978))\n",
      "ShapiroResult(statistic=np.float64(0.9901827646291556), pvalue=np.float64(0.6793743269084671))\n"
     ]
    }
   ],
   "execution_count": 5
  },
  {
   "metadata": {
    "ExecuteTime": {
     "end_time": "2025-06-17T12:20:54.715445Z",
     "start_time": "2025-06-17T12:20:54.705553Z"
    }
   },
   "cell_type": "code",
   "source": [
    "# 등분산 검정\n",
    "from scipy.stats import bartlett, levene\n",
    "\n",
    "print(bartlett(df1.data, df2.data))\n",
    "\n"
   ],
   "id": "f3ffa501f0f5d29",
   "outputs": [
    {
     "name": "stdout",
     "output_type": "stream",
     "text": [
      "BartlettResult(statistic=np.float64(4.170597307474754), pvalue=np.float64(0.04113129672708929))\n"
     ]
    }
   ],
   "execution_count": 14
  },
  {
   "metadata": {
    "ExecuteTime": {
     "end_time": "2025-06-17T12:22:49.181228Z",
     "start_time": "2025-06-17T12:22:49.168941Z"
    }
   },
   "cell_type": "code",
   "source": [
    "# 등분산이 아니기 때문에 equal_var=False 를 줌\n",
    "from scipy.stats import ttest_ind\n",
    "\n",
    "print(ttest_ind(df1, df2, equal_var=False))"
   ],
   "id": "f1e72cb247e92308",
   "outputs": [
    {
     "name": "stdout",
     "output_type": "stream",
     "text": [
      "TtestResult(statistic=array([2.76719074]), pvalue=array([0.00621286]), df=array([190.1184151]))\n"
     ]
    }
   ],
   "execution_count": 15
  },
  {
   "metadata": {
    "ExecuteTime": {
     "end_time": "2025-06-17T12:24:40.565666Z",
     "start_time": "2025-06-17T12:24:39.647680Z"
    }
   },
   "cell_type": "code",
   "source": [
    "df3 = pd.read_csv('https://raw.githubusercontent.com/Datamanim/datarepo/main/scipy/scipy5.csv')\n",
    "a = df3['A']\n",
    "b = df3['B']\n",
    "\n",
    "plt.hist(a, label='A', alpha=0.5)\n",
    "plt.hist(b.dropna(), label='B', alpha=0.5)\n",
    "plt.xlabel('Score bins')\n",
    "plt.ylabel('Counts')\n",
    "plt.legend()\n",
    "plt.show()"
   ],
   "id": "aed2ded4b75d6a1c",
   "outputs": [
    {
     "data": {
      "text/plain": [
       "<Figure size 640x480 with 1 Axes>"
      ],
      "image/png": "[encoded data removed]"
     },
     "metadata": {},
     "output_type": "display_data"
    }
   ],
   "execution_count": 20
  },
  {
   "metadata": {
    "ExecuteTime": {
     "end_time": "2025-06-17T12:25:06.368611Z",
     "start_time": "2025-06-17T12:25:06.360248Z"
    }
   },
   "cell_type": "code",
   "source": [
    "print(shapiro(a))\n",
    "print(shapiro(b.dropna()))"
   ],
   "id": "c2c3f5c02b333c6f",
   "outputs": [
    {
     "name": "stdout",
     "output_type": "stream",
     "text": [
      "ShapiroResult(statistic=np.float64(0.9375393672524898), pvalue=np.float64(6.175255664337991e-10))\n",
      "ShapiroResult(statistic=np.float64(0.9639432320175103), pvalue=np.float64(0.0001356810116492406))\n"
     ]
    }
   ],
   "execution_count": 23
  },
  {
   "metadata": {
    "ExecuteTime": {
     "end_time": "2025-06-17T12:28:52.900618Z",
     "start_time": "2025-06-17T12:28:52.884228Z"
    }
   },
   "cell_type": "code",
   "source": [
    "from scipy.stats import mannwhitneyu, ranksums\n",
    "\n",
    "print(mannwhitneyu(a, b.dropna()))\n",
    "print(ranksums(a, b.dropna()))"
   ],
   "id": "a385cdff6403523e",
   "outputs": [
    {
     "name": "stdout",
     "output_type": "stream",
     "text": [
      "MannwhitneyuResult(statistic=np.float64(27036.0), pvalue=np.float64(0.9807458376150018))\n",
      "RanksumsResult(statistic=np.float64(0.02446942170858557), pvalue=np.float64(0.9804781743503561))\n"
     ]
    }
   ],
   "execution_count": 26
  },
  {
   "metadata": {
    "ExecuteTime": {
     "end_time": "2025-06-17T12:29:55.118827Z",
     "start_time": "2025-06-17T12:29:54.779561Z"
    }
   },
   "cell_type": "code",
   "source": [
    "df4 = pd.read_csv('https://raw.githubusercontent.com/Datamanim/datarepo/main/scipy/ind3.csv')\n",
    "\n",
    "a = df4.loc[df4['group'] == 'a'].data\n",
    "b = df4.loc[df4['group'] == 'b'].data"
   ],
   "id": "a8d619adc18b8f52",
   "outputs": [],
   "execution_count": 28
  },
  {
   "metadata": {
    "ExecuteTime": {
     "end_time": "2025-06-17T12:30:10.935194Z",
     "start_time": "2025-06-17T12:30:10.927596Z"
    }
   },
   "cell_type": "code",
   "source": [
    "# 정규성 검증\n",
    "print(shapiro(a))\n",
    "print(shapiro(b))"
   ],
   "id": "fa5e2979d3703b7c",
   "outputs": [
    {
     "name": "stdout",
     "output_type": "stream",
     "text": [
      "ShapiroResult(statistic=np.float64(0.9834129647404514), pvalue=np.float64(0.14741800674950262))\n",
      "ShapiroResult(statistic=np.float64(0.9831848013864214), pvalue=np.float64(0.47017519736901897))\n"
     ]
    }
   ],
   "execution_count": 30
  },
  {
   "metadata": {
    "ExecuteTime": {
     "end_time": "2025-06-17T12:31:32.730850Z",
     "start_time": "2025-06-17T12:31:32.716705Z"
    }
   },
   "cell_type": "code",
   "source": [
    "from scipy.stats import fligner, levene\n",
    "\n",
    "# 등분산 검증\n",
    "print(bartlett(a, b))\n",
    "print(fligner(a, b))\n",
    "print(levene(a, b))"
   ],
   "id": "7fbb6407892bfb19",
   "outputs": [
    {
     "name": "stdout",
     "output_type": "stream",
     "text": [
      "BartlettResult(statistic=np.float64(4.527245852831357), pvalue=np.float64(0.03335926358531406))\n",
      "FlignerResult(statistic=np.float64(6.116095465056764), pvalue=np.float64(0.01339563676982482))\n",
      "LeveneResult(statistic=np.float64(6.185601018015722), pvalue=np.float64(0.013750484571911342))\n"
     ]
    }
   ],
   "execution_count": 32
  },
  {
   "metadata": {
    "ExecuteTime": {
     "end_time": "2025-06-17T12:32:47.530228Z",
     "start_time": "2025-06-17T12:32:47.514318Z"
    }
   },
   "cell_type": "code",
   "source": "print(ttest_ind(a, b, equal_var=False))",
   "id": "c91e1f2e8e7675eb",
   "outputs": [
    {
     "name": "stdout",
     "output_type": "stream",
     "text": [
      "TtestResult(statistic=np.float64(-2.1949470315829265), pvalue=np.float64(0.029512802991767898), df=np.float64(171.25282465005142))\n"
     ]
    }
   ],
   "execution_count": 35
  },
  {
   "metadata": {
    "ExecuteTime": {
     "end_time": "2025-06-17T12:33:28.075608Z",
     "start_time": "2025-06-17T12:33:27.850575Z"
    }
   },
   "cell_type": "code",
   "source": [
    "df5 = pd.read_csv('https://raw.githubusercontent.com/Datamanim/datarepo/main/scipy/ind6.csv')\n",
    "df5.head()\n",
    "\n",
    "a = df5['a']\n",
    "b = df5['b']"
   ],
   "id": "aeda5e6472c7f4e9",
   "outputs": [],
   "execution_count": 37
  },
  {
   "metadata": {
    "ExecuteTime": {
     "end_time": "2025-06-17T12:33:46.365361Z",
     "start_time": "2025-06-17T12:33:46.359953Z"
    }
   },
   "cell_type": "code",
   "source": "b = b.dropna()",
   "id": "4be7a7b430daaa1",
   "outputs": [],
   "execution_count": 40
  },
  {
   "metadata": {
    "ExecuteTime": {
     "end_time": "2025-06-17T12:33:57.489408Z",
     "start_time": "2025-06-17T12:33:57.480527Z"
    }
   },
   "cell_type": "code",
   "source": [
    "print(shapiro(a))\n",
    "print(shapiro(b))"
   ],
   "id": "9020864cd48c97f4",
   "outputs": [
    {
     "name": "stdout",
     "output_type": "stream",
     "text": [
      "ShapiroResult(statistic=np.float64(0.9865897179339467), pvalue=np.float64(0.2839111805144998))\n",
      "ShapiroResult(statistic=np.float64(0.985432512495046), pvalue=np.float64(0.5937526914945275))\n"
     ]
    }
   ],
   "execution_count": 42
  },
  {
   "metadata": {
    "ExecuteTime": {
     "end_time": "2025-06-17T12:34:22.907414Z",
     "start_time": "2025-06-17T12:34:22.897440Z"
    }
   },
   "cell_type": "code",
   "source": [
    "print(bartlett(a, b))\n",
    "print(fligner(a, b))\n",
    "print(levene(a, b))"
   ],
   "id": "b58abbe63d65edd7",
   "outputs": [
    {
     "name": "stdout",
     "output_type": "stream",
     "text": [
      "BartlettResult(statistic=np.float64(3.5459493364964523), pvalue=np.float64(0.059691000498177604))\n",
      "FlignerResult(statistic=np.float64(4.387886502894593), pvalue=np.float64(0.03619515515941132))\n",
      "LeveneResult(statistic=np.float64(3.9862856894158347), pvalue=np.float64(0.04731495612868527))\n"
     ]
    }
   ],
   "execution_count": 43
  },
  {
   "metadata": {
    "ExecuteTime": {
     "end_time": "2025-06-17T12:34:49.674806Z",
     "start_time": "2025-06-17T12:34:49.666805Z"
    }
   },
   "cell_type": "code",
   "source": "print(ttest_ind(a, b, equal_var=True))",
   "id": "d59f98a02fc1c294",
   "outputs": [
    {
     "name": "stdout",
     "output_type": "stream",
     "text": [
      "TtestResult(statistic=np.float64(0.001681636686420389), pvalue=np.float64(0.9986600317363382), df=np.float64(188.0))\n"
     ]
    }
   ],
   "execution_count": 44
  }
 ],
 "metadata": {
  "kernelspec": {
   "display_name": "Python 3",
   "language": "python",
   "name": "python3"
  },
  "language_info": {
   "codemirror_mode": {
    "name": "ipython",
    "version": 2
   },
   "file_extension": ".py",
   "mimetype": "text/x-python",
   "name": "python",
   "nbconvert_exporter": "python",
   "pygments_lexer": "ipython2",
   "version": "2.7.6"
  }
 },
 "nbformat": 4,
 "nbformat_minor": 5
}
