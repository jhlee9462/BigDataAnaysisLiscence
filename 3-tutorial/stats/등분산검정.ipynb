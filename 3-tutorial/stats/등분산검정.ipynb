{
 "cells": [
  {
   "cell_type": "code",
   "id": "initial_id",
   "metadata": {
    "collapsed": true,
    "ExecuteTime": {
     "end_time": "2025-06-17T11:37:43.477097Z",
     "start_time": "2025-06-17T11:37:43.418403Z"
    }
   },
   "source": [
    "import pandas as pd\n",
    "\n",
    "df = pd.read_csv('https://raw.githubusercontent.com/Datamanim/datarepo/main/scipy/scipy2.csv')\n",
    "df.head()"
   ],
   "outputs": [
    {
     "data": {
      "text/plain": [
       "  class  score\n",
       "0     A     84\n",
       "1     A     59\n",
       "2     A     49\n",
       "3     A     57\n",
       "4     A     82"
      ],
      "text/html": [
       "<div>\n",
       "<style scoped>\n",
       "    .dataframe tbody tr th:only-of-type {\n",
       "        vertical-align: middle;\n",
       "    }\n",
       "\n",
       "    .dataframe tbody tr th {\n",
       "        vertical-align: top;\n",
       "    }\n",
       "\n",
       "    .dataframe thead th {\n",
       "        text-align: right;\n",
       "    }\n",
       "</style>\n",
       "<table border=\"1\" class=\"dataframe\">\n",
       "  <thead>\n",
       "    <tr style=\"text-align: right;\">\n",
       "      <th></th>\n",
       "      <th>class</th>\n",
       "      <th>score</th>\n",
       "    </tr>\n",
       "  </thead>\n",
       "  <tbody>\n",
       "    <tr>\n",
       "      <th>0</th>\n",
       "      <td>A</td>\n",
       "      <td>84</td>\n",
       "    </tr>\n",
       "    <tr>\n",
       "      <th>1</th>\n",
       "      <td>A</td>\n",
       "      <td>59</td>\n",
       "    </tr>\n",
       "    <tr>\n",
       "      <th>2</th>\n",
       "      <td>A</td>\n",
       "      <td>49</td>\n",
       "    </tr>\n",
       "    <tr>\n",
       "      <th>3</th>\n",
       "      <td>A</td>\n",
       "      <td>57</td>\n",
       "    </tr>\n",
       "    <tr>\n",
       "      <th>4</th>\n",
       "      <td>A</td>\n",
       "      <td>82</td>\n",
       "    </tr>\n",
       "  </tbody>\n",
       "</table>\n",
       "</div>"
      ]
     },
     "execution_count": 2,
     "metadata": {},
     "output_type": "execute_result"
    }
   ],
   "execution_count": 2
  },
  {
   "metadata": {
    "ExecuteTime": {
     "end_time": "2025-06-17T11:46:12.910311Z",
     "start_time": "2025-06-17T11:46:12.890618Z"
    }
   },
   "cell_type": "code",
   "source": [
    "from scipy.stats import bartlett, fligner, levene\n",
    "\n",
    "a = df.loc[df['class'] == 'A'].score\n",
    "b = df.loc[df['class'] == 'B'].score\n",
    "\n",
    "print(bartlett(a, b))\n",
    "\n",
    "print(fligner(a, b, center='median')) # default\n",
    "print(fligner(a, b, center='mean'))\n",
    "\n",
    "print(levene(a, b, center='median')) # default\n",
    "print(levene(a, b, center='mean'))"
   ],
   "id": "7ba56ae1ffb2ad92",
   "outputs": [
    {
     "name": "stdout",
     "output_type": "stream",
     "text": [
      "BartlettResult(statistic=np.float64(1.660392548141078), pvalue=np.float64(0.19755033113593976))\n",
      "FlignerResult(statistic=np.float64(0.7281251154135562), pvalue=np.float64(0.39349158741002765))\n",
      "FlignerResult(statistic=np.float64(0.8272211734319945), pvalue=np.float64(0.36307728836821906))\n",
      "LeveneResult(statistic=np.float64(0.3145466542912649), pvalue=np.float64(0.5751662820554713))\n",
      "LeveneResult(statistic=np.float64(0.5086970687685527), pvalue=np.float64(0.4760514837800255))\n"
     ]
    }
   ],
   "execution_count": 4
  },
  {
   "metadata": {
    "ExecuteTime": {
     "end_time": "2025-06-17T11:46:33.763256Z",
     "start_time": "2025-06-17T11:46:33.440436Z"
    }
   },
   "cell_type": "code",
   "source": [
    "df2 = pd.read_csv('https://raw.githubusercontent.com/Datamanim/datarepo/main/scipy/scipy3.csv')\n",
    "df2.head()"
   ],
   "id": "4c8654b287b04f71",
   "outputs": [
    {
     "data": {
      "text/plain": [
       "  class  score\n",
       "0     A     32\n",
       "1     A     69\n",
       "2     A     68\n",
       "3     A     60\n",
       "4     A     78"
      ],
      "text/html": [
       "<div>\n",
       "<style scoped>\n",
       "    .dataframe tbody tr th:only-of-type {\n",
       "        vertical-align: middle;\n",
       "    }\n",
       "\n",
       "    .dataframe tbody tr th {\n",
       "        vertical-align: top;\n",
       "    }\n",
       "\n",
       "    .dataframe thead th {\n",
       "        text-align: right;\n",
       "    }\n",
       "</style>\n",
       "<table border=\"1\" class=\"dataframe\">\n",
       "  <thead>\n",
       "    <tr style=\"text-align: right;\">\n",
       "      <th></th>\n",
       "      <th>class</th>\n",
       "      <th>score</th>\n",
       "    </tr>\n",
       "  </thead>\n",
       "  <tbody>\n",
       "    <tr>\n",
       "      <th>0</th>\n",
       "      <td>A</td>\n",
       "      <td>32</td>\n",
       "    </tr>\n",
       "    <tr>\n",
       "      <th>1</th>\n",
       "      <td>A</td>\n",
       "      <td>69</td>\n",
       "    </tr>\n",
       "    <tr>\n",
       "      <th>2</th>\n",
       "      <td>A</td>\n",
       "      <td>68</td>\n",
       "    </tr>\n",
       "    <tr>\n",
       "      <th>3</th>\n",
       "      <td>A</td>\n",
       "      <td>60</td>\n",
       "    </tr>\n",
       "    <tr>\n",
       "      <th>4</th>\n",
       "      <td>A</td>\n",
       "      <td>78</td>\n",
       "    </tr>\n",
       "  </tbody>\n",
       "</table>\n",
       "</div>"
      ]
     },
     "execution_count": 5,
     "metadata": {},
     "output_type": "execute_result"
    }
   ],
   "execution_count": 5
  },
  {
   "metadata": {
    "ExecuteTime": {
     "end_time": "2025-06-17T11:49:35.128045Z",
     "start_time": "2025-06-17T11:49:35.114540Z"
    }
   },
   "cell_type": "code",
   "source": [
    "a = df2.loc[df2['class'] == 'A'].score\n",
    "b = df2.loc[df2['class'] == 'B'].score\n",
    "\n",
    "print(bartlett(a, b))\n",
    "\n",
    "print(fligner(a, b))\n",
    "print(fligner(a, b, center='mean'))\n",
    "\n",
    "print(levene(a, b))\n",
    "print(levene(a, b, center='mean'))"
   ],
   "id": "8f7b9e41f5981e25",
   "outputs": [
    {
     "name": "stdout",
     "output_type": "stream",
     "text": [
      "BartlettResult(statistic=np.float64(2.3704538494648717), pvalue=np.float64(0.1236510981809695))\n",
      "FlignerResult(statistic=np.float64(4.960366756026232), pvalue=np.float64(0.025934706256615564))\n",
      "FlignerResult(statistic=np.float64(4.94724457924667), pvalue=np.float64(0.026132286002684912))\n",
      "LeveneResult(statistic=np.float64(4.307122424591436), pvalue=np.float64(0.03848734007752694))\n",
      "LeveneResult(statistic=np.float64(4.342327020297874), pvalue=np.float64(0.0377066528874248))\n"
     ]
    }
   ],
   "execution_count": 7
  },
  {
   "metadata": {
    "ExecuteTime": {
     "end_time": "2025-06-17T11:53:10.432574Z",
     "start_time": "2025-06-17T11:53:10.423865Z"
    }
   },
   "cell_type": "code",
   "source": [
    "# 어느 등분산검정을 사용해야 할 지 정규성 검정\n",
    "from scipy.stats import shapiro\n",
    "import matplotlib.pyplot as plt\n",
    "\n",
    "print(shapiro(a))\n",
    "print(shapiro(b))\n",
    "# 둘다 정규성을 만족하지 않기 때문에 등분산이 아니다."
   ],
   "id": "c63f6e9d06ad1a37",
   "outputs": [
    {
     "name": "stdout",
     "output_type": "stream",
     "text": [
      "ShapiroResult(statistic=np.float64(0.9444754271085016), pvalue=np.float64(3.3292545415582034e-09))\n",
      "ShapiroResult(statistic=np.float64(0.9614473879380296), pvalue=np.float64(7.40068085437959e-05))\n"
     ]
    }
   ],
   "execution_count": 14
  },
  {
   "metadata": {
    "ExecuteTime": {
     "end_time": "2025-06-17T11:54:50.490532Z",
     "start_time": "2025-06-17T11:54:50.057028Z"
    }
   },
   "cell_type": "code",
   "source": [
    "df3 = pd.read_csv('https://raw.githubusercontent.com/Datamanim/datarepo/main/scipy/scipy6.csv')\n",
    "df3.head()"
   ],
   "id": "353357fdac7180e7",
   "outputs": [
    {
     "data": {
      "text/plain": [
       "    A   B\n",
       "0  44  36\n",
       "1  61  92\n",
       "2  76  41\n",
       "3  64  45\n",
       "4  65  35"
      ],
      "text/html": [
       "<div>\n",
       "<style scoped>\n",
       "    .dataframe tbody tr th:only-of-type {\n",
       "        vertical-align: middle;\n",
       "    }\n",
       "\n",
       "    .dataframe tbody tr th {\n",
       "        vertical-align: top;\n",
       "    }\n",
       "\n",
       "    .dataframe thead th {\n",
       "        text-align: right;\n",
       "    }\n",
       "</style>\n",
       "<table border=\"1\" class=\"dataframe\">\n",
       "  <thead>\n",
       "    <tr style=\"text-align: right;\">\n",
       "      <th></th>\n",
       "      <th>A</th>\n",
       "      <th>B</th>\n",
       "    </tr>\n",
       "  </thead>\n",
       "  <tbody>\n",
       "    <tr>\n",
       "      <th>0</th>\n",
       "      <td>44</td>\n",
       "      <td>36</td>\n",
       "    </tr>\n",
       "    <tr>\n",
       "      <th>1</th>\n",
       "      <td>61</td>\n",
       "      <td>92</td>\n",
       "    </tr>\n",
       "    <tr>\n",
       "      <th>2</th>\n",
       "      <td>76</td>\n",
       "      <td>41</td>\n",
       "    </tr>\n",
       "    <tr>\n",
       "      <th>3</th>\n",
       "      <td>64</td>\n",
       "      <td>45</td>\n",
       "    </tr>\n",
       "    <tr>\n",
       "      <th>4</th>\n",
       "      <td>65</td>\n",
       "      <td>35</td>\n",
       "    </tr>\n",
       "  </tbody>\n",
       "</table>\n",
       "</div>"
      ]
     },
     "execution_count": 15,
     "metadata": {},
     "output_type": "execute_result"
    }
   ],
   "execution_count": 15
  },
  {
   "metadata": {
    "ExecuteTime": {
     "end_time": "2025-06-17T11:56:55.311745Z",
     "start_time": "2025-06-17T11:56:55.295650Z"
    }
   },
   "cell_type": "code",
   "source": [
    "a = df3['A']\n",
    "b = df3['B']\n",
    "\n",
    "print(shapiro(a))\n",
    "print(shapiro(b))\n",
    "\n",
    "# 둘다 정규성이 아님\n",
    "\n",
    "print(fligner(a, b))\n",
    "print(fligner(a, b, center='mean'))\n",
    "\n",
    "print(levene(a, b))\n",
    "print(levene(a, b, center='mean'))\n",
    "\n",
    "# 등분산이 아님"
   ],
   "id": "cbec1f8cd1ddcd7",
   "outputs": [
    {
     "name": "stdout",
     "output_type": "stream",
     "text": [
      "ShapiroResult(statistic=np.float64(0.9648516963105735), pvalue=np.float64(0.00016996019402372203))\n",
      "ShapiroResult(statistic=np.float64(0.937163224334274), pvalue=np.float64(4.4990308189064326e-07))\n",
      "FlignerResult(statistic=np.float64(5.124831619122788), pvalue=np.float64(0.023585858890699054))\n",
      "FlignerResult(statistic=np.float64(6.08420814282746), pvalue=np.float64(0.01363954875460099))\n",
      "LeveneResult(statistic=np.float64(5.147914610463281), pvalue=np.float64(0.023868975493455683))\n",
      "LeveneResult(statistic=np.float64(5.783103950473267), pvalue=np.float64(0.016687980542371833))\n"
     ]
    }
   ],
   "execution_count": 18
  },
  {
   "metadata": {
    "ExecuteTime": {
     "end_time": "2025-06-17T11:57:12.844732Z",
     "start_time": "2025-06-17T11:57:12.442085Z"
    }
   },
   "cell_type": "code",
   "source": [
    "df4 = pd.read_csv('https://raw.githubusercontent.com/Datamanim/datarepo/main/scipy/scipy5.csv')\n",
    "df4.head()"
   ],
   "id": "3da3b55339aff376",
   "outputs": [
    {
     "data": {
      "text/plain": [
       "    A     B\n",
       "0  74  30.0\n",
       "1  30  59.0\n",
       "2  35  69.0\n",
       "3  45  88.0\n",
       "4  74  68.0"
      ],
      "text/html": [
       "<div>\n",
       "<style scoped>\n",
       "    .dataframe tbody tr th:only-of-type {\n",
       "        vertical-align: middle;\n",
       "    }\n",
       "\n",
       "    .dataframe tbody tr th {\n",
       "        vertical-align: top;\n",
       "    }\n",
       "\n",
       "    .dataframe thead th {\n",
       "        text-align: right;\n",
       "    }\n",
       "</style>\n",
       "<table border=\"1\" class=\"dataframe\">\n",
       "  <thead>\n",
       "    <tr style=\"text-align: right;\">\n",
       "      <th></th>\n",
       "      <th>A</th>\n",
       "      <th>B</th>\n",
       "    </tr>\n",
       "  </thead>\n",
       "  <tbody>\n",
       "    <tr>\n",
       "      <th>0</th>\n",
       "      <td>74</td>\n",
       "      <td>30.0</td>\n",
       "    </tr>\n",
       "    <tr>\n",
       "      <th>1</th>\n",
       "      <td>30</td>\n",
       "      <td>59.0</td>\n",
       "    </tr>\n",
       "    <tr>\n",
       "      <th>2</th>\n",
       "      <td>35</td>\n",
       "      <td>69.0</td>\n",
       "    </tr>\n",
       "    <tr>\n",
       "      <th>3</th>\n",
       "      <td>45</td>\n",
       "      <td>88.0</td>\n",
       "    </tr>\n",
       "    <tr>\n",
       "      <th>4</th>\n",
       "      <td>74</td>\n",
       "      <td>68.0</td>\n",
       "    </tr>\n",
       "  </tbody>\n",
       "</table>\n",
       "</div>"
      ]
     },
     "execution_count": 19,
     "metadata": {},
     "output_type": "execute_result"
    }
   ],
   "execution_count": 19
  },
  {
   "metadata": {
    "ExecuteTime": {
     "end_time": "2025-06-17T12:01:59.344476Z",
     "start_time": "2025-06-17T12:01:59.337477Z"
    }
   },
   "cell_type": "code",
   "source": [
    "a = df4['A']\n",
    "b = df4['B']\n",
    "\n",
    "print(shapiro(a))\n",
    "print(shapiro(b.dropna()))"
   ],
   "id": "e34952b4d674cd87",
   "outputs": [
    {
     "name": "stdout",
     "output_type": "stream",
     "text": [
      "ShapiroResult(statistic=np.float64(0.9375393672524898), pvalue=np.float64(6.175255664337991e-10))\n",
      "ShapiroResult(statistic=np.float64(0.9639432320175103), pvalue=np.float64(0.0001356810116492406))\n"
     ]
    }
   ],
   "execution_count": 25
  },
  {
   "metadata": {
    "ExecuteTime": {
     "end_time": "2025-06-17T12:03:41.976646Z",
     "start_time": "2025-06-17T12:03:41.965032Z"
    }
   },
   "cell_type": "code",
   "source": [
    "print(fligner(a, b.dropna()))\n",
    "print(fligner(a, b.dropna(), center='mean'))\n",
    "\n",
    "print(levene(a, b.dropna()))\n",
    "print(levene(a, b.dropna(), center='mean'))"
   ],
   "id": "5823195150bdc11f",
   "outputs": [
    {
     "name": "stdout",
     "output_type": "stream",
     "text": [
      "FlignerResult(statistic=np.float64(7.710320541528441), pvalue=np.float64(0.005490600130793619))\n",
      "FlignerResult(statistic=np.float64(7.866701415553152), pvalue=np.float64(0.005035342411464087))\n",
      "LeveneResult(statistic=np.float64(8.008595918808284), pvalue=np.float64(0.004851565077063284))\n",
      "LeveneResult(statistic=np.float64(8.217541809462276), pvalue=np.float64(0.004331841625789694))\n"
     ]
    }
   ],
   "execution_count": 27
  }
 ],
 "metadata": {
  "kernelspec": {
   "display_name": "Python 3",
   "language": "python",
   "name": "python3"
  },
  "language_info": {
   "codemirror_mode": {
    "name": "ipython",
    "version": 2
   },
   "file_extension": ".py",
   "mimetype": "text/x-python",
   "name": "python",
   "nbconvert_exporter": "python",
   "pygments_lexer": "ipython2",
   "version": "2.7.6"
  }
 },
 "nbformat": 4,
 "nbformat_minor": 5
}
