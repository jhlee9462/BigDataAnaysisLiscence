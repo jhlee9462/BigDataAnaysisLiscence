{
 "cells": [
  {
   "cell_type": "code",
   "id": "initial_id",
   "metadata": {
    "collapsed": true,
    "ExecuteTime": {
     "end_time": "2025-06-18T14:11:42.464706Z",
     "start_time": "2025-06-18T14:11:42.119560Z"
    }
   },
   "source": [
    "import pandas as pd\n",
    "\n",
    "df = pd.read_csv('https://raw.githubusercontent.com/Datamanim/datarepo/main/scipy/anova8.csv')"
   ],
   "outputs": [],
   "execution_count": 1
  },
  {
   "metadata": {
    "ExecuteTime": {
     "end_time": "2025-06-18T14:12:08.337194Z",
     "start_time": "2025-06-18T14:12:08.334081Z"
    }
   },
   "cell_type": "code",
   "source": [
    "a = df.loc[df['target'] == 'a'].value\n",
    "b = df.loc[df['target'] == 'b'].value\n",
    "c = df.loc[df['target'] == 'c'].value"
   ],
   "id": "c1c2063b38cb46bf",
   "outputs": [],
   "execution_count": 3
  },
  {
   "metadata": {
    "ExecuteTime": {
     "end_time": "2025-06-18T14:12:28.942598Z",
     "start_time": "2025-06-18T14:12:28.547017Z"
    }
   },
   "cell_type": "code",
   "source": [
    "from scipy.stats import shapiro\n",
    "\n",
    "print(shapiro(a))\n",
    "print(shapiro(b))\n",
    "print(shapiro(c))"
   ],
   "id": "ec349a2320791655",
   "outputs": [
    {
     "name": "stdout",
     "output_type": "stream",
     "text": [
      "ShapiroResult(statistic=np.float64(0.9666388297341101), pvalue=np.float64(0.012298266516036943))\n",
      "ShapiroResult(statistic=np.float64(0.9713969635078135), pvalue=np.float64(0.10933867777525164))\n",
      "ShapiroResult(statistic=np.float64(0.9651248156868224), pvalue=np.float64(0.4156646679282519))\n"
     ]
    }
   ],
   "execution_count": 4
  },
  {
   "metadata": {
    "ExecuteTime": {
     "end_time": "2025-06-18T14:12:52.161213Z",
     "start_time": "2025-06-18T14:12:52.157212Z"
    }
   },
   "cell_type": "code",
   "source": [
    "from scipy.stats import levene\n",
    "\n",
    "print(levene(a, b, c))"
   ],
   "id": "2707012ca71db5bc",
   "outputs": [
    {
     "name": "stdout",
     "output_type": "stream",
     "text": [
      "LeveneResult(statistic=np.float64(1.4817966330841852), pvalue=np.float64(0.2297504921313145))\n"
     ]
    }
   ],
   "execution_count": 6
  },
  {
   "metadata": {
    "ExecuteTime": {
     "end_time": "2025-06-18T14:14:05.261509Z",
     "start_time": "2025-06-18T14:14:05.256716Z"
    }
   },
   "cell_type": "code",
   "source": [
    "from scipy.stats import kruskal\n",
    "\n",
    "print(kruskal(a, b, c))"
   ],
   "id": "68ab6112ccf396dd",
   "outputs": [
    {
     "name": "stdout",
     "output_type": "stream",
     "text": [
      "KruskalResult(statistic=np.float64(6.9277037668798584), pvalue=np.float64(0.03130893110123))\n"
     ]
    }
   ],
   "execution_count": 7
  }
 ],
 "metadata": {
  "kernelspec": {
   "display_name": "Python 3",
   "language": "python",
   "name": "python3"
  },
  "language_info": {
   "codemirror_mode": {
    "name": "ipython",
    "version": 2
   },
   "file_extension": ".py",
   "mimetype": "text/x-python",
   "name": "python",
   "nbconvert_exporter": "python",
   "pygments_lexer": "ipython2",
   "version": "2.7.6"
  }
 },
 "nbformat": 4,
 "nbformat_minor": 5
}
