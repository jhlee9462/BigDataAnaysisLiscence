{
 "cells": [
  {
   "cell_type": "code",
   "id": "initial_id",
   "metadata": {
    "collapsed": true,
    "ExecuteTime": {
     "end_time": "2025-06-17T11:17:35.299649Z",
     "start_time": "2025-06-17T11:17:34.834696Z"
    }
   },
   "source": [
    "import pandas as pd\n",
    "df = pd.read_csv('https://raw.githubusercontent.com/Datamanim/datarepo/main/scipy/height1.csv')"
   ],
   "outputs": [],
   "execution_count": 2
  },
  {
   "metadata": {
    "ExecuteTime": {
     "end_time": "2025-06-17T11:19:13.481809Z",
     "start_time": "2025-06-17T11:19:13.475335Z"
    }
   },
   "cell_type": "code",
   "source": [
    "from scipy.stats import shapiro\n",
    "\n",
    "static, pvalue = shapiro(df)\n",
    "# 정규성 가짐"
   ],
   "id": "47129b54ac87ad7",
   "outputs": [],
   "execution_count": 5
  },
  {
   "metadata": {
    "ExecuteTime": {
     "end_time": "2025-06-17T11:26:22.345358Z",
     "start_time": "2025-06-17T11:26:22.315403Z"
    }
   },
   "cell_type": "code",
   "source": [
    "from scipy.stats import wilcoxon\n",
    "from scipy.stats import ttest_1samp\n",
    "\n",
    "if pvalue < 0.05:\n",
    "    print('귀무가설을 기각한다. 정규성을 만족하지 않으므로 비모수검정을 진행한다. 윌콕슨 순위 부호 검정을 진행한다.\\n')\n",
    "    print('윌콕슨 순위 부호 검정의 귀무가설은 \"100명 키의 평균은 165이다.\" 이며 대립가설은 \"100명 키의 평균은 165가 아니다.\" 이다')\n",
    "\n",
    "    # 윌콕슨 부호순위 검정\n",
    "    static, pvalue = wilcoxon(df['height'] - 165)\n",
    "\n",
    "    if pvalue < 0.05:\n",
    "        print(f'검정 결과 pvalue는 {pvalue}로 결과는 귀무가설을 기각하고 대립가설을 채택한다.')\n",
    "    else:\n",
    "        print(f'검정 결과 pvalue는 {pvalue}로 결과는 귀무가설을 기각하지 않는다.')\n",
    "else:\n",
    "    print('귀무가설을 기각하지 않는다. 정규성을 만족하므로 단일표본 검정으로 확인한다.\\n')\n",
    "    print('단일표본 t-test의 귀무가설은 \"100명 키의 평균은 165이다.\" 이며 대립가설은 \"100명 키의 평균은 165가 아니다.\" 이다')\n",
    "\n",
    "    # 단일표본 t 검정\n",
    "    static, pvalue = ttest_1samp(df['height'], 165)\n",
    "    if pvalue < 0.05:\n",
    "        print(f'검정 결과 pvalue는 {pvalue}로 결과는 귀무가설을 기각하고 대립가설을 채택한다.')\n",
    "    else:\n",
    "        print(f'검정 결과 pvalue는 {pvalue}로 결과는 귀무가설을 기각하지 않는다.')"
   ],
   "id": "451c67288c188bb6",
   "outputs": [
    {
     "name": "stdout",
     "output_type": "stream",
     "text": [
      "귀무가설을 기각한다. 정규성을 만족하지 않으므로 비모수검정을 진행한다. 윌콕슨 순위 부호 검정을 진행한다.\n",
      "\n",
      "윌콕슨 순위 부호 검정의 귀무가설은 \"100명 키의 평균은 165이다.\" 이며 대립가설은 \"100명 키의 평균은 165가 아니다.\" 이다\n",
      "검정 결과 pvalue는 0.002654951754186932로 결과는 귀무가설을 기각하고 대립가설을 채택한다.\n"
     ]
    }
   ],
   "execution_count": 10
  },
  {
   "metadata": {
    "ExecuteTime": {
     "end_time": "2025-06-17T11:35:45.586245Z",
     "start_time": "2025-06-17T11:35:45.485218Z"
    }
   },
   "cell_type": "code",
   "source": [
    "df2 = pd.read_csv('https://raw.githubusercontent.com/Datamanim/datarepo/main/scipy/height2.csv')\n",
    "\n",
    "stats, pvalue = shapiro(df2)\n",
    "\n",
    "if pvalue < 0.05:\n",
    "    print('정규성을 만족하지 않기 때문에 윌콕슨 부호순위 검정으로 진행')\n",
    "\n",
    "    stats, pvalue = wilcoxon(df2['height'] - 165)\n",
    "    if pvalue < 0.05:\n",
    "        print(f'pvalue가 {pvalue} 이므로 신장의 평균은 165가 아니다')\n",
    "    else:\n",
    "        print(f'pvalue 가 {pvalue} 이므로 신장의 평균은 165이다.')\n",
    "else:\n",
    "    print('정규성을 만족하므로 단일표본 t검정으로 진행한다.')\n",
    "\n",
    "    stats, pvalue = ttest_1samp(df2['height'], 165)\n",
    "    if pvalue < 0.05:\n",
    "        print(f'pvalue 가 {pvalue} 이므로 신장의 평균은 165가 아니다.')\n",
    "    else:\n",
    "        print(f'pvalue 가 {pvalue} 이므로 신장의 평균은 165이다.')"
   ],
   "id": "16177c2eaf197c94",
   "outputs": [
    {
     "name": "stdout",
     "output_type": "stream",
     "text": [
      "정규성을 만족하지 않기 때문에 윌콕슨 부호순위 검정으로 진행\n",
      "pvalue가 0.04880534424649582 이므로 신장의 평균은 165가 아니다\n"
     ]
    }
   ],
   "execution_count": 12
  }
 ],
 "metadata": {
  "kernelspec": {
   "display_name": "Python 3",
   "language": "python",
   "name": "python3"
  },
  "language_info": {
   "codemirror_mode": {
    "name": "ipython",
    "version": 2
   },
   "file_extension": ".py",
   "mimetype": "text/x-python",
   "name": "python",
   "nbconvert_exporter": "python",
   "pygments_lexer": "ipython2",
   "version": "2.7.6"
  }
 },
 "nbformat": 4,
 "nbformat_minor": 5
}
