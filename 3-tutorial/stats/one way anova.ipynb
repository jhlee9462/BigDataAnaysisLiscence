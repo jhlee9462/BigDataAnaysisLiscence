{
 "cells": [
  {
   "cell_type": "code",
   "id": "initial_id",
   "metadata": {
    "collapsed": true,
    "ExecuteTime": {
     "end_time": "2025-06-18T13:53:50.376521Z",
     "start_time": "2025-06-18T13:53:50.327257Z"
    }
   },
   "source": [
    "import pandas as pd\n",
    "\n",
    "df = pd.read_csv('https://raw.githubusercontent.com/Datamanim/datarepo/main/scipy/anova.csv')\n",
    "x1 = df['x1']\n",
    "x2 = df['x2']\n",
    "x3 = df['x3']"
   ],
   "outputs": [],
   "execution_count": 2
  },
  {
   "metadata": {
    "ExecuteTime": {
     "end_time": "2025-06-18T13:57:09.874344Z",
     "start_time": "2025-06-18T13:57:09.870311Z"
    }
   },
   "cell_type": "code",
   "source": [
    "from scipy.stats import shapiro\n",
    "\n",
    "print(shapiro(x1))\n",
    "print(shapiro(x2))\n",
    "print(shapiro(x3))"
   ],
   "id": "b0a6d12765901d7c",
   "outputs": [
    {
     "name": "stdout",
     "output_type": "stream",
     "text": [
      "ShapiroResult(statistic=np.float64(0.9979788298494764), pvalue=np.float64(0.2738821682925542))\n",
      "ShapiroResult(statistic=np.float64(0.9979405734527411), pvalue=np.float64(0.258638423485651))\n",
      "ShapiroResult(statistic=np.float64(0.9987614343270527), pvalue=np.float64(0.7296135015353247))\n"
     ]
    }
   ],
   "execution_count": 5
  },
  {
   "metadata": {
    "ExecuteTime": {
     "end_time": "2025-06-18T13:58:47.795004Z",
     "start_time": "2025-06-18T13:58:47.791004Z"
    }
   },
   "cell_type": "code",
   "source": [
    "from scipy.stats import levene\n",
    "\n",
    "print(levene(x1, x2, x3))"
   ],
   "id": "c14932923dade93a",
   "outputs": [
    {
     "name": "stdout",
     "output_type": "stream",
     "text": [
      "LeveneResult(statistic=np.float64(2.71270174202054), pvalue=np.float64(0.06652021922816238))\n"
     ]
    }
   ],
   "execution_count": 8
  },
  {
   "metadata": {
    "ExecuteTime": {
     "end_time": "2025-06-18T14:02:27.701931Z",
     "start_time": "2025-06-18T14:02:27.686082Z"
    }
   },
   "cell_type": "code",
   "source": [
    "# anova 방법 1\n",
    "from statsmodels.formula.api import ols\n",
    "from statsmodels.stats.anova import anova_lm\n",
    "dfm = df.melt()\n",
    "model = ols('value ~ C(variable)', dfm).fit()\n",
    "print(anova_lm(model))"
   ],
   "id": "b00c3003300bfe15",
   "outputs": [
    {
     "name": "stdout",
     "output_type": "stream",
     "text": [
      "                 df        sum_sq       mean_sq           F        PR(>F)\n",
      "C(variable)     2.0  3.774347e+06  1.887173e+06  209.884999  4.919153e-86\n",
      "Residual     2997.0  2.694742e+07  8.991464e+03         NaN           NaN\n"
     ]
    }
   ],
   "execution_count": 11
  },
  {
   "metadata": {
    "ExecuteTime": {
     "end_time": "2025-06-18T14:04:22.144208Z",
     "start_time": "2025-06-18T14:04:22.140192Z"
    }
   },
   "cell_type": "code",
   "source": [
    "from scipy.stats import f_oneway\n",
    "\n",
    "print(f_oneway(x1, x2, x3))"
   ],
   "id": "8ef74da25e599e0e",
   "outputs": [
    {
     "name": "stdout",
     "output_type": "stream",
     "text": [
      "F_onewayResult(statistic=np.float64(209.88499932318638), pvalue=np.float64(4.919152988455592e-86))\n"
     ]
    }
   ],
   "execution_count": 13
  },
  {
   "metadata": {
    "ExecuteTime": {
     "end_time": "2025-06-18T14:06:38.190032Z",
     "start_time": "2025-06-18T14:06:37.865737Z"
    }
   },
   "cell_type": "code",
   "source": "df2 = pd.read_csv('https://raw.githubusercontent.com/Datamanim/datarepo/main/scipy/anova2.csv')",
   "id": "f3f857966a152d87",
   "outputs": [],
   "execution_count": 14
  },
  {
   "metadata": {
    "ExecuteTime": {
     "end_time": "2025-06-18T14:06:57.314410Z",
     "start_time": "2025-06-18T14:06:57.311304Z"
    }
   },
   "cell_type": "code",
   "source": [
    "x1 = df2.x1\n",
    "x2 = df2.x2\n",
    "x3 = df2.x3"
   ],
   "id": "a81681ed9a0deb51",
   "outputs": [],
   "execution_count": 16
  },
  {
   "metadata": {
    "ExecuteTime": {
     "end_time": "2025-06-18T14:07:33.138394Z",
     "start_time": "2025-06-18T14:07:33.134885Z"
    }
   },
   "cell_type": "code",
   "source": [
    "print(shapiro(x1))\n",
    "print(shapiro(x2))\n",
    "print(shapiro(x3))"
   ],
   "id": "26067f7a3c6c6d8f",
   "outputs": [
    {
     "name": "stdout",
     "output_type": "stream",
     "text": [
      "ShapiroResult(statistic=np.float64(0.988664777867733), pvalue=np.float64(0.5584350522581619))\n",
      "ShapiroResult(statistic=np.float64(0.9924365163622655), pvalue=np.float64(0.8518772120283804))\n",
      "ShapiroResult(statistic=np.float64(0.9848725344234199), pvalue=np.float64(0.3109309689645686))\n"
     ]
    }
   ],
   "execution_count": 18
  },
  {
   "metadata": {
    "ExecuteTime": {
     "end_time": "2025-06-18T14:08:04.935019Z",
     "start_time": "2025-06-18T14:08:04.929626Z"
    }
   },
   "cell_type": "code",
   "source": "print(levene(x1, x2, x3))",
   "id": "6b788f1dc13da6f",
   "outputs": [
    {
     "name": "stdout",
     "output_type": "stream",
     "text": [
      "LeveneResult(statistic=np.float64(1.845797549925243), pvalue=np.float64(0.15970603203148068))\n"
     ]
    }
   ],
   "execution_count": 20
  },
  {
   "metadata": {
    "ExecuteTime": {
     "end_time": "2025-06-18T14:08:56.465952Z",
     "start_time": "2025-06-18T14:08:56.462449Z"
    }
   },
   "cell_type": "code",
   "source": "print(f_oneway(x1, x2, x3))",
   "id": "11a21b4926ee9234",
   "outputs": [
    {
     "name": "stdout",
     "output_type": "stream",
     "text": [
      "F_onewayResult(statistic=np.float64(2.386152612702158), pvalue=np.float64(0.09374426938585284))\n"
     ]
    }
   ],
   "execution_count": 22
  }
 ],
 "metadata": {
  "kernelspec": {
   "display_name": "Python 3",
   "language": "python",
   "name": "python3"
  },
  "language_info": {
   "codemirror_mode": {
    "name": "ipython",
    "version": 2
   },
   "file_extension": ".py",
   "mimetype": "text/x-python",
   "name": "python",
   "nbconvert_exporter": "python",
   "pygments_lexer": "ipython2",
   "version": "2.7.6"
  }
 },
 "nbformat": 4,
 "nbformat_minor": 5
}
