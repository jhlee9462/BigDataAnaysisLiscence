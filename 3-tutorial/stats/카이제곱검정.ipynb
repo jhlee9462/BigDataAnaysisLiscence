{
 "cells": [
  {
   "cell_type": "code",
   "id": "initial_id",
   "metadata": {
    "collapsed": true,
    "ExecuteTime": {
     "end_time": "2025-06-18T13:16:05.449168Z",
     "start_time": "2025-06-18T13:16:05.415975Z"
    }
   },
   "source": [
    "import pandas as pd\n",
    "\n",
    "df = pd.read_csv('https://raw.githubusercontent.com/Datamanim/datarepo/main/scipy/dice.csv')"
   ],
   "outputs": [],
   "execution_count": 2
  },
  {
   "metadata": {
    "ExecuteTime": {
     "end_time": "2025-06-18T13:22:21.800314Z",
     "start_time": "2025-06-18T13:22:21.796626Z"
    }
   },
   "cell_type": "code",
   "source": [
    "from scipy.stats import chisquare\n",
    "df['expected'] = (df['counts'].sum()/6).astype('int')\n",
    "print(chisquare(df['counts'], df['expected']))"
   ],
   "id": "de6b4f304e24c336",
   "outputs": [
    {
     "name": "stdout",
     "output_type": "stream",
     "text": [
      "Power_divergenceResult(statistic=np.float64(2.333333333333333), pvalue=np.float64(0.8013589222076911))\n"
     ]
    }
   ],
   "execution_count": 9
  },
  {
   "metadata": {
    "ExecuteTime": {
     "end_time": "2025-06-18T13:34:33.573048Z",
     "start_time": "2025-06-18T13:34:33.542597Z"
    }
   },
   "cell_type": "code",
   "source": [
    "df2 = pd.read_csv('https://raw.githubusercontent.com/Datamanim/datarepo/main/scipy/hands2.csv')\n",
    "target = df2.hands.value_counts().to_frame()\n",
    "target['expected'] = [int(target['count'].sum()*0.8), int(target['count'].sum()*0.2)]\n",
    "\n",
    "print(chisquare(target['count'], target['expected']))"
   ],
   "id": "99b3ee10ccdb84d6",
   "outputs": [
    {
     "name": "stdout",
     "output_type": "stream",
     "text": [
      "Power_divergenceResult(statistic=np.float64(5.0), pvalue=np.float64(0.025347318677468325))\n"
     ]
    }
   ],
   "execution_count": 41
  },
  {
   "metadata": {
    "ExecuteTime": {
     "end_time": "2025-06-18T13:39:59.080473Z",
     "start_time": "2025-06-18T13:39:58.709006Z"
    }
   },
   "cell_type": "code",
   "source": [
    "df3 = pd.read_csv('https://raw.githubusercontent.com/Datamanim/datarepo/main/body/body.csv')\n",
    "cdf = pd.crosstab(df3['측정회원성별'], df3['등급'])"
   ],
   "id": "e3e5fd2035f6969b",
   "outputs": [],
   "execution_count": 47
  },
  {
   "metadata": {
    "ExecuteTime": {
     "end_time": "2025-06-18T13:42:24.579696Z",
     "start_time": "2025-06-18T13:42:24.575695Z"
    }
   },
   "cell_type": "code",
   "source": [
    "from scipy.stats import chi2_contingency\n",
    "\n",
    "print(chi2_contingency(cdf))"
   ],
   "id": "604682cad8ab144e",
   "outputs": [
    {
     "name": "stdout",
     "output_type": "stream",
     "text": [
      "Chi2ContingencyResult(statistic=np.float64(120.06233631119409), pvalue=np.float64(7.481892813401677e-26), dof=3, expected_freq=array([[1220.25, 1220.25, 1220.25, 1220.25],\n",
      "       [2128.75, 2128.75, 2128.75, 2128.75]]))\n"
     ]
    }
   ],
   "execution_count": 49
  },
  {
   "metadata": {
    "ExecuteTime": {
     "end_time": "2025-06-18T13:45:51.825134Z",
     "start_time": "2025-06-18T13:45:51.795977Z"
    }
   },
   "cell_type": "code",
   "source": [
    "df4 = pd.read_csv('https://raw.githubusercontent.com/Datamanim/datarepo/main/scipy/fe2.csv', index_col=0)\n",
    "target = df4.iloc[:2, :2]\n",
    "print(chi2_contingency(target))"
   ],
   "id": "b3a0ab09454372fc",
   "outputs": [
    {
     "name": "stdout",
     "output_type": "stream",
     "text": [
      "Chi2ContingencyResult(statistic=np.float64(3.277575757575758), pvalue=np.float64(0.07023259819117404), dof=1, expected_freq=array([[1.875, 4.125],\n",
      "       [3.125, 6.875]]))\n"
     ]
    }
   ],
   "execution_count": 54
  },
  {
   "metadata": {
    "ExecuteTime": {
     "end_time": "2025-06-18T13:46:21.426422Z",
     "start_time": "2025-06-18T13:46:21.422873Z"
    }
   },
   "cell_type": "code",
   "source": [
    "from scipy.stats import fisher_exact\n",
    "print(fisher_exact(target))"
   ],
   "id": "443825f0e149fd90",
   "outputs": [
    {
     "name": "stdout",
     "output_type": "stream",
     "text": [
      "SignificanceResult(statistic=np.float64(18.0), pvalue=np.float64(0.03571428571428571))\n"
     ]
    }
   ],
   "execution_count": 55
  }
 ],
 "metadata": {
  "kernelspec": {
   "display_name": "Python 3",
   "language": "python",
   "name": "python3"
  },
  "language_info": {
   "codemirror_mode": {
    "name": "ipython",
    "version": 2
   },
   "file_extension": ".py",
   "mimetype": "text/x-python",
   "name": "python",
   "nbconvert_exporter": "python",
   "pygments_lexer": "ipython2",
   "version": "2.7.6"
  }
 },
 "nbformat": 4,
 "nbformat_minor": 5
}
