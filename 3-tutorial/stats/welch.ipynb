{
 "cells": [
  {
   "cell_type": "code",
   "id": "initial_id",
   "metadata": {
    "collapsed": true,
    "ExecuteTime": {
     "end_time": "2025-06-18T14:15:15.610274Z",
     "start_time": "2025-06-18T14:15:15.036956Z"
    }
   },
   "source": [
    "import pandas as pd\n",
    "\n",
    "df = pd.read_csv('https://raw.githubusercontent.com/Datamanim/datarepo/main/scipy/anova10.csv')"
   ],
   "outputs": [],
   "execution_count": 1
  },
  {
   "metadata": {
    "ExecuteTime": {
     "end_time": "2025-06-18T14:15:41.697255Z",
     "start_time": "2025-06-18T14:15:41.693255Z"
    }
   },
   "cell_type": "code",
   "source": [
    "a = df.loc[df['target'] == 'a'].value\n",
    "b = df.loc[df['target'] == 'b'].value\n",
    "c = df.loc[df['target'] == 'c'].value"
   ],
   "id": "3eb5063241dbed9b",
   "outputs": [],
   "execution_count": 3
  },
  {
   "metadata": {
    "ExecuteTime": {
     "end_time": "2025-06-18T14:16:41.766158Z",
     "start_time": "2025-06-18T14:16:41.761861Z"
    }
   },
   "cell_type": "code",
   "source": [
    "from scipy.stats import shapiro, levene\n",
    "\n",
    "print(shapiro(a))\n",
    "print(shapiro(b))\n",
    "print(shapiro(c))\n",
    "print(levene(a, b, c))"
   ],
   "id": "757e6bcc59e6fb68",
   "outputs": [
    {
     "name": "stdout",
     "output_type": "stream",
     "text": [
      "ShapiroResult(statistic=np.float64(0.9835560238733011), pvalue=np.float64(0.24878117089120316))\n",
      "ShapiroResult(statistic=np.float64(0.9923040791468742), pvalue=np.float64(0.9479015039879972))\n",
      "ShapiroResult(statistic=np.float64(0.9523516941598332), pvalue=np.float64(0.19537124203843914))\n",
      "LeveneResult(statistic=np.float64(4.530341210288782), pvalue=np.float64(0.011923468290294031))\n"
     ]
    }
   ],
   "execution_count": 5
  },
  {
   "metadata": {
    "ExecuteTime": {
     "end_time": "2025-06-18T14:18:23.279659Z",
     "start_time": "2025-06-18T14:18:22.639321Z"
    }
   },
   "cell_type": "code",
   "source": [
    "import pingouin as pg\n",
    "print(pg.welch_anova(dv='value', between='target', data=df))"
   ],
   "id": "34467e78d788048f",
   "outputs": [
    {
     "name": "stdout",
     "output_type": "stream",
     "text": [
      "   Source  ddof1      ddof2         F     p-unc       np2\n",
      "0  target      2  69.100989  2.244923  0.113608  0.029613\n"
     ]
    }
   ],
   "execution_count": 6
  }
 ],
 "metadata": {
  "kernelspec": {
   "display_name": "Python 3",
   "language": "python",
   "name": "python3"
  },
  "language_info": {
   "codemirror_mode": {
    "name": "ipython",
    "version": 2
   },
   "file_extension": ".py",
   "mimetype": "text/x-python",
   "name": "python",
   "nbconvert_exporter": "python",
   "pygments_lexer": "ipython2",
   "version": "2.7.6"
  }
 },
 "nbformat": 4,
 "nbformat_minor": 5
}
